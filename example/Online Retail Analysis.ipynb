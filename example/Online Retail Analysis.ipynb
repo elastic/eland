{
 "cells": [
  {
   "cell_type": "code",
   "execution_count": 2,
   "metadata": {},
   "outputs": [],
   "source": [
    "import eland as ed\n",
    "import numpy as np"
   ]
  },
  {
   "cell_type": "markdown",
   "metadata": {},
   "source": [
    "# Exploratory Data Analysis with eland"
   ]
  },
  {
   "cell_type": "markdown",
   "metadata": {},
   "source": [
    "## Getting Started\n",
    "\n",
    "To get started, let's explore the attributes of the `online-retail` index. First, we'll instantiate the data frame by pointing the constructor to a particular instance in our local elasticsearch cluster. \n",
    "\n",
    "The `online-retail` index was created by running `python load_data.py` from the `examples` directory."
   ]
  },
  {
   "cell_type": "code",
   "execution_count": 3,
   "metadata": {},
   "outputs": [],
   "source": [
    "df = ed.read_es(\"http://localhost:9200\", \"online-retail\")"
   ]
  },
  {
   "cell_type": "markdown",
   "metadata": {},
   "source": [
    "Here we see that the `\"_id\"` field was used to index our data frame. "
   ]
  },
  {
   "cell_type": "code",
   "execution_count": 17,
   "metadata": {},
   "outputs": [
    {
     "data": {
      "text/plain": [
       "'_id'"
      ]
     },
     "execution_count": 17,
     "metadata": {},
     "output_type": "execute_result"
    }
   ],
   "source": [
    "df.index.index_field"
   ]
  },
  {
   "cell_type": "markdown",
   "metadata": {},
   "source": [
    "Next, we can check which field from elasticsearch are available to our eland data frame. `columns` is available as a parameter when instantiating the data frame which allows one to choose only a subset of fields from your index to be included in the data frame. Since we didn't set this parameter, we have access to all fields."
   ]
  },
  {
   "cell_type": "code",
   "execution_count": 19,
   "metadata": {},
   "outputs": [
    {
     "data": {
      "text/plain": [
       "Index(['country', 'customer_id', 'description', 'invoice_date', 'invoice_no',\n",
       "       'quantity', 'stock_code', 'unit_price'],\n",
       "      dtype='object')"
      ]
     },
     "execution_count": 19,
     "metadata": {},
     "output_type": "execute_result"
    }
   ],
   "source": [
    "df.columns"
   ]
  },
  {
   "cell_type": "markdown",
   "metadata": {},
   "source": [
    "Now, let's see the data types of our fields. Running `df.dtypes`, we can see that elasticsearch field types are mapped to pandas field types."
   ]
  },
  {
   "cell_type": "code",
   "execution_count": 20,
   "metadata": {},
   "outputs": [
    {
     "data": {
      "text/plain": [
       "country                 object\n",
       "customer_id             object\n",
       "description             object\n",
       "invoice_date    datetime64[ns]\n",
       "invoice_no              object\n",
       "quantity                 int64\n",
       "stock_code              object\n",
       "unit_price             float64\n",
       "dtype: object"
      ]
     },
     "execution_count": 20,
     "metadata": {},
     "output_type": "execute_result"
    }
   ],
   "source": [
    "df.dtypes"
   ]
  },
  {
   "cell_type": "markdown",
   "metadata": {},
   "source": [
    "We also offer a `.info_es()` data frame method that shows all info about the underlying index. It also contains information about operations being passed from data frame methods to elasticsearch. More on this later."
   ]
  },
  {
   "cell_type": "code",
   "execution_count": 70,
   "metadata": {},
   "outputs": [
    {
     "name": "stdout",
     "output_type": "stream",
     "text": [
      "index_pattern: online-retail\n",
      "Index:\n",
      "\tindex_field: _id\n",
      "\tis_source_field: False\n",
      "Mappings:\n",
      "\tcapabilities:               _source es_dtype        pd_dtype  searchable  aggregatable\n",
      "country          True  keyword          object        True          True\n",
      "customer_id      True  keyword          object        True          True\n",
      "description      True  keyword          object        True          True\n",
      "invoice_date     True     date  datetime64[ns]        True          True\n",
      "invoice_no       True  keyword          object        True          True\n",
      "quantity         True  integer           int64        True          True\n",
      "stock_code       True  keyword          object        True          True\n",
      "unit_price       True    float         float64        True          True\n",
      "Operations:\n",
      "\ttasks: []\n",
      "\tsize: None\n",
      "\tsort_params: None\n",
      "\tcolumns: None\n",
      "\tpost_processing: []\n",
      "\n"
     ]
    }
   ],
   "source": [
    "print(df.info_es())"
   ]
  },
  {
   "cell_type": "markdown",
   "metadata": {},
   "source": [
    "## Selecting and Indexing Data\n",
    "\n",
    "Now that we understand how to create a data frame and get access to it's underlying attributes, let's see how we can select subsets of our data."
   ]
  },
  {
   "cell_type": "markdown",
   "metadata": {},
   "source": [
    "### head and tail\n",
    "\n",
    "much like pandas, eland data frames offer `.head(n)` and `.tail(n)` methods that return the first and last n rows, respectively."
   ]
  },
  {
   "cell_type": "code",
   "execution_count": 44,
   "metadata": {},
   "outputs": [
    {
     "data": {
      "text/html": [
       "<div>\n",
       "<style scoped>\n",
       "    .dataframe tbody tr th:only-of-type {\n",
       "        vertical-align: middle;\n",
       "    }\n",
       "\n",
       "    .dataframe tbody tr th {\n",
       "        vertical-align: top;\n",
       "    }\n",
       "\n",
       "    .dataframe thead th {\n",
       "        text-align: right;\n",
       "    }\n",
       "</style>\n",
       "<table border=\"1\" class=\"dataframe\">\n",
       "  <thead>\n",
       "    <tr style=\"text-align: right;\">\n",
       "      <th></th>\n",
       "      <th>country</th>\n",
       "      <th>customer_id</th>\n",
       "      <th>description</th>\n",
       "      <th>invoice_date</th>\n",
       "      <th>invoice_no</th>\n",
       "      <th>quantity</th>\n",
       "      <th>stock_code</th>\n",
       "      <th>unit_price</th>\n",
       "    </tr>\n",
       "  </thead>\n",
       "  <tbody>\n",
       "    <tr>\n",
       "      <th>wXcVa24BUkfJ5hz0pRsL</th>\n",
       "      <td>United Kingdom</td>\n",
       "      <td>17850</td>\n",
       "      <td>WHITE HANGING HEART T-LIGHT HOLDER</td>\n",
       "      <td>2010-12-01 08:26:00</td>\n",
       "      <td>536365</td>\n",
       "      <td>6</td>\n",
       "      <td>85123A</td>\n",
       "      <td>2.55</td>\n",
       "    </tr>\n",
       "    <tr>\n",
       "      <th>wncVa24BUkfJ5hz0pRsL</th>\n",
       "      <td>United Kingdom</td>\n",
       "      <td>17850</td>\n",
       "      <td>WHITE METAL LANTERN</td>\n",
       "      <td>2010-12-01 08:26:00</td>\n",
       "      <td>536365</td>\n",
       "      <td>6</td>\n",
       "      <td>71053</td>\n",
       "      <td>3.39</td>\n",
       "    </tr>\n",
       "  </tbody>\n",
       "</table>\n",
       "</div>\n",
       "<p>2 rows x 8 columns</p>"
      ],
      "text/plain": [
       "                             country customer_id  \\\n",
       "wXcVa24BUkfJ5hz0pRsL  United Kingdom       17850   \n",
       "wncVa24BUkfJ5hz0pRsL  United Kingdom       17850   \n",
       "\n",
       "                                             description        invoice_date  \\\n",
       "wXcVa24BUkfJ5hz0pRsL  WHITE HANGING HEART T-LIGHT HOLDER 2010-12-01 08:26:00   \n",
       "wncVa24BUkfJ5hz0pRsL                 WHITE METAL LANTERN 2010-12-01 08:26:00   \n",
       "\n",
       "                     invoice_no quantity stock_code unit_price  \n",
       "wXcVa24BUkfJ5hz0pRsL     536365        6     85123A       2.55  \n",
       "wncVa24BUkfJ5hz0pRsL     536365        6      71053       3.39  \n",
       "\n",
       "[2 rows x 8 columns]"
      ]
     },
     "execution_count": 44,
     "metadata": {},
     "output_type": "execute_result"
    }
   ],
   "source": [
    "df.head(2)"
   ]
  },
  {
   "cell_type": "code",
   "execution_count": 23,
   "metadata": {},
   "outputs": [
    {
     "data": {
      "text/html": [
       "<div>\n",
       "<style scoped>\n",
       "    .dataframe tbody tr th:only-of-type {\n",
       "        vertical-align: middle;\n",
       "    }\n",
       "\n",
       "    .dataframe tbody tr th {\n",
       "        vertical-align: top;\n",
       "    }\n",
       "\n",
       "    .dataframe thead th {\n",
       "        text-align: right;\n",
       "    }\n",
       "</style>\n",
       "<table border=\"1\" class=\"dataframe\">\n",
       "  <thead>\n",
       "    <tr style=\"text-align: right;\">\n",
       "      <th></th>\n",
       "      <th>country</th>\n",
       "      <th>customer_id</th>\n",
       "      <th>description</th>\n",
       "      <th>invoice_date</th>\n",
       "      <th>invoice_no</th>\n",
       "      <th>quantity</th>\n",
       "      <th>stock_code</th>\n",
       "      <th>unit_price</th>\n",
       "    </tr>\n",
       "  </thead>\n",
       "  <tbody>\n",
       "    <tr>\n",
       "      <th>vXgVa24BUkfJ5hz0txvj</th>\n",
       "      <td>United Kingdom</td>\n",
       "      <td></td>\n",
       "      <td>MULTICOLOUR HONEYCOMB FAN</td>\n",
       "      <td>2011-01-20 18:08:00</td>\n",
       "      <td>541696</td>\n",
       "      <td>1</td>\n",
       "      <td>21209</td>\n",
       "      <td>1.63</td>\n",
       "    </tr>\n",
       "    <tr>\n",
       "      <th>vngVa24BUkfJ5hz0txvj</th>\n",
       "      <td>United Kingdom</td>\n",
       "      <td></td>\n",
       "      <td>PACK OF 72 RETROSPOT CAKE CASES</td>\n",
       "      <td>2011-01-20 18:08:00</td>\n",
       "      <td>541696</td>\n",
       "      <td>1</td>\n",
       "      <td>21212</td>\n",
       "      <td>1.25</td>\n",
       "    </tr>\n",
       "  </tbody>\n",
       "</table>\n",
       "</div>\n",
       "<p>2 rows x 8 columns</p>"
      ],
      "text/plain": [
       "                             country customer_id  \\\n",
       "vXgVa24BUkfJ5hz0txvj  United Kingdom               \n",
       "vngVa24BUkfJ5hz0txvj  United Kingdom               \n",
       "\n",
       "                                          description        invoice_date  \\\n",
       "vXgVa24BUkfJ5hz0txvj        MULTICOLOUR HONEYCOMB FAN 2011-01-20 18:08:00   \n",
       "vngVa24BUkfJ5hz0txvj  PACK OF 72 RETROSPOT CAKE CASES 2011-01-20 18:08:00   \n",
       "\n",
       "                     invoice_no quantity stock_code unit_price  \n",
       "vXgVa24BUkfJ5hz0txvj     541696        1      21209       1.63  \n",
       "vngVa24BUkfJ5hz0txvj     541696        1      21212       1.25  \n",
       "\n",
       "[2 rows x 8 columns]"
      ]
     },
     "execution_count": 23,
     "metadata": {},
     "output_type": "execute_result"
    }
   ],
   "source": [
    "df.tail(2)"
   ]
  },
  {
   "cell_type": "markdown",
   "metadata": {},
   "source": [
    "### selecting columns\n",
    "\n",
    "you can also pass a list of columns to select columns from the data frame in a specified order."
   ]
  },
  {
   "cell_type": "code",
   "execution_count": 56,
   "metadata": {},
   "outputs": [
    {
     "data": {
      "text/html": [
       "<div>\n",
       "<style scoped>\n",
       "    .dataframe tbody tr th:only-of-type {\n",
       "        vertical-align: middle;\n",
       "    }\n",
       "\n",
       "    .dataframe tbody tr th {\n",
       "        vertical-align: top;\n",
       "    }\n",
       "\n",
       "    .dataframe thead th {\n",
       "        text-align: right;\n",
       "    }\n",
       "</style>\n",
       "<table border=\"1\" class=\"dataframe\">\n",
       "  <thead>\n",
       "    <tr style=\"text-align: right;\">\n",
       "      <th></th>\n",
       "      <th>country</th>\n",
       "      <th>invoice_date</th>\n",
       "    </tr>\n",
       "  </thead>\n",
       "  <tbody>\n",
       "    <tr>\n",
       "      <th>wXcVa24BUkfJ5hz0pRsL</th>\n",
       "      <td>United Kingdom</td>\n",
       "      <td>2010-12-01 08:26:00</td>\n",
       "    </tr>\n",
       "    <tr>\n",
       "      <th>wncVa24BUkfJ5hz0pRsL</th>\n",
       "      <td>United Kingdom</td>\n",
       "      <td>2010-12-01 08:26:00</td>\n",
       "    </tr>\n",
       "    <tr>\n",
       "      <th>w3cVa24BUkfJ5hz0pRsL</th>\n",
       "      <td>United Kingdom</td>\n",
       "      <td>2010-12-01 08:26:00</td>\n",
       "    </tr>\n",
       "    <tr>\n",
       "      <th>xHcVa24BUkfJ5hz0pRsL</th>\n",
       "      <td>United Kingdom</td>\n",
       "      <td>2010-12-01 08:26:00</td>\n",
       "    </tr>\n",
       "    <tr>\n",
       "      <th>xXcVa24BUkfJ5hz0pRsL</th>\n",
       "      <td>United Kingdom</td>\n",
       "      <td>2010-12-01 08:26:00</td>\n",
       "    </tr>\n",
       "  </tbody>\n",
       "</table>\n",
       "</div>\n",
       "<p>5 rows x 2 columns</p>"
      ],
      "text/plain": [
       "                             country        invoice_date\n",
       "wXcVa24BUkfJ5hz0pRsL  United Kingdom 2010-12-01 08:26:00\n",
       "wncVa24BUkfJ5hz0pRsL  United Kingdom 2010-12-01 08:26:00\n",
       "w3cVa24BUkfJ5hz0pRsL  United Kingdom 2010-12-01 08:26:00\n",
       "xHcVa24BUkfJ5hz0pRsL  United Kingdom 2010-12-01 08:26:00\n",
       "xXcVa24BUkfJ5hz0pRsL  United Kingdom 2010-12-01 08:26:00\n",
       "\n",
       "[5 rows x 2 columns]"
      ]
     },
     "execution_count": 56,
     "metadata": {},
     "output_type": "execute_result"
    }
   ],
   "source": [
    "df[['country', 'invoice_date']].head(5)"
   ]
  },
  {
   "cell_type": "markdown",
   "metadata": {},
   "source": [
    "### Boolean Indexing\n",
    "\n",
    "we also allow you to filter the data frame using boolean indexing. Under the hood, a boolean index maps to a `terms` query that is then passed to elasticsearch to filter the index."
   ]
  },
  {
   "cell_type": "code",
   "execution_count": 111,
   "metadata": {},
   "outputs": [
    {
     "name": "stdout",
     "output_type": "stream",
     "text": [
      "{'term': {'country': 'Germany'}}\n"
     ]
    },
    {
     "data": {
      "text/html": [
       "<div>\n",
       "<style scoped>\n",
       "    .dataframe tbody tr th:only-of-type {\n",
       "        vertical-align: middle;\n",
       "    }\n",
       "\n",
       "    .dataframe tbody tr th {\n",
       "        vertical-align: top;\n",
       "    }\n",
       "\n",
       "    .dataframe thead th {\n",
       "        text-align: right;\n",
       "    }\n",
       "</style>\n",
       "<table border=\"1\" class=\"dataframe\">\n",
       "  <thead>\n",
       "    <tr style=\"text-align: right;\">\n",
       "      <th></th>\n",
       "      <th>country</th>\n",
       "      <th>customer_id</th>\n",
       "      <th>description</th>\n",
       "      <th>invoice_date</th>\n",
       "      <th>invoice_no</th>\n",
       "      <th>quantity</th>\n",
       "      <th>stock_code</th>\n",
       "      <th>unit_price</th>\n",
       "    </tr>\n",
       "  </thead>\n",
       "  <tbody>\n",
       "    <tr>\n",
       "      <th>FncVa24BUkfJ5hz0pSBJ</th>\n",
       "      <td>Germany</td>\n",
       "      <td>12662</td>\n",
       "      <td>SET OF 6 T-LIGHTS SANTA</td>\n",
       "      <td>2010-12-01 13:04:00</td>\n",
       "      <td>536527</td>\n",
       "      <td>6</td>\n",
       "      <td>22809</td>\n",
       "      <td>2.95</td>\n",
       "    </tr>\n",
       "    <tr>\n",
       "      <th>F3cVa24BUkfJ5hz0pSBJ</th>\n",
       "      <td>Germany</td>\n",
       "      <td>12662</td>\n",
       "      <td>ROTATING SILVER ANGELS T-LIGHT HLDR</td>\n",
       "      <td>2010-12-01 13:04:00</td>\n",
       "      <td>536527</td>\n",
       "      <td>6</td>\n",
       "      <td>84347</td>\n",
       "      <td>2.55</td>\n",
       "    </tr>\n",
       "    <tr>\n",
       "      <th>GHcVa24BUkfJ5hz0pSBJ</th>\n",
       "      <td>Germany</td>\n",
       "      <td>12662</td>\n",
       "      <td>MULTI COLOUR SILVER T-LIGHT HOLDER</td>\n",
       "      <td>2010-12-01 13:04:00</td>\n",
       "      <td>536527</td>\n",
       "      <td>12</td>\n",
       "      <td>84945</td>\n",
       "      <td>0.85</td>\n",
       "    </tr>\n",
       "    <tr>\n",
       "      <th>GXcVa24BUkfJ5hz0pSBJ</th>\n",
       "      <td>Germany</td>\n",
       "      <td>12662</td>\n",
       "      <td>5 HOOK HANGER MAGIC TOADSTOOL</td>\n",
       "      <td>2010-12-01 13:04:00</td>\n",
       "      <td>536527</td>\n",
       "      <td>12</td>\n",
       "      <td>22242</td>\n",
       "      <td>1.65</td>\n",
       "    </tr>\n",
       "    <tr>\n",
       "      <th>GncVa24BUkfJ5hz0pSBJ</th>\n",
       "      <td>Germany</td>\n",
       "      <td>12662</td>\n",
       "      <td>3 HOOK HANGER MAGIC GARDEN</td>\n",
       "      <td>2010-12-01 13:04:00</td>\n",
       "      <td>536527</td>\n",
       "      <td>12</td>\n",
       "      <td>22244</td>\n",
       "      <td>1.95</td>\n",
       "    </tr>\n",
       "  </tbody>\n",
       "</table>\n",
       "</div>\n",
       "<p>5 rows x 8 columns</p>"
      ],
      "text/plain": [
       "                      country customer_id  \\\n",
       "FncVa24BUkfJ5hz0pSBJ  Germany       12662   \n",
       "F3cVa24BUkfJ5hz0pSBJ  Germany       12662   \n",
       "GHcVa24BUkfJ5hz0pSBJ  Germany       12662   \n",
       "GXcVa24BUkfJ5hz0pSBJ  Germany       12662   \n",
       "GncVa24BUkfJ5hz0pSBJ  Germany       12662   \n",
       "\n",
       "                                              description        invoice_date  \\\n",
       "FncVa24BUkfJ5hz0pSBJ              SET OF 6 T-LIGHTS SANTA 2010-12-01 13:04:00   \n",
       "F3cVa24BUkfJ5hz0pSBJ  ROTATING SILVER ANGELS T-LIGHT HLDR 2010-12-01 13:04:00   \n",
       "GHcVa24BUkfJ5hz0pSBJ   MULTI COLOUR SILVER T-LIGHT HOLDER 2010-12-01 13:04:00   \n",
       "GXcVa24BUkfJ5hz0pSBJ        5 HOOK HANGER MAGIC TOADSTOOL 2010-12-01 13:04:00   \n",
       "GncVa24BUkfJ5hz0pSBJ           3 HOOK HANGER MAGIC GARDEN 2010-12-01 13:04:00   \n",
       "\n",
       "                     invoice_no quantity stock_code unit_price  \n",
       "FncVa24BUkfJ5hz0pSBJ     536527        6      22809       2.95  \n",
       "F3cVa24BUkfJ5hz0pSBJ     536527        6      84347       2.55  \n",
       "GHcVa24BUkfJ5hz0pSBJ     536527       12      84945       0.85  \n",
       "GXcVa24BUkfJ5hz0pSBJ     536527       12      22242       1.65  \n",
       "GncVa24BUkfJ5hz0pSBJ     536527       12      22244       1.95  \n",
       "\n",
       "[5 rows x 8 columns]"
      ]
     },
     "execution_count": 111,
     "metadata": {},
     "output_type": "execute_result"
    }
   ],
   "source": [
    "# the construction of a boolean vector maps directly to an elasticsearch query\n",
    "print(df['country']=='Germany')\n",
    "df[(df['country']=='Germany')].head(5)"
   ]
  },
  {
   "cell_type": "markdown",
   "metadata": {},
   "source": [
    "we can also filter the data frame using a list of values."
   ]
  },
  {
   "cell_type": "code",
   "execution_count": 7,
   "metadata": {},
   "outputs": [
    {
     "name": "stdout",
     "output_type": "stream",
     "text": [
      "{'terms': {'country': ['Germany', 'United States']}}\n"
     ]
    },
    {
     "data": {
      "text/html": [
       "<div>\n",
       "<style scoped>\n",
       "    .dataframe tbody tr th:only-of-type {\n",
       "        vertical-align: middle;\n",
       "    }\n",
       "\n",
       "    .dataframe tbody tr th {\n",
       "        vertical-align: top;\n",
       "    }\n",
       "\n",
       "    .dataframe thead th {\n",
       "        text-align: right;\n",
       "    }\n",
       "</style>\n",
       "<table border=\"1\" class=\"dataframe\">\n",
       "  <thead>\n",
       "    <tr style=\"text-align: right;\">\n",
       "      <th></th>\n",
       "      <th>country</th>\n",
       "      <th>customer_id</th>\n",
       "      <th>description</th>\n",
       "      <th>invoice_date</th>\n",
       "      <th>invoice_no</th>\n",
       "      <th>quantity</th>\n",
       "      <th>stock_code</th>\n",
       "      <th>unit_price</th>\n",
       "    </tr>\n",
       "  </thead>\n",
       "  <tbody>\n",
       "    <tr>\n",
       "      <th>wXcVa24BUkfJ5hz0pRsL</th>\n",
       "      <td>United Kingdom</td>\n",
       "      <td>17850</td>\n",
       "      <td>WHITE HANGING HEART T-LIGHT HOLDER</td>\n",
       "      <td>2010-12-01 08:26:00</td>\n",
       "      <td>536365</td>\n",
       "      <td>6</td>\n",
       "      <td>85123A</td>\n",
       "      <td>2.55</td>\n",
       "    </tr>\n",
       "    <tr>\n",
       "      <th>wncVa24BUkfJ5hz0pRsL</th>\n",
       "      <td>United Kingdom</td>\n",
       "      <td>17850</td>\n",
       "      <td>WHITE METAL LANTERN</td>\n",
       "      <td>2010-12-01 08:26:00</td>\n",
       "      <td>536365</td>\n",
       "      <td>6</td>\n",
       "      <td>71053</td>\n",
       "      <td>3.39</td>\n",
       "    </tr>\n",
       "    <tr>\n",
       "      <th>w3cVa24BUkfJ5hz0pRsL</th>\n",
       "      <td>United Kingdom</td>\n",
       "      <td>17850</td>\n",
       "      <td>CREAM CUPID HEARTS COAT HANGER</td>\n",
       "      <td>2010-12-01 08:26:00</td>\n",
       "      <td>536365</td>\n",
       "      <td>8</td>\n",
       "      <td>84406B</td>\n",
       "      <td>2.75</td>\n",
       "    </tr>\n",
       "    <tr>\n",
       "      <th>xHcVa24BUkfJ5hz0pRsL</th>\n",
       "      <td>United Kingdom</td>\n",
       "      <td>17850</td>\n",
       "      <td>KNITTED UNION FLAG HOT WATER BOTTLE</td>\n",
       "      <td>2010-12-01 08:26:00</td>\n",
       "      <td>536365</td>\n",
       "      <td>6</td>\n",
       "      <td>84029G</td>\n",
       "      <td>3.39</td>\n",
       "    </tr>\n",
       "    <tr>\n",
       "      <th>xXcVa24BUkfJ5hz0pRsL</th>\n",
       "      <td>United Kingdom</td>\n",
       "      <td>17850</td>\n",
       "      <td>RED WOOLLY HOTTIE WHITE HEART</td>\n",
       "      <td>2010-12-01 08:26:00</td>\n",
       "      <td>536365</td>\n",
       "      <td>6</td>\n",
       "      <td>84029E</td>\n",
       "      <td>3.39</td>\n",
       "    </tr>\n",
       "  </tbody>\n",
       "</table>\n",
       "</div>\n",
       "<p>5 rows x 8 columns</p>"
      ],
      "text/plain": [
       "                             country customer_id  \\\n",
       "wXcVa24BUkfJ5hz0pRsL  United Kingdom       17850   \n",
       "wncVa24BUkfJ5hz0pRsL  United Kingdom       17850   \n",
       "w3cVa24BUkfJ5hz0pRsL  United Kingdom       17850   \n",
       "xHcVa24BUkfJ5hz0pRsL  United Kingdom       17850   \n",
       "xXcVa24BUkfJ5hz0pRsL  United Kingdom       17850   \n",
       "\n",
       "                                              description        invoice_date  \\\n",
       "wXcVa24BUkfJ5hz0pRsL   WHITE HANGING HEART T-LIGHT HOLDER 2010-12-01 08:26:00   \n",
       "wncVa24BUkfJ5hz0pRsL                  WHITE METAL LANTERN 2010-12-01 08:26:00   \n",
       "w3cVa24BUkfJ5hz0pRsL       CREAM CUPID HEARTS COAT HANGER 2010-12-01 08:26:00   \n",
       "xHcVa24BUkfJ5hz0pRsL  KNITTED UNION FLAG HOT WATER BOTTLE 2010-12-01 08:26:00   \n",
       "xXcVa24BUkfJ5hz0pRsL        RED WOOLLY HOTTIE WHITE HEART 2010-12-01 08:26:00   \n",
       "\n",
       "                     invoice_no quantity stock_code unit_price  \n",
       "wXcVa24BUkfJ5hz0pRsL     536365        6     85123A       2.55  \n",
       "wncVa24BUkfJ5hz0pRsL     536365        6      71053       3.39  \n",
       "w3cVa24BUkfJ5hz0pRsL     536365        8     84406B       2.75  \n",
       "xHcVa24BUkfJ5hz0pRsL     536365        6     84029G       3.39  \n",
       "xXcVa24BUkfJ5hz0pRsL     536365        6     84029E       3.39  \n",
       "\n",
       "[5 rows x 8 columns]"
      ]
     },
     "execution_count": 7,
     "metadata": {},
     "output_type": "execute_result"
    }
   ],
   "source": [
    "print(df['country'].isin(['Germany', 'United States']))\n",
    "df[df['country'].isin(['Germany', 'United Kingdom'])].head(5)"
   ]
  },
  {
   "cell_type": "markdown",
   "metadata": {},
   "source": [
    "We can also combine boolean vectors to further filter the data frame."
   ]
  },
  {
   "cell_type": "code",
   "execution_count": 115,
   "metadata": {},
   "outputs": [
    {
     "data": {
      "text/html": [
       "<div>\n",
       "<style scoped>\n",
       "    .dataframe tbody tr th:only-of-type {\n",
       "        vertical-align: middle;\n",
       "    }\n",
       "\n",
       "    .dataframe tbody tr th {\n",
       "        vertical-align: top;\n",
       "    }\n",
       "\n",
       "    .dataframe thead th {\n",
       "        text-align: right;\n",
       "    }\n",
       "</style>\n",
       "<table border=\"1\" class=\"dataframe\">\n",
       "  <thead>\n",
       "    <tr style=\"text-align: right;\">\n",
       "      <th></th>\n",
       "      <th>country</th>\n",
       "      <th>customer_id</th>\n",
       "      <th>description</th>\n",
       "      <th>invoice_date</th>\n",
       "      <th>invoice_no</th>\n",
       "      <th>quantity</th>\n",
       "      <th>stock_code</th>\n",
       "      <th>unit_price</th>\n",
       "    </tr>\n",
       "  </thead>\n",
       "  <tbody>\n",
       "    <tr>\n",
       "      <th>5XcVa24BUkfJ5hz0q3Mq</th>\n",
       "      <td>Germany</td>\n",
       "      <td>12471</td>\n",
       "      <td>FUNKY DIVA PEN</td>\n",
       "      <td>2010-12-10 09:35:00</td>\n",
       "      <td>538174</td>\n",
       "      <td>96</td>\n",
       "      <td>22741</td>\n",
       "      <td>0.85</td>\n",
       "    </tr>\n",
       "    <tr>\n",
       "      <th>7XcVa24BUkfJ5hz0q3Mq</th>\n",
       "      <td>Germany</td>\n",
       "      <td>12471</td>\n",
       "      <td>LIPSTICK PEN RED</td>\n",
       "      <td>2010-12-10 09:35:00</td>\n",
       "      <td>538174</td>\n",
       "      <td>100</td>\n",
       "      <td>22419</td>\n",
       "      <td>0.36</td>\n",
       "    </tr>\n",
       "    <tr>\n",
       "      <th>FHcVa24BUkfJ5hz0s-K9</th>\n",
       "      <td>Germany</td>\n",
       "      <td>12500</td>\n",
       "      <td>PACK OF 6 BIRDY GIFT TAGS</td>\n",
       "      <td>2011-01-10 09:48:00</td>\n",
       "      <td>540553</td>\n",
       "      <td>144</td>\n",
       "      <td>22585</td>\n",
       "      <td>1.06</td>\n",
       "    </tr>\n",
       "    <tr>\n",
       "      <th>XncVa24BUkfJ5hz0s-K9</th>\n",
       "      <td>Germany</td>\n",
       "      <td>12524</td>\n",
       "      <td>BOX OF 24 COCKTAIL PARASOLS</td>\n",
       "      <td>2011-01-10 10:35:00</td>\n",
       "      <td>540562</td>\n",
       "      <td>100</td>\n",
       "      <td>84692</td>\n",
       "      <td>0.42</td>\n",
       "    </tr>\n",
       "  </tbody>\n",
       "</table>\n",
       "</div>\n",
       "<p>4 rows x 8 columns</p>"
      ],
      "text/plain": [
       "                      country customer_id                  description  \\\n",
       "5XcVa24BUkfJ5hz0q3Mq  Germany       12471               FUNKY DIVA PEN   \n",
       "7XcVa24BUkfJ5hz0q3Mq  Germany       12471             LIPSTICK PEN RED   \n",
       "FHcVa24BUkfJ5hz0s-K9  Germany       12500    PACK OF 6 BIRDY GIFT TAGS   \n",
       "XncVa24BUkfJ5hz0s-K9  Germany       12524  BOX OF 24 COCKTAIL PARASOLS   \n",
       "\n",
       "                            invoice_date invoice_no quantity stock_code  \\\n",
       "5XcVa24BUkfJ5hz0q3Mq 2010-12-10 09:35:00     538174       96      22741   \n",
       "7XcVa24BUkfJ5hz0q3Mq 2010-12-10 09:35:00     538174      100      22419   \n",
       "FHcVa24BUkfJ5hz0s-K9 2011-01-10 09:48:00     540553      144      22585   \n",
       "XncVa24BUkfJ5hz0s-K9 2011-01-10 10:35:00     540562      100      84692   \n",
       "\n",
       "                     unit_price  \n",
       "5XcVa24BUkfJ5hz0q3Mq       0.85  \n",
       "7XcVa24BUkfJ5hz0q3Mq       0.36  \n",
       "FHcVa24BUkfJ5hz0s-K9       1.06  \n",
       "XncVa24BUkfJ5hz0s-K9       0.42  \n",
       "\n",
       "[4 rows x 8 columns]"
      ]
     },
     "execution_count": 115,
     "metadata": {},
     "output_type": "execute_result"
    }
   ],
   "source": [
    "df[(df['country']=='Germany') & (df['quantity']>90)]"
   ]
  },
  {
   "cell_type": "markdown",
   "metadata": {},
   "source": [
    "Using this example, let see how eland translates this boolean filter to an elasticsearch `bool` query."
   ]
  },
  {
   "cell_type": "code",
   "execution_count": 74,
   "metadata": {},
   "outputs": [
    {
     "name": "stdout",
     "output_type": "stream",
     "text": [
      "index_pattern: online-retail\n",
      "Index:\n",
      "\tindex_field: _id\n",
      "\tis_source_field: False\n",
      "Mappings:\n",
      "\tcapabilities:               _source es_dtype        pd_dtype  searchable  aggregatable\n",
      "country          True  keyword          object        True          True\n",
      "customer_id      True  keyword          object        True          True\n",
      "description      True  keyword          object        True          True\n",
      "invoice_date     True     date  datetime64[ns]        True          True\n",
      "invoice_no       True  keyword          object        True          True\n",
      "quantity         True  integer           int64        True          True\n",
      "stock_code       True  keyword          object        True          True\n",
      "unit_price       True    float         float64        True          True\n",
      "Operations:\n",
      "\ttasks: [('boolean_filter', {'bool': {'must': [{'term': {'country': 'Germany'}}, {'range': {'quantity': {'gt': 90}}}]}})]\n",
      "\tsize: None\n",
      "\tsort_params: None\n",
      "\tcolumns: None\n",
      "\tpost_processing: []\n",
      "\n"
     ]
    }
   ],
   "source": [
    "print(df[(df['country']=='Germany') & (df['quantity']>90)].info_es())"
   ]
  },
  {
   "cell_type": "markdown",
   "metadata": {},
   "source": [
    "## Aggregation and Descriptive Statistics\n",
    "\n",
    "Let's begin to ask some questions of our data and use eland to get the answers."
   ]
  },
  {
   "cell_type": "markdown",
   "metadata": {},
   "source": [
    "**How many different countries are there?**"
   ]
  },
  {
   "cell_type": "code",
   "execution_count": 76,
   "metadata": {},
   "outputs": [
    {
     "data": {
      "text/plain": [
       "country    24\n",
       "dtype: int64"
      ]
     },
     "execution_count": 76,
     "metadata": {},
     "output_type": "execute_result"
    }
   ],
   "source": [
    "df['country'].nunique()"
   ]
  },
  {
   "cell_type": "markdown",
   "metadata": {},
   "source": [
    "**What is the total sum of products ordered?**"
   ]
  },
  {
   "cell_type": "code",
   "execution_count": 80,
   "metadata": {},
   "outputs": [
    {
     "data": {
      "text/plain": [
       "quantity    548076.0\n",
       "dtype: float64"
      ]
     },
     "execution_count": 80,
     "metadata": {},
     "output_type": "execute_result"
    }
   ],
   "source": [
    "df['quantity'].sum()"
   ]
  },
  {
   "cell_type": "markdown",
   "metadata": {},
   "source": [
    "**Show me the sum, mean, min, and max of the qunatity and unit_price fields**"
   ]
  },
  {
   "cell_type": "code",
   "execution_count": 93,
   "metadata": {},
   "outputs": [
    {
     "data": {
      "text/html": [
       "<div>\n",
       "<style scoped>\n",
       "    .dataframe tbody tr th:only-of-type {\n",
       "        vertical-align: middle;\n",
       "    }\n",
       "\n",
       "    .dataframe tbody tr th {\n",
       "        vertical-align: top;\n",
       "    }\n",
       "\n",
       "    .dataframe thead th {\n",
       "        text-align: right;\n",
       "    }\n",
       "</style>\n",
       "<table border=\"1\" class=\"dataframe\">\n",
       "  <thead>\n",
       "    <tr style=\"text-align: right;\">\n",
       "      <th></th>\n",
       "      <th>quantity</th>\n",
       "      <th>unit_price</th>\n",
       "    </tr>\n",
       "  </thead>\n",
       "  <tbody>\n",
       "    <tr>\n",
       "      <td>sum</td>\n",
       "      <td>548076.000000</td>\n",
       "      <td>383761.569666</td>\n",
       "    </tr>\n",
       "    <tr>\n",
       "      <td>mean</td>\n",
       "      <td>8.363231</td>\n",
       "      <td>5.855916</td>\n",
       "    </tr>\n",
       "    <tr>\n",
       "      <td>max</td>\n",
       "      <td>74215.000000</td>\n",
       "      <td>16888.019531</td>\n",
       "    </tr>\n",
       "    <tr>\n",
       "      <td>min</td>\n",
       "      <td>-74215.000000</td>\n",
       "      <td>0.000000</td>\n",
       "    </tr>\n",
       "  </tbody>\n",
       "</table>\n",
       "</div>"
      ],
      "text/plain": [
       "           quantity     unit_price\n",
       "sum   548076.000000  383761.569666\n",
       "mean       8.363231       5.855916\n",
       "max    74215.000000   16888.019531\n",
       "min   -74215.000000       0.000000"
      ]
     },
     "execution_count": 93,
     "metadata": {},
     "output_type": "execute_result"
    }
   ],
   "source": [
    "df[['quantity','unit_price']].agg(['sum', 'mean', 'max', 'min'])"
   ]
  },
  {
   "cell_type": "markdown",
   "metadata": {},
   "source": [
    "**Give me descriptive statistics for the entire data frame**"
   ]
  },
  {
   "cell_type": "code",
   "execution_count": 119,
   "metadata": {},
   "outputs": [
    {
     "data": {
      "text/html": [
       "<div>\n",
       "<style scoped>\n",
       "    .dataframe tbody tr th:only-of-type {\n",
       "        vertical-align: middle;\n",
       "    }\n",
       "\n",
       "    .dataframe tbody tr th {\n",
       "        vertical-align: top;\n",
       "    }\n",
       "\n",
       "    .dataframe thead th {\n",
       "        text-align: right;\n",
       "    }\n",
       "</style>\n",
       "<table border=\"1\" class=\"dataframe\">\n",
       "  <thead>\n",
       "    <tr style=\"text-align: right;\">\n",
       "      <th></th>\n",
       "      <th>quantity</th>\n",
       "      <th>unit_price</th>\n",
       "    </tr>\n",
       "  </thead>\n",
       "  <tbody>\n",
       "    <tr>\n",
       "      <td>count</td>\n",
       "      <td>65534.000000</td>\n",
       "      <td>65534.000000</td>\n",
       "    </tr>\n",
       "    <tr>\n",
       "      <td>mean</td>\n",
       "      <td>8.363231</td>\n",
       "      <td>5.855916</td>\n",
       "    </tr>\n",
       "    <tr>\n",
       "      <td>std</td>\n",
       "      <td>413.694481</td>\n",
       "      <td>145.755942</td>\n",
       "    </tr>\n",
       "    <tr>\n",
       "      <td>min</td>\n",
       "      <td>-74215.000000</td>\n",
       "      <td>0.000000</td>\n",
       "    </tr>\n",
       "    <tr>\n",
       "      <td>25%</td>\n",
       "      <td>1.000000</td>\n",
       "      <td>1.250000</td>\n",
       "    </tr>\n",
       "    <tr>\n",
       "      <td>50%</td>\n",
       "      <td>2.000000</td>\n",
       "      <td>2.510000</td>\n",
       "    </tr>\n",
       "    <tr>\n",
       "      <td>75%</td>\n",
       "      <td>8.000000</td>\n",
       "      <td>4.234706</td>\n",
       "    </tr>\n",
       "    <tr>\n",
       "      <td>max</td>\n",
       "      <td>74215.000000</td>\n",
       "      <td>16888.019531</td>\n",
       "    </tr>\n",
       "  </tbody>\n",
       "</table>\n",
       "</div>"
      ],
      "text/plain": [
       "           quantity    unit_price\n",
       "count  65534.000000  65534.000000\n",
       "mean       8.363231      5.855916\n",
       "std      413.694481    145.755942\n",
       "min   -74215.000000      0.000000\n",
       "25%        1.000000      1.250000\n",
       "50%        2.000000      2.510000\n",
       "75%        8.000000      4.234706\n",
       "max    74215.000000  16888.019531"
      ]
     },
     "execution_count": 119,
     "metadata": {},
     "output_type": "execute_result"
    }
   ],
   "source": [
    "df.describe()"
   ]
  },
  {
   "cell_type": "markdown",
   "metadata": {},
   "source": [
    "**Show me a histogram of numeric columns**"
   ]
  },
  {
   "cell_type": "code",
   "execution_count": 110,
   "metadata": {},
   "outputs": [
    {
     "data": {
      "text/plain": [
       "array([[<matplotlib.axes._subplots.AxesSubplot object at 0x1193748d0>,\n",
       "        <matplotlib.axes._subplots.AxesSubplot object at 0x11946b438>]],\n",
       "      dtype=object)"
      ]
     },
     "execution_count": 110,
     "metadata": {},
     "output_type": "execute_result"
    },
    {
     "data": {
      "image/png": "[encoded data removed]",
      "text/plain": [
       "<Figure size 864x288 with 2 Axes>"
      ]
     },
     "metadata": {
      "needs_background": "light"
     },
     "output_type": "display_data"
    }
   ],
   "source": [
    "df[(df['quantity']>-50) & \n",
    "   (df['quantity']<50) & \n",
    "   (df['unit_price']>0) & \n",
    "   (df['unit_price']<100)].select_dtypes(include=[np.number]).hist(figsize=[12,4], bins=30)"
   ]
  }
 ],
 "metadata": {
  "kernelspec": {
   "display_name": "Python 3",
   "language": "python",
   "name": "python3"
  },
  "language_info": {
   "codemirror_mode": {
    "name": "ipython",
    "version": 3
   },
   "file_extension": ".py",
   "mimetype": "text/x-python",
   "name": "python",
   "nbconvert_exporter": "python",
   "pygments_lexer": "ipython3",
   "version": "3.7.3"
  }
 },
 "nbformat": 4,
 "nbformat_minor": 2
}
