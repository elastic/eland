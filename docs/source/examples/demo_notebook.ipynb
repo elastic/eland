{
 "cells": [
  {
   "cell_type": "markdown",
   "metadata": {},
   "source": [
    "# Eland Demo Notebook"
   ]
  },
  {
   "cell_type": "code",
   "execution_count": 1,
   "metadata": {
    "pycharm": {
     "is_executing": false
    }
   },
   "outputs": [],
   "source": [
    "import eland as ed\n",
    "import pandas as pd\n",
    "import numpy as np\n",
    "import matplotlib.pyplot as plt\n",
    "\n",
    "from elasticsearch import Elasticsearch\n",
    "\n",
    "# Import standard test settings for consistent results\n",
    "from eland.conftest import *"
   ]
  },
  {
   "cell_type": "markdown",
   "metadata": {},
   "source": [
    "## Create Eland DataFrame from Elasticsearch Index"
   ]
  },
  {
   "cell_type": "code",
   "execution_count": 2,
   "metadata": {
    "pycharm": {
     "is_executing": false
    }
   },
   "outputs": [],
   "source": [
    "ed_flights = ed.read_es('localhost', 'flights')"
   ]
  },
  {
   "cell_type": "code",
   "execution_count": 3,
   "metadata": {
    "pycharm": {
     "is_executing": false
    }
   },
   "outputs": [
    {
     "data": {
      "text/html": [
       "<div>\n",
       "<style scoped>\n",
       "    .dataframe tbody tr th:only-of-type {\n",
       "        vertical-align: middle;\n",
       "    }\n",
       "\n",
       "    .dataframe tbody tr th {\n",
       "        vertical-align: top;\n",
       "    }\n",
       "\n",
       "    .dataframe thead th {\n",
       "        text-align: right;\n",
       "    }\n",
       "</style>\n",
       "<table border=\"1\" class=\"dataframe\">\n",
       "  <thead>\n",
       "    <tr style=\"text-align: right;\">\n",
       "      <th></th>\n",
       "      <th>AvgTicketPrice</th>\n",
       "      <th>Cancelled</th>\n",
       "      <th>...</th>\n",
       "      <th>dayOfWeek</th>\n",
       "      <th>timestamp</th>\n",
       "    </tr>\n",
       "  </thead>\n",
       "  <tbody>\n",
       "    <tr>\n",
       "      <td>0</td>\n",
       "      <td>841.265642</td>\n",
       "      <td>False</td>\n",
       "      <td>...</td>\n",
       "      <td>0</td>\n",
       "      <td>2018-01-01 00:00:00</td>\n",
       "    </tr>\n",
       "    <tr>\n",
       "      <td>1</td>\n",
       "      <td>882.982662</td>\n",
       "      <td>False</td>\n",
       "      <td>...</td>\n",
       "      <td>0</td>\n",
       "      <td>2018-01-01 18:27:00</td>\n",
       "    </tr>\n",
       "    <tr>\n",
       "      <td>2</td>\n",
       "      <td>190.636904</td>\n",
       "      <td>False</td>\n",
       "      <td>...</td>\n",
       "      <td>0</td>\n",
       "      <td>2018-01-01 17:11:14</td>\n",
       "    </tr>\n",
       "    <tr>\n",
       "      <td>3</td>\n",
       "      <td>181.694216</td>\n",
       "      <td>True</td>\n",
       "      <td>...</td>\n",
       "      <td>0</td>\n",
       "      <td>2018-01-01 10:33:28</td>\n",
       "    </tr>\n",
       "    <tr>\n",
       "      <td>4</td>\n",
       "      <td>730.041778</td>\n",
       "      <td>False</td>\n",
       "      <td>...</td>\n",
       "      <td>0</td>\n",
       "      <td>2018-01-01 05:13:00</td>\n",
       "    </tr>\n",
       "  </tbody>\n",
       "</table>\n",
       "</div>\n",
       "<p>5 rows × 27 columns</p>"
      ],
      "text/plain": [
       "   AvgTicketPrice  Cancelled  ... dayOfWeek           timestamp\n",
       "0      841.265642      False  ...         0 2018-01-01 00:00:00\n",
       "1      882.982662      False  ...         0 2018-01-01 18:27:00\n",
       "2      190.636904      False  ...         0 2018-01-01 17:11:14\n",
       "3      181.694216       True  ...         0 2018-01-01 10:33:28\n",
       "4      730.041778      False  ...         0 2018-01-01 05:13:00\n",
       "\n",
       "[5 rows x 27 columns]"
      ]
     },
     "execution_count": 3,
     "metadata": {},
     "output_type": "execute_result"
    }
   ],
   "source": [
    "ed_flights.head()"
   ]
  },
  {
   "cell_type": "code",
   "execution_count": 4,
   "metadata": {
    "pycharm": {
     "is_executing": false
    }
   },
   "outputs": [
    {
     "data": {
      "text/plain": [
       "eland.dataframe.DataFrame"
      ]
     },
     "execution_count": 4,
     "metadata": {},
     "output_type": "execute_result"
    }
   ],
   "source": [
    "type(ed_flights.head())"
   ]
  },
  {
   "cell_type": "markdown",
   "metadata": {},
   "source": [
    "## Compare to pandas DataFrame (created from the same data)"
   ]
  },
  {
   "cell_type": "code",
   "execution_count": 5,
   "metadata": {},
   "outputs": [],
   "source": [
    "pd_flights = ed.eland_to_pandas(ed_flights)"
   ]
  },
  {
   "cell_type": "code",
   "execution_count": 6,
   "metadata": {
    "pycharm": {
     "is_executing": false
    }
   },
   "outputs": [
    {
     "data": {
      "text/html": [
       "<div>\n",
       "<style scoped>\n",
       "    .dataframe tbody tr th:only-of-type {\n",
       "        vertical-align: middle;\n",
       "    }\n",
       "\n",
       "    .dataframe tbody tr th {\n",
       "        vertical-align: top;\n",
       "    }\n",
       "\n",
       "    .dataframe thead th {\n",
       "        text-align: right;\n",
       "    }\n",
       "</style>\n",
       "<table border=\"1\" class=\"dataframe\">\n",
       "  <thead>\n",
       "    <tr style=\"text-align: right;\">\n",
       "      <th></th>\n",
       "      <th>AvgTicketPrice</th>\n",
       "      <th>Cancelled</th>\n",
       "      <th>...</th>\n",
       "      <th>dayOfWeek</th>\n",
       "      <th>timestamp</th>\n",
       "    </tr>\n",
       "  </thead>\n",
       "  <tbody>\n",
       "    <tr>\n",
       "      <td>0</td>\n",
       "      <td>841.265642</td>\n",
       "      <td>False</td>\n",
       "      <td>...</td>\n",
       "      <td>0</td>\n",
       "      <td>2018-01-01 00:00:00</td>\n",
       "    </tr>\n",
       "    <tr>\n",
       "      <td>1</td>\n",
       "      <td>882.982662</td>\n",
       "      <td>False</td>\n",
       "      <td>...</td>\n",
       "      <td>0</td>\n",
       "      <td>2018-01-01 18:27:00</td>\n",
       "    </tr>\n",
       "    <tr>\n",
       "      <td>2</td>\n",
       "      <td>190.636904</td>\n",
       "      <td>False</td>\n",
       "      <td>...</td>\n",
       "      <td>0</td>\n",
       "      <td>2018-01-01 17:11:14</td>\n",
       "    </tr>\n",
       "    <tr>\n",
       "      <td>3</td>\n",
       "      <td>181.694216</td>\n",
       "      <td>True</td>\n",
       "      <td>...</td>\n",
       "      <td>0</td>\n",
       "      <td>2018-01-01 10:33:28</td>\n",
       "    </tr>\n",
       "    <tr>\n",
       "      <td>4</td>\n",
       "      <td>730.041778</td>\n",
       "      <td>False</td>\n",
       "      <td>...</td>\n",
       "      <td>0</td>\n",
       "      <td>2018-01-01 05:13:00</td>\n",
       "    </tr>\n",
       "  </tbody>\n",
       "</table>\n",
       "<p>5 rows × 27 columns</p>\n",
       "</div>"
      ],
      "text/plain": [
       "   AvgTicketPrice  Cancelled  ... dayOfWeek           timestamp\n",
       "0      841.265642      False  ...         0 2018-01-01 00:00:00\n",
       "1      882.982662      False  ...         0 2018-01-01 18:27:00\n",
       "2      190.636904      False  ...         0 2018-01-01 17:11:14\n",
       "3      181.694216       True  ...         0 2018-01-01 10:33:28\n",
       "4      730.041778      False  ...         0 2018-01-01 05:13:00\n",
       "\n",
       "[5 rows x 27 columns]"
      ]
     },
     "execution_count": 6,
     "metadata": {},
     "output_type": "execute_result"
    }
   ],
   "source": [
    "pd_flights.head()"
   ]
  },
  {
   "cell_type": "code",
   "execution_count": 7,
   "metadata": {
    "pycharm": {
     "is_executing": false
    }
   },
   "outputs": [
    {
     "data": {
      "text/html": [
       "<div>\n",
       "<style scoped>\n",
       "    .dataframe tbody tr th:only-of-type {\n",
       "        vertical-align: middle;\n",
       "    }\n",
       "\n",
       "    .dataframe tbody tr th {\n",
       "        vertical-align: top;\n",
       "    }\n",
       "\n",
       "    .dataframe thead th {\n",
       "        text-align: right;\n",
       "    }\n",
       "</style>\n",
       "<table border=\"1\" class=\"dataframe\">\n",
       "  <thead>\n",
       "    <tr style=\"text-align: right;\">\n",
       "      <th></th>\n",
       "      <th>AvgTicketPrice</th>\n",
       "      <th>Cancelled</th>\n",
       "      <th>...</th>\n",
       "      <th>dayOfWeek</th>\n",
       "      <th>timestamp</th>\n",
       "    </tr>\n",
       "  </thead>\n",
       "  <tbody>\n",
       "    <tr>\n",
       "      <td>0</td>\n",
       "      <td>841.265642</td>\n",
       "      <td>False</td>\n",
       "      <td>...</td>\n",
       "      <td>0</td>\n",
       "      <td>2018-01-01 00:00:00</td>\n",
       "    </tr>\n",
       "    <tr>\n",
       "      <td>1</td>\n",
       "      <td>882.982662</td>\n",
       "      <td>False</td>\n",
       "      <td>...</td>\n",
       "      <td>0</td>\n",
       "      <td>2018-01-01 18:27:00</td>\n",
       "    </tr>\n",
       "    <tr>\n",
       "      <td>2</td>\n",
       "      <td>190.636904</td>\n",
       "      <td>False</td>\n",
       "      <td>...</td>\n",
       "      <td>0</td>\n",
       "      <td>2018-01-01 17:11:14</td>\n",
       "    </tr>\n",
       "    <tr>\n",
       "      <td>3</td>\n",
       "      <td>181.694216</td>\n",
       "      <td>True</td>\n",
       "      <td>...</td>\n",
       "      <td>0</td>\n",
       "      <td>2018-01-01 10:33:28</td>\n",
       "    </tr>\n",
       "    <tr>\n",
       "      <td>4</td>\n",
       "      <td>730.041778</td>\n",
       "      <td>False</td>\n",
       "      <td>...</td>\n",
       "      <td>0</td>\n",
       "      <td>2018-01-01 05:13:00</td>\n",
       "    </tr>\n",
       "    <tr>\n",
       "      <td>...</td>\n",
       "      <td>...</td>\n",
       "      <td>...</td>\n",
       "      <td>...</td>\n",
       "      <td>...</td>\n",
       "      <td>...</td>\n",
       "    </tr>\n",
       "    <tr>\n",
       "      <td>13054</td>\n",
       "      <td>1080.446279</td>\n",
       "      <td>False</td>\n",
       "      <td>...</td>\n",
       "      <td>6</td>\n",
       "      <td>2018-02-11 20:42:25</td>\n",
       "    </tr>\n",
       "    <tr>\n",
       "      <td>13055</td>\n",
       "      <td>646.612941</td>\n",
       "      <td>False</td>\n",
       "      <td>...</td>\n",
       "      <td>6</td>\n",
       "      <td>2018-02-11 01:41:57</td>\n",
       "    </tr>\n",
       "    <tr>\n",
       "      <td>13056</td>\n",
       "      <td>997.751876</td>\n",
       "      <td>False</td>\n",
       "      <td>...</td>\n",
       "      <td>6</td>\n",
       "      <td>2018-02-11 04:09:27</td>\n",
       "    </tr>\n",
       "    <tr>\n",
       "      <td>13057</td>\n",
       "      <td>1102.814465</td>\n",
       "      <td>False</td>\n",
       "      <td>...</td>\n",
       "      <td>6</td>\n",
       "      <td>2018-02-11 08:28:21</td>\n",
       "    </tr>\n",
       "    <tr>\n",
       "      <td>13058</td>\n",
       "      <td>858.144337</td>\n",
       "      <td>False</td>\n",
       "      <td>...</td>\n",
       "      <td>6</td>\n",
       "      <td>2018-02-11 14:54:34</td>\n",
       "    </tr>\n",
       "  </tbody>\n",
       "</table>\n",
       "</div>\n",
       "<p>13059 rows × 27 columns</p>"
      ],
      "text/plain": [
       "       AvgTicketPrice  Cancelled  ... dayOfWeek           timestamp\n",
       "0          841.265642      False  ...         0 2018-01-01 00:00:00\n",
       "1          882.982662      False  ...         0 2018-01-01 18:27:00\n",
       "2          190.636904      False  ...         0 2018-01-01 17:11:14\n",
       "3          181.694216       True  ...         0 2018-01-01 10:33:28\n",
       "4          730.041778      False  ...         0 2018-01-01 05:13:00\n",
       "...               ...        ...  ...       ...                 ...\n",
       "13054     1080.446279      False  ...         6 2018-02-11 20:42:25\n",
       "13055      646.612941      False  ...         6 2018-02-11 01:41:57\n",
       "13056      997.751876      False  ...         6 2018-02-11 04:09:27\n",
       "13057     1102.814465      False  ...         6 2018-02-11 08:28:21\n",
       "13058      858.144337      False  ...         6 2018-02-11 14:54:34\n",
       "\n",
       "[13059 rows x 27 columns]"
      ]
     },
     "execution_count": 7,
     "metadata": {},
     "output_type": "execute_result"
    }
   ],
   "source": [
    "ed_flights"
   ]
  },
  {
   "cell_type": "code",
   "execution_count": 8,
   "metadata": {
    "pycharm": {
     "is_executing": false
    }
   },
   "outputs": [
    {
     "data": {
      "text/html": [
       "<div>\n",
       "<style scoped>\n",
       "    .dataframe tbody tr th:only-of-type {\n",
       "        vertical-align: middle;\n",
       "    }\n",
       "\n",
       "    .dataframe tbody tr th {\n",
       "        vertical-align: top;\n",
       "    }\n",
       "\n",
       "    .dataframe thead th {\n",
       "        text-align: right;\n",
       "    }\n",
       "</style>\n",
       "<table border=\"1\" class=\"dataframe\">\n",
       "  <thead>\n",
       "    <tr style=\"text-align: right;\">\n",
       "      <th></th>\n",
       "      <th>AvgTicketPrice</th>\n",
       "      <th>Cancelled</th>\n",
       "      <th>...</th>\n",
       "      <th>dayOfWeek</th>\n",
       "      <th>timestamp</th>\n",
       "    </tr>\n",
       "  </thead>\n",
       "  <tbody>\n",
       "    <tr>\n",
       "      <td>0</td>\n",
       "      <td>841.265642</td>\n",
       "      <td>False</td>\n",
       "      <td>...</td>\n",
       "      <td>0</td>\n",
       "      <td>2018-01-01 00:00:00</td>\n",
       "    </tr>\n",
       "    <tr>\n",
       "      <td>1</td>\n",
       "      <td>882.982662</td>\n",
       "      <td>False</td>\n",
       "      <td>...</td>\n",
       "      <td>0</td>\n",
       "      <td>2018-01-01 18:27:00</td>\n",
       "    </tr>\n",
       "    <tr>\n",
       "      <td>2</td>\n",
       "      <td>190.636904</td>\n",
       "      <td>False</td>\n",
       "      <td>...</td>\n",
       "      <td>0</td>\n",
       "      <td>2018-01-01 17:11:14</td>\n",
       "    </tr>\n",
       "    <tr>\n",
       "      <td>3</td>\n",
       "      <td>181.694216</td>\n",
       "      <td>True</td>\n",
       "      <td>...</td>\n",
       "      <td>0</td>\n",
       "      <td>2018-01-01 10:33:28</td>\n",
       "    </tr>\n",
       "    <tr>\n",
       "      <td>4</td>\n",
       "      <td>730.041778</td>\n",
       "      <td>False</td>\n",
       "      <td>...</td>\n",
       "      <td>0</td>\n",
       "      <td>2018-01-01 05:13:00</td>\n",
       "    </tr>\n",
       "    <tr>\n",
       "      <td>...</td>\n",
       "      <td>...</td>\n",
       "      <td>...</td>\n",
       "      <td>...</td>\n",
       "      <td>...</td>\n",
       "      <td>...</td>\n",
       "    </tr>\n",
       "    <tr>\n",
       "      <td>13054</td>\n",
       "      <td>1080.446279</td>\n",
       "      <td>False</td>\n",
       "      <td>...</td>\n",
       "      <td>6</td>\n",
       "      <td>2018-02-11 20:42:25</td>\n",
       "    </tr>\n",
       "    <tr>\n",
       "      <td>13055</td>\n",
       "      <td>646.612941</td>\n",
       "      <td>False</td>\n",
       "      <td>...</td>\n",
       "      <td>6</td>\n",
       "      <td>2018-02-11 01:41:57</td>\n",
       "    </tr>\n",
       "    <tr>\n",
       "      <td>13056</td>\n",
       "      <td>997.751876</td>\n",
       "      <td>False</td>\n",
       "      <td>...</td>\n",
       "      <td>6</td>\n",
       "      <td>2018-02-11 04:09:27</td>\n",
       "    </tr>\n",
       "    <tr>\n",
       "      <td>13057</td>\n",
       "      <td>1102.814465</td>\n",
       "      <td>False</td>\n",
       "      <td>...</td>\n",
       "      <td>6</td>\n",
       "      <td>2018-02-11 08:28:21</td>\n",
       "    </tr>\n",
       "    <tr>\n",
       "      <td>13058</td>\n",
       "      <td>858.144337</td>\n",
       "      <td>False</td>\n",
       "      <td>...</td>\n",
       "      <td>6</td>\n",
       "      <td>2018-02-11 14:54:34</td>\n",
       "    </tr>\n",
       "  </tbody>\n",
       "</table>\n",
       "<p>13059 rows × 27 columns</p>\n",
       "</div>"
      ],
      "text/plain": [
       "       AvgTicketPrice  Cancelled  ... dayOfWeek           timestamp\n",
       "0          841.265642      False  ...         0 2018-01-01 00:00:00\n",
       "1          882.982662      False  ...         0 2018-01-01 18:27:00\n",
       "2          190.636904      False  ...         0 2018-01-01 17:11:14\n",
       "3          181.694216       True  ...         0 2018-01-01 10:33:28\n",
       "4          730.041778      False  ...         0 2018-01-01 05:13:00\n",
       "...               ...        ...  ...       ...                 ...\n",
       "13054     1080.446279      False  ...         6 2018-02-11 20:42:25\n",
       "13055      646.612941      False  ...         6 2018-02-11 01:41:57\n",
       "13056      997.751876      False  ...         6 2018-02-11 04:09:27\n",
       "13057     1102.814465      False  ...         6 2018-02-11 08:28:21\n",
       "13058      858.144337      False  ...         6 2018-02-11 14:54:34\n",
       "\n",
       "[13059 rows x 27 columns]"
      ]
     },
     "execution_count": 8,
     "metadata": {},
     "output_type": "execute_result"
    }
   ],
   "source": [
    "pd_flights"
   ]
  },
  {
   "cell_type": "code",
   "execution_count": 9,
   "metadata": {
    "pycharm": {
     "is_executing": false
    }
   },
   "outputs": [
    {
     "name": "stdout",
     "output_type": "stream",
     "text": [
      "index_pattern: flights\n",
      "Index:\n",
      " index_field: _id\n",
      " is_source_field: False\n",
      "Mappings:\n",
      " capabilities:                     _source   es_dtype        pd_dtype  searchable  aggregatable\n",
      "AvgTicketPrice         True      float         float64        True          True\n",
      "Cancelled              True    boolean            bool        True          True\n",
      "Carrier                True    keyword          object        True          True\n",
      "Dest                   True    keyword          object        True          True\n",
      "DestAirportID          True    keyword          object        True          True\n",
      "DestCityName           True    keyword          object        True          True\n",
      "DestCountry            True    keyword          object        True          True\n",
      "DestLocation           True  geo_point          object        True          True\n",
      "DestRegion             True    keyword          object        True          True\n",
      "DestWeather            True    keyword          object        True          True\n",
      "DistanceKilometers     True      float         float64        True          True\n",
      "DistanceMiles          True      float         float64        True          True\n",
      "FlightDelay            True    boolean            bool        True          True\n",
      "FlightDelayMin         True    integer           int64        True          True\n",
      "FlightDelayType        True    keyword          object        True          True\n",
      "FlightNum              True    keyword          object        True          True\n",
      "FlightTimeHour         True      float         float64        True          True\n",
      "FlightTimeMin          True      float         float64        True          True\n",
      "Origin                 True    keyword          object        True          True\n",
      "OriginAirportID        True    keyword          object        True          True\n",
      "OriginCityName         True    keyword          object        True          True\n",
      "OriginCountry          True    keyword          object        True          True\n",
      "OriginLocation         True  geo_point          object        True          True\n",
      "OriginRegion           True    keyword          object        True          True\n",
      "OriginWeather          True    keyword          object        True          True\n",
      "dayOfWeek              True    integer           int64        True          True\n",
      "timestamp              True       date  datetime64[ns]        True          True\n",
      " date_fields_format: {}\n",
      "Operations:\n",
      " tasks: [('tail': ('sort_field': '_doc', 'count': 5)), ('head': ('sort_field': '_doc', 'count': 3))]\n",
      " size: 5\n",
      " sort_params: _doc:desc\n",
      " _source: None\n",
      " body: {'aggs': {}}\n",
      " post_processing: [('sort_index'), ('head': ('count': 3))]\n",
      "'field_to_display_names': {}\n",
      "'display_to_field_names': {}\n",
      "\n"
     ]
    }
   ],
   "source": [
    "print(ed_flights.tail().head(3).info_es())"
   ]
  },
  {
   "cell_type": "code",
   "execution_count": 10,
   "metadata": {
    "pycharm": {
     "is_executing": false
    }
   },
   "outputs": [
    {
     "name": "stdout",
     "output_type": "stream",
     "text": [
      "index_pattern: flights\n",
      "Index:\n",
      " index_field: _id\n",
      " is_source_field: False\n",
      "Mappings:\n",
      " capabilities:                     _source   es_dtype        pd_dtype  searchable  aggregatable\n",
      "AvgTicketPrice         True      float         float64        True          True\n",
      "Cancelled              True    boolean            bool        True          True\n",
      "Carrier                True    keyword          object        True          True\n",
      "Dest                   True    keyword          object        True          True\n",
      "DestAirportID          True    keyword          object        True          True\n",
      "DestCityName           True    keyword          object        True          True\n",
      "DestCountry            True    keyword          object        True          True\n",
      "DestLocation           True  geo_point          object        True          True\n",
      "DestRegion             True    keyword          object        True          True\n",
      "DestWeather            True    keyword          object        True          True\n",
      "DistanceKilometers     True      float         float64        True          True\n",
      "DistanceMiles          True      float         float64        True          True\n",
      "FlightDelay            True    boolean            bool        True          True\n",
      "FlightDelayMin         True    integer           int64        True          True\n",
      "FlightDelayType        True    keyword          object        True          True\n",
      "FlightNum              True    keyword          object        True          True\n",
      "FlightTimeHour         True      float         float64        True          True\n",
      "FlightTimeMin          True      float         float64        True          True\n",
      "Origin                 True    keyword          object        True          True\n",
      "OriginAirportID        True    keyword          object        True          True\n",
      "OriginCityName         True    keyword          object        True          True\n",
      "OriginCountry          True    keyword          object        True          True\n",
      "OriginLocation         True  geo_point          object        True          True\n",
      "OriginRegion           True    keyword          object        True          True\n",
      "OriginWeather          True    keyword          object        True          True\n",
      "dayOfWeek              True    integer           int64        True          True\n",
      "timestamp              True       date  datetime64[ns]        True          True\n",
      " date_fields_format: {}\n",
      "Operations:\n",
      " tasks: [('tail': ('sort_field': '_doc', 'count': 5))]\n",
      " size: 5\n",
      " sort_params: _doc:desc\n",
      " _source: None\n",
      " body: {'aggs': {}}\n",
      " post_processing: [('sort_index')]\n",
      "'field_to_display_names': {}\n",
      "'display_to_field_names': {}\n",
      "\n"
     ]
    }
   ],
   "source": [
    "ed_tail = ed_flights.tail()\n",
    "print(ed_tail.info_es())"
   ]
  },
  {
   "cell_type": "code",
   "execution_count": 11,
   "metadata": {
    "pycharm": {
     "is_executing": false
    }
   },
   "outputs": [
    {
     "name": "stdout",
     "output_type": "stream",
     "text": [
      "<class 'eland.dataframe.DataFrame'>\n",
      "Index: 13059 entries, 0 to 13058\n",
      "Data columns (total 27 columns):\n",
      "AvgTicketPrice        13059 non-null float64\n",
      "Cancelled             13059 non-null bool\n",
      "Carrier               13059 non-null object\n",
      "Dest                  13059 non-null object\n",
      "DestAirportID         13059 non-null object\n",
      "DestCityName          13059 non-null object\n",
      "DestCountry           13059 non-null object\n",
      "DestLocation          13059 non-null object\n",
      "DestRegion            13059 non-null object\n",
      "DestWeather           13059 non-null object\n",
      "DistanceKilometers    13059 non-null float64\n",
      "DistanceMiles         13059 non-null float64\n",
      "FlightDelay           13059 non-null bool\n",
      "FlightDelayMin        13059 non-null int64\n",
      "FlightDelayType       13059 non-null object\n",
      "FlightNum             13059 non-null object\n",
      "FlightTimeHour        13059 non-null float64\n",
      "FlightTimeMin         13059 non-null float64\n",
      "Origin                13059 non-null object\n",
      "OriginAirportID       13059 non-null object\n",
      "OriginCityName        13059 non-null object\n",
      "OriginCountry         13059 non-null object\n",
      "OriginLocation        13059 non-null object\n",
      "OriginRegion          13059 non-null object\n",
      "OriginWeather         13059 non-null object\n",
      "dayOfWeek             13059 non-null int64\n",
      "timestamp             13059 non-null datetime64[ns]\n",
      "dtypes: bool(2), datetime64[ns](1), float64(5), int64(2), object(17)\n",
      "memory usage: 96.0 bytes\n"
     ]
    }
   ],
   "source": [
    "ed_flights.info()"
   ]
  },
  {
   "cell_type": "code",
   "execution_count": 12,
   "metadata": {
    "pycharm": {
     "is_executing": false
    }
   },
   "outputs": [
    {
     "data": {
      "text/html": [
       "<div>\n",
       "<style scoped>\n",
       "    .dataframe tbody tr th:only-of-type {\n",
       "        vertical-align: middle;\n",
       "    }\n",
       "\n",
       "    .dataframe tbody tr th {\n",
       "        vertical-align: top;\n",
       "    }\n",
       "\n",
       "    .dataframe thead th {\n",
       "        text-align: right;\n",
       "    }\n",
       "</style>\n",
       "<table border=\"1\" class=\"dataframe\">\n",
       "  <thead>\n",
       "    <tr style=\"text-align: right;\">\n",
       "      <th></th>\n",
       "      <th>AvgTicketPrice</th>\n",
       "      <th>DistanceKilometers</th>\n",
       "      <th>...</th>\n",
       "      <th>FlightTimeMin</th>\n",
       "      <th>dayOfWeek</th>\n",
       "    </tr>\n",
       "  </thead>\n",
       "  <tbody>\n",
       "    <tr>\n",
       "      <td>count</td>\n",
       "      <td>13059.000000</td>\n",
       "      <td>13059.000000</td>\n",
       "      <td>...</td>\n",
       "      <td>13059.000000</td>\n",
       "      <td>13059.000000</td>\n",
       "    </tr>\n",
       "    <tr>\n",
       "      <td>mean</td>\n",
       "      <td>628.253689</td>\n",
       "      <td>7092.142457</td>\n",
       "      <td>...</td>\n",
       "      <td>511.127842</td>\n",
       "      <td>2.835975</td>\n",
       "    </tr>\n",
       "    <tr>\n",
       "      <td>std</td>\n",
       "      <td>266.386661</td>\n",
       "      <td>4578.263193</td>\n",
       "      <td>...</td>\n",
       "      <td>334.741135</td>\n",
       "      <td>1.939365</td>\n",
       "    </tr>\n",
       "    <tr>\n",
       "      <td>min</td>\n",
       "      <td>100.020531</td>\n",
       "      <td>0.000000</td>\n",
       "      <td>...</td>\n",
       "      <td>0.000000</td>\n",
       "      <td>0.000000</td>\n",
       "    </tr>\n",
       "    <tr>\n",
       "      <td>25%</td>\n",
       "      <td>410.011039</td>\n",
       "      <td>2470.545974</td>\n",
       "      <td>...</td>\n",
       "      <td>251.672059</td>\n",
       "      <td>1.000000</td>\n",
       "    </tr>\n",
       "    <tr>\n",
       "      <td>50%</td>\n",
       "      <td>640.387285</td>\n",
       "      <td>7612.072403</td>\n",
       "      <td>...</td>\n",
       "      <td>503.148975</td>\n",
       "      <td>3.000000</td>\n",
       "    </tr>\n",
       "    <tr>\n",
       "      <td>75%</td>\n",
       "      <td>842.254990</td>\n",
       "      <td>9735.660463</td>\n",
       "      <td>...</td>\n",
       "      <td>720.571142</td>\n",
       "      <td>4.069106</td>\n",
       "    </tr>\n",
       "    <tr>\n",
       "      <td>max</td>\n",
       "      <td>1199.729004</td>\n",
       "      <td>19881.482422</td>\n",
       "      <td>...</td>\n",
       "      <td>1902.901978</td>\n",
       "      <td>6.000000</td>\n",
       "    </tr>\n",
       "  </tbody>\n",
       "</table>\n",
       "<p>8 rows × 7 columns</p>\n",
       "</div>"
      ],
      "text/plain": [
       "       AvgTicketPrice  DistanceKilometers  ...  FlightTimeMin     dayOfWeek\n",
       "count    13059.000000        13059.000000  ...   13059.000000  13059.000000\n",
       "mean       628.253689         7092.142457  ...     511.127842      2.835975\n",
       "std        266.386661         4578.263193  ...     334.741135      1.939365\n",
       "min        100.020531            0.000000  ...       0.000000      0.000000\n",
       "25%        410.011039         2470.545974  ...     251.672059      1.000000\n",
       "50%        640.387285         7612.072403  ...     503.148975      3.000000\n",
       "75%        842.254990         9735.660463  ...     720.571142      4.069106\n",
       "max       1199.729004        19881.482422  ...    1902.901978      6.000000\n",
       "\n",
       "[8 rows x 7 columns]"
      ]
     },
     "execution_count": 12,
     "metadata": {},
     "output_type": "execute_result"
    }
   ],
   "source": [
    "# NBVAL_IGNORE_OUTPUT\n",
    "ed_flights.describe()"
   ]
  },
  {
   "cell_type": "code",
   "execution_count": 13,
   "metadata": {
    "pycharm": {
     "is_executing": false
    }
   },
   "outputs": [
    {
     "data": {
      "text/html": [
       "<div>\n",
       "<style scoped>\n",
       "    .dataframe tbody tr th:only-of-type {\n",
       "        vertical-align: middle;\n",
       "    }\n",
       "\n",
       "    .dataframe tbody tr th {\n",
       "        vertical-align: top;\n",
       "    }\n",
       "\n",
       "    .dataframe thead th {\n",
       "        text-align: right;\n",
       "    }\n",
       "</style>\n",
       "<table border=\"1\" class=\"dataframe\">\n",
       "  <thead>\n",
       "    <tr style=\"text-align: right;\">\n",
       "      <th></th>\n",
       "      <th>AvgTicketPrice</th>\n",
       "      <th>DistanceKilometers</th>\n",
       "      <th>...</th>\n",
       "      <th>FlightTimeMin</th>\n",
       "      <th>dayOfWeek</th>\n",
       "    </tr>\n",
       "  </thead>\n",
       "  <tbody>\n",
       "    <tr>\n",
       "      <td>count</td>\n",
       "      <td>13059.000000</td>\n",
       "      <td>13059.000000</td>\n",
       "      <td>...</td>\n",
       "      <td>13059.000000</td>\n",
       "      <td>13059.000000</td>\n",
       "    </tr>\n",
       "    <tr>\n",
       "      <td>mean</td>\n",
       "      <td>628.253689</td>\n",
       "      <td>7092.142455</td>\n",
       "      <td>...</td>\n",
       "      <td>511.127842</td>\n",
       "      <td>2.835975</td>\n",
       "    </tr>\n",
       "    <tr>\n",
       "      <td>std</td>\n",
       "      <td>266.396861</td>\n",
       "      <td>4578.438497</td>\n",
       "      <td>...</td>\n",
       "      <td>334.753952</td>\n",
       "      <td>1.939439</td>\n",
       "    </tr>\n",
       "    <tr>\n",
       "      <td>min</td>\n",
       "      <td>100.020528</td>\n",
       "      <td>0.000000</td>\n",
       "      <td>...</td>\n",
       "      <td>0.000000</td>\n",
       "      <td>0.000000</td>\n",
       "    </tr>\n",
       "    <tr>\n",
       "      <td>25%</td>\n",
       "      <td>409.893816</td>\n",
       "      <td>2459.705673</td>\n",
       "      <td>...</td>\n",
       "      <td>252.333192</td>\n",
       "      <td>1.000000</td>\n",
       "    </tr>\n",
       "    <tr>\n",
       "      <td>50%</td>\n",
       "      <td>640.556668</td>\n",
       "      <td>7610.330866</td>\n",
       "      <td>...</td>\n",
       "      <td>503.045170</td>\n",
       "      <td>3.000000</td>\n",
       "    </tr>\n",
       "    <tr>\n",
       "      <td>75%</td>\n",
       "      <td>842.185470</td>\n",
       "      <td>9736.637600</td>\n",
       "      <td>...</td>\n",
       "      <td>720.416036</td>\n",
       "      <td>4.000000</td>\n",
       "    </tr>\n",
       "    <tr>\n",
       "      <td>max</td>\n",
       "      <td>1199.729053</td>\n",
       "      <td>19881.482315</td>\n",
       "      <td>...</td>\n",
       "      <td>1902.902032</td>\n",
       "      <td>6.000000</td>\n",
       "    </tr>\n",
       "  </tbody>\n",
       "</table>\n",
       "<p>8 rows × 7 columns</p>\n",
       "</div>"
      ],
      "text/plain": [
       "       AvgTicketPrice  DistanceKilometers  ...  FlightTimeMin     dayOfWeek\n",
       "count    13059.000000        13059.000000  ...   13059.000000  13059.000000\n",
       "mean       628.253689         7092.142455  ...     511.127842      2.835975\n",
       "std        266.396861         4578.438497  ...     334.753952      1.939439\n",
       "min        100.020528            0.000000  ...       0.000000      0.000000\n",
       "25%        409.893816         2459.705673  ...     252.333192      1.000000\n",
       "50%        640.556668         7610.330866  ...     503.045170      3.000000\n",
       "75%        842.185470         9736.637600  ...     720.416036      4.000000\n",
       "max       1199.729053        19881.482315  ...    1902.902032      6.000000\n",
       "\n",
       "[8 rows x 7 columns]"
      ]
     },
     "execution_count": 13,
     "metadata": {},
     "output_type": "execute_result"
    }
   ],
   "source": [
    "pd_flights.describe()"
   ]
  },
  {
   "cell_type": "code",
   "execution_count": 14,
   "metadata": {
    "pycharm": {
     "is_executing": false
    }
   },
   "outputs": [
    {
     "name": "stdout",
     "output_type": "stream",
     "text": [
      "<class 'pandas.core.frame.DataFrame'>\n",
      "Index: 13059 entries, 0 to 13058\n",
      "Data columns (total 27 columns):\n",
      "AvgTicketPrice        13059 non-null float64\n",
      "Cancelled             13059 non-null bool\n",
      "Carrier               13059 non-null object\n",
      "Dest                  13059 non-null object\n",
      "DestAirportID         13059 non-null object\n",
      "DestCityName          13059 non-null object\n",
      "DestCountry           13059 non-null object\n",
      "DestLocation          13059 non-null object\n",
      "DestRegion            13059 non-null object\n",
      "DestWeather           13059 non-null object\n",
      "DistanceKilometers    13059 non-null float64\n",
      "DistanceMiles         13059 non-null float64\n",
      "FlightDelay           13059 non-null bool\n",
      "FlightDelayMin        13059 non-null int64\n",
      "FlightDelayType       13059 non-null object\n",
      "FlightNum             13059 non-null object\n",
      "FlightTimeHour        13059 non-null float64\n",
      "FlightTimeMin         13059 non-null float64\n",
      "Origin                13059 non-null object\n",
      "OriginAirportID       13059 non-null object\n",
      "OriginCityName        13059 non-null object\n",
      "OriginCountry         13059 non-null object\n",
      "OriginLocation        13059 non-null object\n",
      "OriginRegion          13059 non-null object\n",
      "OriginWeather         13059 non-null object\n",
      "dayOfWeek             13059 non-null int64\n",
      "timestamp             13059 non-null datetime64[ns]\n",
      "dtypes: bool(2), datetime64[ns](1), float64(5), int64(2), object(17)\n",
      "memory usage: 2.6+ MB\n"
     ]
    }
   ],
   "source": [
    "pd_flights.info()"
   ]
  },
  {
   "cell_type": "code",
   "execution_count": 15,
   "metadata": {
    "pycharm": {
     "is_executing": false
    }
   },
   "outputs": [
    {
     "data": {
      "text/plain": [
       "(13059, 27)"
      ]
     },
     "execution_count": 15,
     "metadata": {},
     "output_type": "execute_result"
    }
   ],
   "source": [
    "ed_flights.shape"
   ]
  },
  {
   "cell_type": "code",
   "execution_count": 16,
   "metadata": {
    "pycharm": {
     "is_executing": false
    }
   },
   "outputs": [
    {
     "data": {
      "text/plain": [
       "(13059, 27)"
      ]
     },
     "execution_count": 16,
     "metadata": {},
     "output_type": "execute_result"
    }
   ],
   "source": [
    "pd_flights.shape"
   ]
  },
  {
   "cell_type": "code",
   "execution_count": 17,
   "metadata": {
    "pycharm": {
     "is_executing": false
    }
   },
   "outputs": [
    {
     "data": {
      "text/plain": [
       "(13059, 27)"
      ]
     },
     "execution_count": 17,
     "metadata": {},
     "output_type": "execute_result"
    }
   ],
   "source": [
    "ed_flights.shape"
   ]
  },
  {
   "cell_type": "code",
   "execution_count": 18,
   "metadata": {
    "pycharm": {
     "is_executing": false
    }
   },
   "outputs": [
    {
     "data": {
      "text/plain": [
       "AvgTicketPrice           float64\n",
       "Cancelled                   bool\n",
       "Carrier                   object\n",
       "Dest                      object\n",
       "DestAirportID             object\n",
       "                       ...      \n",
       "OriginLocation            object\n",
       "OriginRegion              object\n",
       "OriginWeather             object\n",
       "dayOfWeek                  int64\n",
       "timestamp         datetime64[ns]\n",
       "Length: 27, dtype: object"
      ]
     },
     "execution_count": 18,
     "metadata": {},
     "output_type": "execute_result"
    }
   ],
   "source": [
    "pd_flights.dtypes"
   ]
  },
  {
   "cell_type": "code",
   "execution_count": 19,
   "metadata": {
    "pycharm": {
     "is_executing": false
    }
   },
   "outputs": [
    {
     "data": {
      "text/plain": [
       "Index(['AvgTicketPrice', 'Cancelled', 'Carrier', 'Dest', 'DestAirportID', 'DestCityName',\n",
       "       'DestCountry', 'DestLocation', 'DestRegion', 'DestWeather', 'DistanceKilometers',\n",
       "       'DistanceMiles', 'FlightDelay', 'FlightDelayMin', 'FlightDelayType', 'FlightNum',\n",
       "       'FlightTimeHour', 'FlightTimeMin', 'Origin', 'OriginAirportID', 'OriginCityName',\n",
       "       'OriginCountry', 'OriginLocation', 'OriginRegion', 'OriginWeather', 'dayOfWeek',\n",
       "       'timestamp'],\n",
       "      dtype='object')"
      ]
     },
     "execution_count": 19,
     "metadata": {},
     "output_type": "execute_result"
    }
   ],
   "source": [
    "ed_flights.columns"
   ]
  },
  {
   "cell_type": "code",
   "execution_count": 20,
   "metadata": {
    "pycharm": {
     "is_executing": false
    }
   },
   "outputs": [
    {
     "data": {
      "text/plain": [
       "AvgTicketPrice    13059\n",
       "Cancelled         13059\n",
       "Carrier           13059\n",
       "Dest              13059\n",
       "DestAirportID     13059\n",
       "                  ...  \n",
       "OriginLocation    13059\n",
       "OriginRegion      13059\n",
       "OriginWeather     13059\n",
       "dayOfWeek         13059\n",
       "timestamp         13059\n",
       "Length: 27, dtype: int64"
      ]
     },
     "execution_count": 20,
     "metadata": {},
     "output_type": "execute_result"
    }
   ],
   "source": [
    "ed_flights.count()"
   ]
  },
  {
   "cell_type": "code",
   "execution_count": 21,
   "metadata": {
    "pycharm": {
     "is_executing": false
    }
   },
   "outputs": [
    {
     "data": {
      "text/plain": [
       "AvgTicketPrice        100.020531\n",
       "Cancelled               0.000000\n",
       "DistanceKilometers      0.000000\n",
       "DistanceMiles           0.000000\n",
       "FlightDelay             0.000000\n",
       "FlightDelayMin          0.000000\n",
       "FlightTimeHour          0.000000\n",
       "FlightTimeMin           0.000000\n",
       "dayOfWeek               0.000000\n",
       "dtype: float64"
      ]
     },
     "execution_count": 21,
     "metadata": {},
     "output_type": "execute_result"
    }
   ],
   "source": [
    "ed_flights.min()"
   ]
  },
  {
   "cell_type": "code",
   "execution_count": 22,
   "metadata": {
    "pycharm": {
     "is_executing": false
    }
   },
   "outputs": [
    {
     "data": {
      "text/plain": [
       "AvgTicketPrice        8.204365e+06\n",
       "Cancelled             1.678000e+03\n",
       "DistanceKilometers    9.261629e+07\n",
       "DistanceMiles         5.754909e+07\n",
       "FlightDelay           3.280000e+03\n",
       "FlightDelayMin        6.181500e+05\n",
       "FlightTimeHour        1.112470e+05\n",
       "FlightTimeMin         6.674818e+06\n",
       "dayOfWeek             3.703500e+04\n",
       "dtype: float64"
      ]
     },
     "execution_count": 22,
     "metadata": {},
     "output_type": "execute_result"
    }
   ],
   "source": [
    "ed_flights.sum(numeric_only=True)"
   ]
  },
  {
   "cell_type": "code",
   "execution_count": 23,
   "metadata": {
    "pycharm": {
     "is_executing": false
    }
   },
   "outputs": [
    {
     "data": {
      "text/plain": [
       "AvgTicketPrice        8.204365e+06\n",
       "Cancelled             1.678000e+03\n",
       "DistanceKilometers    9.261629e+07\n",
       "DistanceMiles         5.754909e+07\n",
       "FlightDelay           3.280000e+03\n",
       "FlightDelayMin        6.181500e+05\n",
       "FlightTimeHour        1.112470e+05\n",
       "FlightTimeMin         6.674818e+06\n",
       "dayOfWeek             3.703500e+04\n",
       "dtype: float64"
      ]
     },
     "execution_count": 23,
     "metadata": {},
     "output_type": "execute_result"
    }
   ],
   "source": [
    "pd_flights.sum(numeric_only=True)"
   ]
  },
  {
   "cell_type": "code",
   "execution_count": 24,
   "metadata": {
    "pycharm": {
     "is_executing": false
    }
   },
   "outputs": [
    {
     "data": {
      "text/plain": [
       "0     Kibana Airlines\n",
       "1    Logstash Airways\n",
       "2    Logstash Airways\n",
       "3     Kibana Airlines\n",
       "4     Kibana Airlines\n",
       "Name: Carrier, dtype: object"
      ]
     },
     "execution_count": 24,
     "metadata": {},
     "output_type": "execute_result"
    }
   ],
   "source": [
    "ed_flights['Carrier'].head()"
   ]
  },
  {
   "cell_type": "code",
   "execution_count": 25,
   "metadata": {
    "pycharm": {
     "is_executing": false
    }
   },
   "outputs": [
    {
     "data": {
      "text/plain": [
       "0         Kibana Airlines\n",
       "1        Logstash Airways\n",
       "2        Logstash Airways\n",
       "3         Kibana Airlines\n",
       "4         Kibana Airlines\n",
       "               ...       \n",
       "13054    Logstash Airways\n",
       "13055    Logstash Airways\n",
       "13056    Logstash Airways\n",
       "13057            JetBeats\n",
       "13058            JetBeats\n",
       "Name: Carrier, Length: 13059, dtype: object"
      ]
     },
     "execution_count": 25,
     "metadata": {},
     "output_type": "execute_result"
    }
   ],
   "source": [
    "ed_flights.Carrier"
   ]
  },
  {
   "cell_type": "code",
   "execution_count": 26,
   "metadata": {
    "pycharm": {
     "is_executing": false
    }
   },
   "outputs": [],
   "source": [
    "ed_3_cols = ed_flights[['DistanceKilometers', 'Carrier', 'AvgTicketPrice']].head()\n",
    "pd_3_cols = pd_flights[['DistanceKilometers', 'Carrier', 'AvgTicketPrice']].head()"
   ]
  },
  {
   "cell_type": "code",
   "execution_count": 27,
   "metadata": {
    "pycharm": {
     "is_executing": false
    }
   },
   "outputs": [
    {
     "data": {
      "text/html": [
       "<div>\n",
       "<style scoped>\n",
       "    .dataframe tbody tr th:only-of-type {\n",
       "        vertical-align: middle;\n",
       "    }\n",
       "\n",
       "    .dataframe tbody tr th {\n",
       "        vertical-align: top;\n",
       "    }\n",
       "\n",
       "    .dataframe thead th {\n",
       "        text-align: right;\n",
       "    }\n",
       "</style>\n",
       "<table border=\"1\" class=\"dataframe\">\n",
       "  <thead>\n",
       "    <tr style=\"text-align: right;\">\n",
       "      <th></th>\n",
       "      <th>DistanceKilometers</th>\n",
       "      <th>Carrier</th>\n",
       "      <th>AvgTicketPrice</th>\n",
       "    </tr>\n",
       "  </thead>\n",
       "  <tbody>\n",
       "    <tr>\n",
       "      <td>0</td>\n",
       "      <td>16492.326654</td>\n",
       "      <td>Kibana Airlines</td>\n",
       "      <td>841.265642</td>\n",
       "    </tr>\n",
       "    <tr>\n",
       "      <td>1</td>\n",
       "      <td>8823.400140</td>\n",
       "      <td>Logstash Airways</td>\n",
       "      <td>882.982662</td>\n",
       "    </tr>\n",
       "    <tr>\n",
       "      <td>2</td>\n",
       "      <td>0.000000</td>\n",
       "      <td>Logstash Airways</td>\n",
       "      <td>190.636904</td>\n",
       "    </tr>\n",
       "    <tr>\n",
       "      <td>3</td>\n",
       "      <td>555.737767</td>\n",
       "      <td>Kibana Airlines</td>\n",
       "      <td>181.694216</td>\n",
       "    </tr>\n",
       "    <tr>\n",
       "      <td>4</td>\n",
       "      <td>13358.244200</td>\n",
       "      <td>Kibana Airlines</td>\n",
       "      <td>730.041778</td>\n",
       "    </tr>\n",
       "  </tbody>\n",
       "</table>\n",
       "</div>\n",
       "<p>5 rows × 3 columns</p>"
      ],
      "text/plain": [
       "   DistanceKilometers           Carrier  AvgTicketPrice\n",
       "0        16492.326654   Kibana Airlines      841.265642\n",
       "1         8823.400140  Logstash Airways      882.982662\n",
       "2            0.000000  Logstash Airways      190.636904\n",
       "3          555.737767   Kibana Airlines      181.694216\n",
       "4        13358.244200   Kibana Airlines      730.041778\n",
       "\n",
       "[5 rows x 3 columns]"
      ]
     },
     "execution_count": 27,
     "metadata": {},
     "output_type": "execute_result"
    }
   ],
   "source": [
    "ed_3_cols"
   ]
  },
  {
   "cell_type": "code",
   "execution_count": 28,
   "metadata": {
    "pycharm": {
     "is_executing": false
    }
   },
   "outputs": [
    {
     "data": {
      "text/html": [
       "<div>\n",
       "<style scoped>\n",
       "    .dataframe tbody tr th:only-of-type {\n",
       "        vertical-align: middle;\n",
       "    }\n",
       "\n",
       "    .dataframe tbody tr th {\n",
       "        vertical-align: top;\n",
       "    }\n",
       "\n",
       "    .dataframe thead th {\n",
       "        text-align: right;\n",
       "    }\n",
       "</style>\n",
       "<table border=\"1\" class=\"dataframe\">\n",
       "  <thead>\n",
       "    <tr style=\"text-align: right;\">\n",
       "      <th></th>\n",
       "      <th>DistanceKilometers</th>\n",
       "      <th>Carrier</th>\n",
       "      <th>AvgTicketPrice</th>\n",
       "    </tr>\n",
       "  </thead>\n",
       "  <tbody>\n",
       "    <tr>\n",
       "      <td>0</td>\n",
       "      <td>16492.326654</td>\n",
       "      <td>Kibana Airlines</td>\n",
       "      <td>841.265642</td>\n",
       "    </tr>\n",
       "    <tr>\n",
       "      <td>1</td>\n",
       "      <td>8823.400140</td>\n",
       "      <td>Logstash Airways</td>\n",
       "      <td>882.982662</td>\n",
       "    </tr>\n",
       "    <tr>\n",
       "      <td>2</td>\n",
       "      <td>0.000000</td>\n",
       "      <td>Logstash Airways</td>\n",
       "      <td>190.636904</td>\n",
       "    </tr>\n",
       "    <tr>\n",
       "      <td>3</td>\n",
       "      <td>555.737767</td>\n",
       "      <td>Kibana Airlines</td>\n",
       "      <td>181.694216</td>\n",
       "    </tr>\n",
       "    <tr>\n",
       "      <td>4</td>\n",
       "      <td>13358.244200</td>\n",
       "      <td>Kibana Airlines</td>\n",
       "      <td>730.041778</td>\n",
       "    </tr>\n",
       "  </tbody>\n",
       "</table>\n",
       "</div>"
      ],
      "text/plain": [
       "   DistanceKilometers           Carrier  AvgTicketPrice\n",
       "0        16492.326654   Kibana Airlines      841.265642\n",
       "1         8823.400140  Logstash Airways      882.982662\n",
       "2            0.000000  Logstash Airways      190.636904\n",
       "3          555.737767   Kibana Airlines      181.694216\n",
       "4        13358.244200   Kibana Airlines      730.041778"
      ]
     },
     "execution_count": 28,
     "metadata": {},
     "output_type": "execute_result"
    }
   ],
   "source": [
    "pd_3_cols"
   ]
  },
  {
   "cell_type": "code",
   "execution_count": 29,
   "metadata": {
    "pycharm": {
     "is_executing": false
    }
   },
   "outputs": [
    {
     "name": "stdout",
     "output_type": "stream",
     "text": [
      "index_pattern: flights\n",
      "Index:\n",
      " index_field: _id\n",
      " is_source_field: False\n",
      "Mappings:\n",
      " capabilities:                     _source   es_dtype        pd_dtype  searchable  aggregatable\n",
      "AvgTicketPrice         True      float         float64        True          True\n",
      "Cancelled              True    boolean            bool        True          True\n",
      "Carrier                True    keyword          object        True          True\n",
      "Dest                   True    keyword          object        True          True\n",
      "DestAirportID          True    keyword          object        True          True\n",
      "DestCityName           True    keyword          object        True          True\n",
      "DestCountry            True    keyword          object        True          True\n",
      "DestLocation           True  geo_point          object        True          True\n",
      "DestRegion             True    keyword          object        True          True\n",
      "DestWeather            True    keyword          object        True          True\n",
      "DistanceKilometers     True      float         float64        True          True\n",
      "DistanceMiles          True      float         float64        True          True\n",
      "FlightDelay            True    boolean            bool        True          True\n",
      "FlightDelayMin         True    integer           int64        True          True\n",
      "FlightDelayType        True    keyword          object        True          True\n",
      "FlightNum              True    keyword          object        True          True\n",
      "FlightTimeHour         True      float         float64        True          True\n",
      "FlightTimeMin          True      float         float64        True          True\n",
      "Origin                 True    keyword          object        True          True\n",
      "OriginAirportID        True    keyword          object        True          True\n",
      "OriginCityName         True    keyword          object        True          True\n",
      "OriginCountry          True    keyword          object        True          True\n",
      "OriginLocation         True  geo_point          object        True          True\n",
      "OriginRegion           True    keyword          object        True          True\n",
      "OriginWeather          True    keyword          object        True          True\n",
      "dayOfWeek              True    integer           int64        True          True\n",
      "timestamp              True       date  datetime64[ns]        True          True\n",
      " date_fields_format: {}\n",
      "Operations:\n",
      " tasks: [('head': ('sort_field': '_doc', 'count': 5))]\n",
      " size: 5\n",
      " sort_params: _doc:asc\n",
      " _source: ['DistanceKilometers', 'Carrier', 'AvgTicketPrice']\n",
      " body: {'aggs': {}}\n",
      " post_processing: []\n",
      "'field_to_display_names': {}\n",
      "'display_to_field_names': {}\n",
      "\n"
     ]
    }
   ],
   "source": [
    "print(ed_3_cols.info_es())"
   ]
  },
  {
   "cell_type": "code",
   "execution_count": 30,
   "metadata": {
    "pycharm": {
     "is_executing": false
    }
   },
   "outputs": [
    {
     "data": {
      "text/html": [
       "<div>\n",
       "<style scoped>\n",
       "    .dataframe tbody tr th:only-of-type {\n",
       "        vertical-align: middle;\n",
       "    }\n",
       "\n",
       "    .dataframe tbody tr th {\n",
       "        vertical-align: top;\n",
       "    }\n",
       "\n",
       "    .dataframe thead th {\n",
       "        text-align: right;\n",
       "    }\n",
       "</style>\n",
       "<table border=\"1\" class=\"dataframe\">\n",
       "  <thead>\n",
       "    <tr style=\"text-align: right;\">\n",
       "      <th></th>\n",
       "      <th>AvgTicketPrice</th>\n",
       "      <th>Cancelled</th>\n",
       "      <th>...</th>\n",
       "      <th>dayOfWeek</th>\n",
       "      <th>timestamp</th>\n",
       "    </tr>\n",
       "  </thead>\n",
       "  <tbody>\n",
       "    <tr>\n",
       "      <td>0</td>\n",
       "      <td>841.265642</td>\n",
       "      <td>False</td>\n",
       "      <td>...</td>\n",
       "      <td>0</td>\n",
       "      <td>2018-01-01 00:00:00</td>\n",
       "    </tr>\n",
       "    <tr>\n",
       "      <td>3</td>\n",
       "      <td>181.694216</td>\n",
       "      <td>True</td>\n",
       "      <td>...</td>\n",
       "      <td>0</td>\n",
       "      <td>2018-01-01 10:33:28</td>\n",
       "    </tr>\n",
       "    <tr>\n",
       "      <td>4</td>\n",
       "      <td>730.041778</td>\n",
       "      <td>False</td>\n",
       "      <td>...</td>\n",
       "      <td>0</td>\n",
       "      <td>2018-01-01 05:13:00</td>\n",
       "    </tr>\n",
       "    <tr>\n",
       "      <td>7</td>\n",
       "      <td>585.184310</td>\n",
       "      <td>False</td>\n",
       "      <td>...</td>\n",
       "      <td>0</td>\n",
       "      <td>2018-01-01 04:54:59</td>\n",
       "    </tr>\n",
       "    <tr>\n",
       "      <td>8</td>\n",
       "      <td>960.869736</td>\n",
       "      <td>True</td>\n",
       "      <td>...</td>\n",
       "      <td>0</td>\n",
       "      <td>2018-01-01 12:09:35</td>\n",
       "    </tr>\n",
       "    <tr>\n",
       "      <td>...</td>\n",
       "      <td>...</td>\n",
       "      <td>...</td>\n",
       "      <td>...</td>\n",
       "      <td>...</td>\n",
       "      <td>...</td>\n",
       "    </tr>\n",
       "    <tr>\n",
       "      <td>13018</td>\n",
       "      <td>580.741028</td>\n",
       "      <td>True</td>\n",
       "      <td>...</td>\n",
       "      <td>6</td>\n",
       "      <td>2018-02-11 04:47:00</td>\n",
       "    </tr>\n",
       "    <tr>\n",
       "      <td>13020</td>\n",
       "      <td>952.452244</td>\n",
       "      <td>False</td>\n",
       "      <td>...</td>\n",
       "      <td>6</td>\n",
       "      <td>2018-02-11 23:50:12</td>\n",
       "    </tr>\n",
       "    <tr>\n",
       "      <td>13024</td>\n",
       "      <td>530.799356</td>\n",
       "      <td>False</td>\n",
       "      <td>...</td>\n",
       "      <td>6</td>\n",
       "      <td>2018-02-11 11:45:58</td>\n",
       "    </tr>\n",
       "    <tr>\n",
       "      <td>13027</td>\n",
       "      <td>999.021256</td>\n",
       "      <td>False</td>\n",
       "      <td>...</td>\n",
       "      <td>6</td>\n",
       "      <td>2018-02-11 13:32:15</td>\n",
       "    </tr>\n",
       "    <tr>\n",
       "      <td>13029</td>\n",
       "      <td>795.905278</td>\n",
       "      <td>False</td>\n",
       "      <td>...</td>\n",
       "      <td>6</td>\n",
       "      <td>2018-02-11 20:10:13</td>\n",
       "    </tr>\n",
       "  </tbody>\n",
       "</table>\n",
       "<p>3234 rows × 27 columns</p>\n",
       "</div>"
      ],
      "text/plain": [
       "       AvgTicketPrice  Cancelled  ... dayOfWeek           timestamp\n",
       "0          841.265642      False  ...         0 2018-01-01 00:00:00\n",
       "3          181.694216       True  ...         0 2018-01-01 10:33:28\n",
       "4          730.041778      False  ...         0 2018-01-01 05:13:00\n",
       "7          585.184310      False  ...         0 2018-01-01 04:54:59\n",
       "8          960.869736       True  ...         0 2018-01-01 12:09:35\n",
       "...               ...        ...  ...       ...                 ...\n",
       "13018      580.741028       True  ...         6 2018-02-11 04:47:00\n",
       "13020      952.452244      False  ...         6 2018-02-11 23:50:12\n",
       "13024      530.799356      False  ...         6 2018-02-11 11:45:58\n",
       "13027      999.021256      False  ...         6 2018-02-11 13:32:15\n",
       "13029      795.905278      False  ...         6 2018-02-11 20:10:13\n",
       "\n",
       "[3234 rows x 27 columns]"
      ]
     },
     "execution_count": 30,
     "metadata": {},
     "output_type": "execute_result"
    }
   ],
   "source": [
    "pd_flights[pd_flights.Carrier=='Kibana Airlines']"
   ]
  },
  {
   "cell_type": "code",
   "execution_count": 31,
   "metadata": {
    "pycharm": {
     "is_executing": false
    }
   },
   "outputs": [],
   "source": [
    "pd_col0 = pd_flights.drop(['Carrier', 'DestCityName'], axis=1)\n",
    "pd_col1 = pd_flights.drop(columns=['Carrier', 'DestCityName'])\n",
    "\n",
    "ed_col0 = ed_flights.drop(['Carrier', 'DestCityName'], axis=1)\n",
    "ed_col1 = ed_flights.drop(columns=['Carrier', 'DestCityName'])"
   ]
  },
  {
   "cell_type": "code",
   "execution_count": 32,
   "metadata": {
    "pycharm": {
     "is_executing": false
    }
   },
   "outputs": [
    {
     "data": {
      "text/html": [
       "<div>\n",
       "<style scoped>\n",
       "    .dataframe tbody tr th:only-of-type {\n",
       "        vertical-align: middle;\n",
       "    }\n",
       "\n",
       "    .dataframe tbody tr th {\n",
       "        vertical-align: top;\n",
       "    }\n",
       "\n",
       "    .dataframe thead th {\n",
       "        text-align: right;\n",
       "    }\n",
       "</style>\n",
       "<table border=\"1\" class=\"dataframe\">\n",
       "  <thead>\n",
       "    <tr style=\"text-align: right;\">\n",
       "      <th></th>\n",
       "      <th>AvgTicketPrice</th>\n",
       "      <th>Cancelled</th>\n",
       "      <th>...</th>\n",
       "      <th>dayOfWeek</th>\n",
       "      <th>timestamp</th>\n",
       "    </tr>\n",
       "  </thead>\n",
       "  <tbody>\n",
       "    <tr>\n",
       "      <td>0</td>\n",
       "      <td>841.265642</td>\n",
       "      <td>False</td>\n",
       "      <td>...</td>\n",
       "      <td>0</td>\n",
       "      <td>2018-01-01 00:00:00</td>\n",
       "    </tr>\n",
       "    <tr>\n",
       "      <td>1</td>\n",
       "      <td>882.982662</td>\n",
       "      <td>False</td>\n",
       "      <td>...</td>\n",
       "      <td>0</td>\n",
       "      <td>2018-01-01 18:27:00</td>\n",
       "    </tr>\n",
       "    <tr>\n",
       "      <td>2</td>\n",
       "      <td>190.636904</td>\n",
       "      <td>False</td>\n",
       "      <td>...</td>\n",
       "      <td>0</td>\n",
       "      <td>2018-01-01 17:11:14</td>\n",
       "    </tr>\n",
       "    <tr>\n",
       "      <td>3</td>\n",
       "      <td>181.694216</td>\n",
       "      <td>True</td>\n",
       "      <td>...</td>\n",
       "      <td>0</td>\n",
       "      <td>2018-01-01 10:33:28</td>\n",
       "    </tr>\n",
       "    <tr>\n",
       "      <td>4</td>\n",
       "      <td>730.041778</td>\n",
       "      <td>False</td>\n",
       "      <td>...</td>\n",
       "      <td>0</td>\n",
       "      <td>2018-01-01 05:13:00</td>\n",
       "    </tr>\n",
       "    <tr>\n",
       "      <td>...</td>\n",
       "      <td>...</td>\n",
       "      <td>...</td>\n",
       "      <td>...</td>\n",
       "      <td>...</td>\n",
       "      <td>...</td>\n",
       "    </tr>\n",
       "    <tr>\n",
       "      <td>13054</td>\n",
       "      <td>1080.446279</td>\n",
       "      <td>False</td>\n",
       "      <td>...</td>\n",
       "      <td>6</td>\n",
       "      <td>2018-02-11 20:42:25</td>\n",
       "    </tr>\n",
       "    <tr>\n",
       "      <td>13055</td>\n",
       "      <td>646.612941</td>\n",
       "      <td>False</td>\n",
       "      <td>...</td>\n",
       "      <td>6</td>\n",
       "      <td>2018-02-11 01:41:57</td>\n",
       "    </tr>\n",
       "    <tr>\n",
       "      <td>13056</td>\n",
       "      <td>997.751876</td>\n",
       "      <td>False</td>\n",
       "      <td>...</td>\n",
       "      <td>6</td>\n",
       "      <td>2018-02-11 04:09:27</td>\n",
       "    </tr>\n",
       "    <tr>\n",
       "      <td>13057</td>\n",
       "      <td>1102.814465</td>\n",
       "      <td>False</td>\n",
       "      <td>...</td>\n",
       "      <td>6</td>\n",
       "      <td>2018-02-11 08:28:21</td>\n",
       "    </tr>\n",
       "    <tr>\n",
       "      <td>13058</td>\n",
       "      <td>858.144337</td>\n",
       "      <td>False</td>\n",
       "      <td>...</td>\n",
       "      <td>6</td>\n",
       "      <td>2018-02-11 14:54:34</td>\n",
       "    </tr>\n",
       "  </tbody>\n",
       "</table>\n",
       "<p>13059 rows × 25 columns</p>\n",
       "</div>"
      ],
      "text/plain": [
       "       AvgTicketPrice  Cancelled  ... dayOfWeek           timestamp\n",
       "0          841.265642      False  ...         0 2018-01-01 00:00:00\n",
       "1          882.982662      False  ...         0 2018-01-01 18:27:00\n",
       "2          190.636904      False  ...         0 2018-01-01 17:11:14\n",
       "3          181.694216       True  ...         0 2018-01-01 10:33:28\n",
       "4          730.041778      False  ...         0 2018-01-01 05:13:00\n",
       "...               ...        ...  ...       ...                 ...\n",
       "13054     1080.446279      False  ...         6 2018-02-11 20:42:25\n",
       "13055      646.612941      False  ...         6 2018-02-11 01:41:57\n",
       "13056      997.751876      False  ...         6 2018-02-11 04:09:27\n",
       "13057     1102.814465      False  ...         6 2018-02-11 08:28:21\n",
       "13058      858.144337      False  ...         6 2018-02-11 14:54:34\n",
       "\n",
       "[13059 rows x 25 columns]"
      ]
     },
     "execution_count": 32,
     "metadata": {},
     "output_type": "execute_result"
    }
   ],
   "source": [
    "pd_col0"
   ]
  },
  {
   "cell_type": "code",
   "execution_count": 33,
   "metadata": {
    "pycharm": {
     "is_executing": false
    }
   },
   "outputs": [
    {
     "data": {
      "text/html": [
       "<div>\n",
       "<style scoped>\n",
       "    .dataframe tbody tr th:only-of-type {\n",
       "        vertical-align: middle;\n",
       "    }\n",
       "\n",
       "    .dataframe tbody tr th {\n",
       "        vertical-align: top;\n",
       "    }\n",
       "\n",
       "    .dataframe thead th {\n",
       "        text-align: right;\n",
       "    }\n",
       "</style>\n",
       "<table border=\"1\" class=\"dataframe\">\n",
       "  <thead>\n",
       "    <tr style=\"text-align: right;\">\n",
       "      <th></th>\n",
       "      <th>AvgTicketPrice</th>\n",
       "      <th>Cancelled</th>\n",
       "      <th>...</th>\n",
       "      <th>dayOfWeek</th>\n",
       "      <th>timestamp</th>\n",
       "    </tr>\n",
       "  </thead>\n",
       "  <tbody>\n",
       "    <tr>\n",
       "      <td>0</td>\n",
       "      <td>841.265642</td>\n",
       "      <td>False</td>\n",
       "      <td>...</td>\n",
       "      <td>0</td>\n",
       "      <td>2018-01-01 00:00:00</td>\n",
       "    </tr>\n",
       "    <tr>\n",
       "      <td>1</td>\n",
       "      <td>882.982662</td>\n",
       "      <td>False</td>\n",
       "      <td>...</td>\n",
       "      <td>0</td>\n",
       "      <td>2018-01-01 18:27:00</td>\n",
       "    </tr>\n",
       "    <tr>\n",
       "      <td>2</td>\n",
       "      <td>190.636904</td>\n",
       "      <td>False</td>\n",
       "      <td>...</td>\n",
       "      <td>0</td>\n",
       "      <td>2018-01-01 17:11:14</td>\n",
       "    </tr>\n",
       "    <tr>\n",
       "      <td>3</td>\n",
       "      <td>181.694216</td>\n",
       "      <td>True</td>\n",
       "      <td>...</td>\n",
       "      <td>0</td>\n",
       "      <td>2018-01-01 10:33:28</td>\n",
       "    </tr>\n",
       "    <tr>\n",
       "      <td>4</td>\n",
       "      <td>730.041778</td>\n",
       "      <td>False</td>\n",
       "      <td>...</td>\n",
       "      <td>0</td>\n",
       "      <td>2018-01-01 05:13:00</td>\n",
       "    </tr>\n",
       "    <tr>\n",
       "      <td>...</td>\n",
       "      <td>...</td>\n",
       "      <td>...</td>\n",
       "      <td>...</td>\n",
       "      <td>...</td>\n",
       "      <td>...</td>\n",
       "    </tr>\n",
       "    <tr>\n",
       "      <td>13054</td>\n",
       "      <td>1080.446279</td>\n",
       "      <td>False</td>\n",
       "      <td>...</td>\n",
       "      <td>6</td>\n",
       "      <td>2018-02-11 20:42:25</td>\n",
       "    </tr>\n",
       "    <tr>\n",
       "      <td>13055</td>\n",
       "      <td>646.612941</td>\n",
       "      <td>False</td>\n",
       "      <td>...</td>\n",
       "      <td>6</td>\n",
       "      <td>2018-02-11 01:41:57</td>\n",
       "    </tr>\n",
       "    <tr>\n",
       "      <td>13056</td>\n",
       "      <td>997.751876</td>\n",
       "      <td>False</td>\n",
       "      <td>...</td>\n",
       "      <td>6</td>\n",
       "      <td>2018-02-11 04:09:27</td>\n",
       "    </tr>\n",
       "    <tr>\n",
       "      <td>13057</td>\n",
       "      <td>1102.814465</td>\n",
       "      <td>False</td>\n",
       "      <td>...</td>\n",
       "      <td>6</td>\n",
       "      <td>2018-02-11 08:28:21</td>\n",
       "    </tr>\n",
       "    <tr>\n",
       "      <td>13058</td>\n",
       "      <td>858.144337</td>\n",
       "      <td>False</td>\n",
       "      <td>...</td>\n",
       "      <td>6</td>\n",
       "      <td>2018-02-11 14:54:34</td>\n",
       "    </tr>\n",
       "  </tbody>\n",
       "</table>\n",
       "</div>\n",
       "<p>13059 rows × 25 columns</p>"
      ],
      "text/plain": [
       "       AvgTicketPrice  Cancelled  ... dayOfWeek           timestamp\n",
       "0          841.265642      False  ...         0 2018-01-01 00:00:00\n",
       "1          882.982662      False  ...         0 2018-01-01 18:27:00\n",
       "2          190.636904      False  ...         0 2018-01-01 17:11:14\n",
       "3          181.694216       True  ...         0 2018-01-01 10:33:28\n",
       "4          730.041778      False  ...         0 2018-01-01 05:13:00\n",
       "...               ...        ...  ...       ...                 ...\n",
       "13054     1080.446279      False  ...         6 2018-02-11 20:42:25\n",
       "13055      646.612941      False  ...         6 2018-02-11 01:41:57\n",
       "13056      997.751876      False  ...         6 2018-02-11 04:09:27\n",
       "13057     1102.814465      False  ...         6 2018-02-11 08:28:21\n",
       "13058      858.144337      False  ...         6 2018-02-11 14:54:34\n",
       "\n",
       "[13059 rows x 25 columns]"
      ]
     },
     "execution_count": 33,
     "metadata": {},
     "output_type": "execute_result"
    }
   ],
   "source": [
    "ed_col0"
   ]
  },
  {
   "cell_type": "code",
   "execution_count": 34,
   "metadata": {
    "pycharm": {
     "is_executing": false
    }
   },
   "outputs": [],
   "source": [
    "pd_idx0 = pd_flights.drop(['1', '2'])\n",
    "ed_idx0 = ed_flights.drop(['1', '2'])"
   ]
  },
  {
   "cell_type": "code",
   "execution_count": 35,
   "metadata": {
    "pycharm": {
     "is_executing": false
    }
   },
   "outputs": [
    {
     "data": {
      "text/html": [
       "<div>\n",
       "<style scoped>\n",
       "    .dataframe tbody tr th:only-of-type {\n",
       "        vertical-align: middle;\n",
       "    }\n",
       "\n",
       "    .dataframe tbody tr th {\n",
       "        vertical-align: top;\n",
       "    }\n",
       "\n",
       "    .dataframe thead th {\n",
       "        text-align: right;\n",
       "    }\n",
       "</style>\n",
       "<table border=\"1\" class=\"dataframe\">\n",
       "  <thead>\n",
       "    <tr style=\"text-align: right;\">\n",
       "      <th></th>\n",
       "      <th>AvgTicketPrice</th>\n",
       "      <th>Cancelled</th>\n",
       "      <th>...</th>\n",
       "      <th>dayOfWeek</th>\n",
       "      <th>timestamp</th>\n",
       "    </tr>\n",
       "  </thead>\n",
       "  <tbody>\n",
       "    <tr>\n",
       "      <td>0</td>\n",
       "      <td>841.265642</td>\n",
       "      <td>False</td>\n",
       "      <td>...</td>\n",
       "      <td>0</td>\n",
       "      <td>2018-01-01 00:00:00</td>\n",
       "    </tr>\n",
       "    <tr>\n",
       "      <td>3</td>\n",
       "      <td>181.694216</td>\n",
       "      <td>True</td>\n",
       "      <td>...</td>\n",
       "      <td>0</td>\n",
       "      <td>2018-01-01 10:33:28</td>\n",
       "    </tr>\n",
       "    <tr>\n",
       "      <td>4</td>\n",
       "      <td>730.041778</td>\n",
       "      <td>False</td>\n",
       "      <td>...</td>\n",
       "      <td>0</td>\n",
       "      <td>2018-01-01 05:13:00</td>\n",
       "    </tr>\n",
       "    <tr>\n",
       "      <td>5</td>\n",
       "      <td>418.152089</td>\n",
       "      <td>False</td>\n",
       "      <td>...</td>\n",
       "      <td>0</td>\n",
       "      <td>2018-01-01 01:43:03</td>\n",
       "    </tr>\n",
       "    <tr>\n",
       "      <td>6</td>\n",
       "      <td>180.246816</td>\n",
       "      <td>False</td>\n",
       "      <td>...</td>\n",
       "      <td>0</td>\n",
       "      <td>2018-01-01 13:49:53</td>\n",
       "    </tr>\n",
       "    <tr>\n",
       "      <td>...</td>\n",
       "      <td>...</td>\n",
       "      <td>...</td>\n",
       "      <td>...</td>\n",
       "      <td>...</td>\n",
       "      <td>...</td>\n",
       "    </tr>\n",
       "    <tr>\n",
       "      <td>13054</td>\n",
       "      <td>1080.446279</td>\n",
       "      <td>False</td>\n",
       "      <td>...</td>\n",
       "      <td>6</td>\n",
       "      <td>2018-02-11 20:42:25</td>\n",
       "    </tr>\n",
       "    <tr>\n",
       "      <td>13055</td>\n",
       "      <td>646.612941</td>\n",
       "      <td>False</td>\n",
       "      <td>...</td>\n",
       "      <td>6</td>\n",
       "      <td>2018-02-11 01:41:57</td>\n",
       "    </tr>\n",
       "    <tr>\n",
       "      <td>13056</td>\n",
       "      <td>997.751876</td>\n",
       "      <td>False</td>\n",
       "      <td>...</td>\n",
       "      <td>6</td>\n",
       "      <td>2018-02-11 04:09:27</td>\n",
       "    </tr>\n",
       "    <tr>\n",
       "      <td>13057</td>\n",
       "      <td>1102.814465</td>\n",
       "      <td>False</td>\n",
       "      <td>...</td>\n",
       "      <td>6</td>\n",
       "      <td>2018-02-11 08:28:21</td>\n",
       "    </tr>\n",
       "    <tr>\n",
       "      <td>13058</td>\n",
       "      <td>858.144337</td>\n",
       "      <td>False</td>\n",
       "      <td>...</td>\n",
       "      <td>6</td>\n",
       "      <td>2018-02-11 14:54:34</td>\n",
       "    </tr>\n",
       "  </tbody>\n",
       "</table>\n",
       "<p>13057 rows × 27 columns</p>\n",
       "</div>"
      ],
      "text/plain": [
       "       AvgTicketPrice  Cancelled  ... dayOfWeek           timestamp\n",
       "0          841.265642      False  ...         0 2018-01-01 00:00:00\n",
       "3          181.694216       True  ...         0 2018-01-01 10:33:28\n",
       "4          730.041778      False  ...         0 2018-01-01 05:13:00\n",
       "5          418.152089      False  ...         0 2018-01-01 01:43:03\n",
       "6          180.246816      False  ...         0 2018-01-01 13:49:53\n",
       "...               ...        ...  ...       ...                 ...\n",
       "13054     1080.446279      False  ...         6 2018-02-11 20:42:25\n",
       "13055      646.612941      False  ...         6 2018-02-11 01:41:57\n",
       "13056      997.751876      False  ...         6 2018-02-11 04:09:27\n",
       "13057     1102.814465      False  ...         6 2018-02-11 08:28:21\n",
       "13058      858.144337      False  ...         6 2018-02-11 14:54:34\n",
       "\n",
       "[13057 rows x 27 columns]"
      ]
     },
     "execution_count": 35,
     "metadata": {},
     "output_type": "execute_result"
    }
   ],
   "source": [
    "pd_idx0"
   ]
  },
  {
   "cell_type": "code",
   "execution_count": 36,
   "metadata": {
    "pycharm": {
     "is_executing": false
    }
   },
   "outputs": [
    {
     "data": {
      "text/html": [
       "<div>\n",
       "<style scoped>\n",
       "    .dataframe tbody tr th:only-of-type {\n",
       "        vertical-align: middle;\n",
       "    }\n",
       "\n",
       "    .dataframe tbody tr th {\n",
       "        vertical-align: top;\n",
       "    }\n",
       "\n",
       "    .dataframe thead th {\n",
       "        text-align: right;\n",
       "    }\n",
       "</style>\n",
       "<table border=\"1\" class=\"dataframe\">\n",
       "  <thead>\n",
       "    <tr style=\"text-align: right;\">\n",
       "      <th></th>\n",
       "      <th>AvgTicketPrice</th>\n",
       "      <th>Cancelled</th>\n",
       "      <th>...</th>\n",
       "      <th>dayOfWeek</th>\n",
       "      <th>timestamp</th>\n",
       "    </tr>\n",
       "  </thead>\n",
       "  <tbody>\n",
       "    <tr>\n",
       "      <td>0</td>\n",
       "      <td>841.265642</td>\n",
       "      <td>False</td>\n",
       "      <td>...</td>\n",
       "      <td>0</td>\n",
       "      <td>2018-01-01 00:00:00</td>\n",
       "    </tr>\n",
       "    <tr>\n",
       "      <td>3</td>\n",
       "      <td>181.694216</td>\n",
       "      <td>True</td>\n",
       "      <td>...</td>\n",
       "      <td>0</td>\n",
       "      <td>2018-01-01 10:33:28</td>\n",
       "    </tr>\n",
       "    <tr>\n",
       "      <td>4</td>\n",
       "      <td>730.041778</td>\n",
       "      <td>False</td>\n",
       "      <td>...</td>\n",
       "      <td>0</td>\n",
       "      <td>2018-01-01 05:13:00</td>\n",
       "    </tr>\n",
       "    <tr>\n",
       "      <td>5</td>\n",
       "      <td>418.152089</td>\n",
       "      <td>False</td>\n",
       "      <td>...</td>\n",
       "      <td>0</td>\n",
       "      <td>2018-01-01 01:43:03</td>\n",
       "    </tr>\n",
       "    <tr>\n",
       "      <td>6</td>\n",
       "      <td>180.246816</td>\n",
       "      <td>False</td>\n",
       "      <td>...</td>\n",
       "      <td>0</td>\n",
       "      <td>2018-01-01 13:49:53</td>\n",
       "    </tr>\n",
       "    <tr>\n",
       "      <td>...</td>\n",
       "      <td>...</td>\n",
       "      <td>...</td>\n",
       "      <td>...</td>\n",
       "      <td>...</td>\n",
       "      <td>...</td>\n",
       "    </tr>\n",
       "    <tr>\n",
       "      <td>13054</td>\n",
       "      <td>1080.446279</td>\n",
       "      <td>False</td>\n",
       "      <td>...</td>\n",
       "      <td>6</td>\n",
       "      <td>2018-02-11 20:42:25</td>\n",
       "    </tr>\n",
       "    <tr>\n",
       "      <td>13055</td>\n",
       "      <td>646.612941</td>\n",
       "      <td>False</td>\n",
       "      <td>...</td>\n",
       "      <td>6</td>\n",
       "      <td>2018-02-11 01:41:57</td>\n",
       "    </tr>\n",
       "    <tr>\n",
       "      <td>13056</td>\n",
       "      <td>997.751876</td>\n",
       "      <td>False</td>\n",
       "      <td>...</td>\n",
       "      <td>6</td>\n",
       "      <td>2018-02-11 04:09:27</td>\n",
       "    </tr>\n",
       "    <tr>\n",
       "      <td>13057</td>\n",
       "      <td>1102.814465</td>\n",
       "      <td>False</td>\n",
       "      <td>...</td>\n",
       "      <td>6</td>\n",
       "      <td>2018-02-11 08:28:21</td>\n",
       "    </tr>\n",
       "    <tr>\n",
       "      <td>13058</td>\n",
       "      <td>858.144337</td>\n",
       "      <td>False</td>\n",
       "      <td>...</td>\n",
       "      <td>6</td>\n",
       "      <td>2018-02-11 14:54:34</td>\n",
       "    </tr>\n",
       "  </tbody>\n",
       "</table>\n",
       "</div>\n",
       "<p>13057 rows × 27 columns</p>"
      ],
      "text/plain": [
       "       AvgTicketPrice  Cancelled  ... dayOfWeek           timestamp\n",
       "0          841.265642      False  ...         0 2018-01-01 00:00:00\n",
       "3          181.694216       True  ...         0 2018-01-01 10:33:28\n",
       "4          730.041778      False  ...         0 2018-01-01 05:13:00\n",
       "5          418.152089      False  ...         0 2018-01-01 01:43:03\n",
       "6          180.246816      False  ...         0 2018-01-01 13:49:53\n",
       "...               ...        ...  ...       ...                 ...\n",
       "13054     1080.446279      False  ...         6 2018-02-11 20:42:25\n",
       "13055      646.612941      False  ...         6 2018-02-11 01:41:57\n",
       "13056      997.751876      False  ...         6 2018-02-11 04:09:27\n",
       "13057     1102.814465      False  ...         6 2018-02-11 08:28:21\n",
       "13058      858.144337      False  ...         6 2018-02-11 14:54:34\n",
       "\n",
       "[13057 rows x 27 columns]"
      ]
     },
     "execution_count": 36,
     "metadata": {},
     "output_type": "execute_result"
    }
   ],
   "source": [
    "ed_idx0"
   ]
  },
  {
   "cell_type": "code",
   "execution_count": 37,
   "metadata": {
    "pycharm": {
     "is_executing": true
    }
   },
   "outputs": [],
   "source": [
    "df = pd.DataFrame(data={'A': [0.1, 1.0, 10.0],\n",
    "                                'B': 1,\n",
    "                                'C': 'foo',\n",
    "                                'D': pd.Timestamp('20190102'),\n",
    "                                'E': [1.0, 2.0, 3.0],\n",
    "                                'F': False,\n",
    "                                'G': [1, 2, 3]},\n",
    "                          index=['0','1','2'])\n",
    "\n",
    "expected_mappings = {'mappings': {\n",
    "    'properties': {'A': {'type': 'double'},\n",
    "                   'B': {'type': 'long'},\n",
    "                   'C': {'type': 'keyword'},\n",
    "                   'D': {'type': 'date'},\n",
    "                   'E': {'type': 'double'},\n",
    "                   'F': {'type': 'boolean'},\n",
    "                   'G': {'type': 'long'}}}}\n",
    "\n",
    "mappings = ed.Mappings._generate_es_mappings(df)\n",
    "\n",
    "assert expected_mappings == mappings\n",
    "\n",
    "# Now create index\n",
    "index_name = 'eland_test_generate_es_mappings'\n",
    "\n",
    "ed.pandas_to_eland(df, 'localhost', index_name, if_exists=\"replace\", refresh=True)\n",
    "\n",
    "ed_df = ed.DataFrame('localhost', index_name)"
   ]
  },
  {
   "cell_type": "code",
   "execution_count": 38,
   "metadata": {
    "pycharm": {
     "is_executing": true
    }
   },
   "outputs": [
    {
     "data": {
      "text/html": [
       "<div>\n",
       "<style scoped>\n",
       "    .dataframe tbody tr th:only-of-type {\n",
       "        vertical-align: middle;\n",
       "    }\n",
       "\n",
       "    .dataframe tbody tr th {\n",
       "        vertical-align: top;\n",
       "    }\n",
       "\n",
       "    .dataframe thead th {\n",
       "        text-align: right;\n",
       "    }\n",
       "</style>\n",
       "<table border=\"1\" class=\"dataframe\">\n",
       "  <thead>\n",
       "    <tr style=\"text-align: right;\">\n",
       "      <th></th>\n",
       "      <th>A</th>\n",
       "      <th>B</th>\n",
       "      <th>...</th>\n",
       "      <th>F</th>\n",
       "      <th>G</th>\n",
       "    </tr>\n",
       "  </thead>\n",
       "  <tbody>\n",
       "    <tr>\n",
       "      <td>0</td>\n",
       "      <td>0.1</td>\n",
       "      <td>1</td>\n",
       "      <td>...</td>\n",
       "      <td>False</td>\n",
       "      <td>1</td>\n",
       "    </tr>\n",
       "    <tr>\n",
       "      <td>1</td>\n",
       "      <td>1.0</td>\n",
       "      <td>1</td>\n",
       "      <td>...</td>\n",
       "      <td>False</td>\n",
       "      <td>2</td>\n",
       "    </tr>\n",
       "    <tr>\n",
       "      <td>2</td>\n",
       "      <td>10.0</td>\n",
       "      <td>1</td>\n",
       "      <td>...</td>\n",
       "      <td>False</td>\n",
       "      <td>3</td>\n",
       "    </tr>\n",
       "  </tbody>\n",
       "</table>\n",
       "</div>\n",
       "<p>3 rows × 7 columns</p>"
      ],
      "text/plain": [
       "      A  B  ...      F  G\n",
       "0   0.1  1  ...  False  1\n",
       "1   1.0  1  ...  False  2\n",
       "2  10.0  1  ...  False  3\n",
       "\n",
       "[3 rows x 7 columns]"
      ]
     },
     "execution_count": 38,
     "metadata": {},
     "output_type": "execute_result"
    }
   ],
   "source": [
    "ed_df"
   ]
  },
  {
   "cell_type": "code",
   "execution_count": 39,
   "metadata": {
    "pycharm": {
     "is_executing": true
    }
   },
   "outputs": [
    {
     "data": {
      "text/html": [
       "<div>\n",
       "<style scoped>\n",
       "    .dataframe tbody tr th:only-of-type {\n",
       "        vertical-align: middle;\n",
       "    }\n",
       "\n",
       "    .dataframe tbody tr th {\n",
       "        vertical-align: top;\n",
       "    }\n",
       "\n",
       "    .dataframe thead th {\n",
       "        text-align: right;\n",
       "    }\n",
       "</style>\n",
       "<table border=\"1\" class=\"dataframe\">\n",
       "  <thead>\n",
       "    <tr style=\"text-align: right;\">\n",
       "      <th></th>\n",
       "      <th>A</th>\n",
       "      <th>B</th>\n",
       "      <th>...</th>\n",
       "      <th>F</th>\n",
       "      <th>G</th>\n",
       "    </tr>\n",
       "  </thead>\n",
       "  <tbody>\n",
       "    <tr>\n",
       "      <td>0</td>\n",
       "      <td>0.1</td>\n",
       "      <td>1</td>\n",
       "      <td>...</td>\n",
       "      <td>False</td>\n",
       "      <td>1</td>\n",
       "    </tr>\n",
       "    <tr>\n",
       "      <td>1</td>\n",
       "      <td>1.0</td>\n",
       "      <td>1</td>\n",
       "      <td>...</td>\n",
       "      <td>False</td>\n",
       "      <td>2</td>\n",
       "    </tr>\n",
       "    <tr>\n",
       "      <td>2</td>\n",
       "      <td>10.0</td>\n",
       "      <td>1</td>\n",
       "      <td>...</td>\n",
       "      <td>False</td>\n",
       "      <td>3</td>\n",
       "    </tr>\n",
       "  </tbody>\n",
       "</table>\n",
       "<p>3 rows × 7 columns</p>\n",
       "</div>"
      ],
      "text/plain": [
       "      A  B  ...      F  G\n",
       "0   0.1  1  ...  False  1\n",
       "1   1.0  1  ...  False  2\n",
       "2  10.0  1  ...  False  3\n",
       "\n",
       "[3 rows x 7 columns]"
      ]
     },
     "execution_count": 39,
     "metadata": {},
     "output_type": "execute_result"
    }
   ],
   "source": [
    "df"
   ]
  },
  {
   "cell_type": "code",
   "execution_count": 40,
   "metadata": {
    "pycharm": {
     "is_executing": true
    }
   },
   "outputs": [
    {
     "data": {
      "text/html": [
       "<div>\n",
       "<style scoped>\n",
       "    .dataframe tbody tr th:only-of-type {\n",
       "        vertical-align: middle;\n",
       "    }\n",
       "\n",
       "    .dataframe tbody tr th {\n",
       "        vertical-align: top;\n",
       "    }\n",
       "\n",
       "    .dataframe thead th {\n",
       "        text-align: right;\n",
       "    }\n",
       "</style>\n",
       "<table border=\"1\" class=\"dataframe\">\n",
       "  <thead>\n",
       "    <tr style=\"text-align: right;\">\n",
       "      <th></th>\n",
       "      <th>A</th>\n",
       "      <th>B</th>\n",
       "      <th>...</th>\n",
       "      <th>F</th>\n",
       "      <th>G</th>\n",
       "    </tr>\n",
       "  </thead>\n",
       "  <tbody>\n",
       "    <tr>\n",
       "      <td>0</td>\n",
       "      <td>0.1</td>\n",
       "      <td>1</td>\n",
       "      <td>...</td>\n",
       "      <td>False</td>\n",
       "      <td>1</td>\n",
       "    </tr>\n",
       "    <tr>\n",
       "      <td>1</td>\n",
       "      <td>1.0</td>\n",
       "      <td>1</td>\n",
       "      <td>...</td>\n",
       "      <td>False</td>\n",
       "      <td>2</td>\n",
       "    </tr>\n",
       "    <tr>\n",
       "      <td>2</td>\n",
       "      <td>10.0</td>\n",
       "      <td>1</td>\n",
       "      <td>...</td>\n",
       "      <td>False</td>\n",
       "      <td>3</td>\n",
       "    </tr>\n",
       "  </tbody>\n",
       "</table>\n",
       "<p>3 rows × 7 columns</p>\n",
       "</div>"
      ],
      "text/plain": [
       "      A  B  ...      F  G\n",
       "0   0.1  1  ...  False  1\n",
       "1   1.0  1  ...  False  2\n",
       "2  10.0  1  ...  False  3\n",
       "\n",
       "[3 rows x 7 columns]"
      ]
     },
     "execution_count": 40,
     "metadata": {},
     "output_type": "execute_result"
    }
   ],
   "source": [
    "df = ed.eland_to_pandas(ed_df)\n",
    "df"
   ]
  },
  {
   "cell_type": "code",
   "execution_count": 41,
   "metadata": {
    "pycharm": {
     "is_executing": true
    }
   },
   "outputs": [
    {
     "data": {
      "text/plain": [
       "A    3\n",
       "B    3\n",
       "C    3\n",
       "D    3\n",
       "E    3\n",
       "F    3\n",
       "G    3\n",
       "dtype: int64"
      ]
     },
     "execution_count": 41,
     "metadata": {},
     "output_type": "execute_result"
    }
   ],
   "source": [
    "ed_df.count()"
   ]
  },
  {
   "cell_type": "code",
   "execution_count": 42,
   "metadata": {
    "pycharm": {
     "is_executing": true
    }
   },
   "outputs": [
    {
     "data": {
      "text/plain": [
       "Index(['AvgTicketPrice', 'DistanceKilometers', 'DistanceMiles', 'FlightDelayMin', 'FlightTimeHour',\n",
       "       'FlightTimeMin', 'dayOfWeek'],\n",
       "      dtype='object')"
      ]
     },
     "execution_count": 42,
     "metadata": {},
     "output_type": "execute_result"
    }
   ],
   "source": [
    "ed_numeric_fields = ed_flights.select_dtypes(include=[np.number])\n",
    "\n",
    "ed_numeric_fields.columns"
   ]
  },
  {
   "cell_type": "code",
   "execution_count": 43,
   "metadata": {
    "pycharm": {
     "is_executing": true
    }
   },
   "outputs": [
    {
     "data": {
      "text/html": [
       "<div>\n",
       "<style scoped>\n",
       "    .dataframe tbody tr th:only-of-type {\n",
       "        vertical-align: middle;\n",
       "    }\n",
       "\n",
       "    .dataframe tbody tr th {\n",
       "        vertical-align: top;\n",
       "    }\n",
       "\n",
       "    .dataframe thead th {\n",
       "        text-align: right;\n",
       "    }\n",
       "</style>\n",
       "<table border=\"1\" class=\"dataframe\">\n",
       "  <thead>\n",
       "    <tr style=\"text-align: right;\">\n",
       "      <th></th>\n",
       "      <th>AvgTicketPrice</th>\n",
       "      <th>DistanceKilometers</th>\n",
       "      <th>...</th>\n",
       "      <th>FlightTimeMin</th>\n",
       "      <th>dayOfWeek</th>\n",
       "    </tr>\n",
       "  </thead>\n",
       "  <tbody>\n",
       "    <tr>\n",
       "      <td>min</td>\n",
       "      <td>100.020531</td>\n",
       "      <td>0.000000</td>\n",
       "      <td>...</td>\n",
       "      <td>0.000000</td>\n",
       "      <td>0.000000</td>\n",
       "    </tr>\n",
       "    <tr>\n",
       "      <td>std</td>\n",
       "      <td>266.386661</td>\n",
       "      <td>4578.263193</td>\n",
       "      <td>...</td>\n",
       "      <td>334.741135</td>\n",
       "      <td>1.939365</td>\n",
       "    </tr>\n",
       "    <tr>\n",
       "      <td>mean</td>\n",
       "      <td>628.253689</td>\n",
       "      <td>7092.142457</td>\n",
       "      <td>...</td>\n",
       "      <td>511.127842</td>\n",
       "      <td>2.835975</td>\n",
       "    </tr>\n",
       "  </tbody>\n",
       "</table>\n",
       "<p>3 rows × 7 columns</p>\n",
       "</div>"
      ],
      "text/plain": [
       "      AvgTicketPrice  DistanceKilometers  ...  FlightTimeMin  dayOfWeek\n",
       "min       100.020531            0.000000  ...       0.000000   0.000000\n",
       "std       266.386661         4578.263193  ...     334.741135   1.939365\n",
       "mean      628.253689         7092.142457  ...     511.127842   2.835975\n",
       "\n",
       "[3 rows x 7 columns]"
      ]
     },
     "execution_count": 43,
     "metadata": {},
     "output_type": "execute_result"
    }
   ],
   "source": [
    "ed_numeric_fields.aggregate(['min', 'std', 'mean'])"
   ]
  },
  {
   "cell_type": "code",
   "execution_count": 44,
   "metadata": {
    "pycharm": {
     "is_executing": true
    }
   },
   "outputs": [
    {
     "data": {
      "image/png": "[encoded data removed]",
      "text/plain": [
       "<Figure size 720x720 with 9 Axes>"
      ]
     },
     "metadata": {
      "needs_background": "light"
     },
     "output_type": "display_data"
    }
   ],
   "source": [
    "ed_numeric_fields.hist(figsize=[10,10])\n",
    "plt.show()"
   ]
  },
  {
   "cell_type": "code",
   "execution_count": 45,
   "metadata": {},
   "outputs": [
    {
     "data": {
      "image/png": "[encoded data removed]",
      "text/plain": [
       "<Figure size 720x720 with 9 Axes>"
      ]
     },
     "metadata": {
      "needs_background": "light"
     },
     "output_type": "display_data"
    }
   ],
   "source": [
    "ed_numeric_fields.hist(figsize=[10,10], log=True)\n",
    "plt.show()"
   ]
  }
 ],
 "metadata": {
  "kernelspec": {
   "display_name": "Python 3",
   "language": "python",
   "name": "python3"
  },
  "language_info": {
   "codemirror_mode": {
    "name": "ipython",
    "version": 3
   },
   "file_extension": ".py",
   "mimetype": "text/x-python",
   "name": "python",
   "nbconvert_exporter": "python",
   "pygments_lexer": "ipython3",
   "version": "3.7.5"
  },
  "pycharm": {
   "stem_cell": {
    "cell_type": "raw",
    "metadata": {
     "collapsed": false
    },
    "source": []
   }
  }
 },
 "nbformat": 4,
 "nbformat_minor": 2
}
