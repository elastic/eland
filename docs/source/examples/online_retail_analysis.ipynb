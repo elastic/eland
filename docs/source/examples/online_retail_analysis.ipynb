{
 "cells": [
  {
   "cell_type": "code",
   "execution_count": 1,
   "metadata": {},
   "outputs": [],
   "source": [
    "import eland as ed\n",
    "import pandas as pd\n",
    "import numpy as np\n",
    "import matplotlib.pyplot as plt\n",
    "\n",
    "# Fix console size for consistent test results\n",
    "from eland.conftest import *"
   ]
  },
  {
   "cell_type": "markdown",
   "metadata": {},
   "source": [
    "# Online Retail Analysis"
   ]
  },
  {
   "cell_type": "markdown",
   "metadata": {},
   "source": [
    "## Getting Started\n",
    "\n",
    "To get started, let's create an `eland.DataFrame` by reading a csv file. This creates and populates the \n",
    "`online-retail` index in the local Elasticsearch cluster."
   ]
  },
  {
   "cell_type": "code",
   "execution_count": 2,
   "metadata": {},
   "outputs": [],
   "source": [
    "df = ed.read_csv(\"data/online-retail.csv.gz\",\n",
    "                 es_client='localhost', \n",
    "                 es_dest_index='online-retail', \n",
    "                 es_if_exists='replace', \n",
    "                 es_dropna=True,\n",
    "                 es_refresh=True,\n",
    "                 compression='gzip',\n",
    "                 index_col=0)"
   ]
  },
  {
   "cell_type": "markdown",
   "metadata": {},
   "source": [
    "Here we see that the `\"_id\"` field was used to index our data frame. "
   ]
  },
  {
   "cell_type": "code",
   "execution_count": 3,
   "metadata": {},
   "outputs": [
    {
     "data": {
      "text/plain": [
       "'_id'"
      ]
     },
     "execution_count": 3,
     "metadata": {},
     "output_type": "execute_result"
    }
   ],
   "source": [
    "df.index.index_field"
   ]
  },
  {
   "cell_type": "markdown",
   "metadata": {},
   "source": [
    "Next, we can check which field from elasticsearch are available to our eland data frame. `columns` is available as a parameter when instantiating the data frame which allows one to choose only a subset of fields from your index to be included in the data frame. Since we didn't set this parameter, we have access to all fields."
   ]
  },
  {
   "cell_type": "code",
   "execution_count": 4,
   "metadata": {},
   "outputs": [
    {
     "data": {
      "text/plain": [
       "Index(['Country', 'CustomerID', 'Description', 'InvoiceDate', 'InvoiceNo', 'Quantity', 'StockCode',\n",
       "       'UnitPrice'],\n",
       "      dtype='object')"
      ]
     },
     "execution_count": 4,
     "metadata": {},
     "output_type": "execute_result"
    }
   ],
   "source": [
    "df.columns"
   ]
  },
  {
   "cell_type": "markdown",
   "metadata": {},
   "source": [
    "Now, let's see the data types of our fields. Running `df.dtypes`, we can see that elasticsearch field types are mapped to pandas field types."
   ]
  },
  {
   "cell_type": "code",
   "execution_count": 5,
   "metadata": {},
   "outputs": [
    {
     "data": {
      "text/plain": [
       "Country         object\n",
       "CustomerID     float64\n",
       "Description     object\n",
       "InvoiceDate     object\n",
       "InvoiceNo       object\n",
       "Quantity         int64\n",
       "StockCode       object\n",
       "UnitPrice      float64\n",
       "dtype: object"
      ]
     },
     "execution_count": 5,
     "metadata": {},
     "output_type": "execute_result"
    }
   ],
   "source": [
    "df.dtypes"
   ]
  },
  {
   "cell_type": "markdown",
   "metadata": {},
   "source": [
    "We also offer a `.info_es()` data frame method that shows all info about the underlying index. It also contains information about operations being passed from data frame methods to elasticsearch. More on this later."
   ]
  },
  {
   "cell_type": "code",
   "execution_count": 6,
   "metadata": {},
   "outputs": [
    {
     "name": "stdout",
     "output_type": "stream",
     "text": [
      "index_pattern: online-retail\n",
      "Index:\n",
      " index_field: _id\n",
      " is_source_field: False\n",
      "Mappings:\n",
      " capabilities:\n",
      "            es_field_name  is_source es_dtype es_date_format pd_dtype  is_searchable  is_aggregatable  is_scripted aggregatable_es_field_name\n",
      "Country           Country       True  keyword           None   object           True             True        False                    Country\n",
      "CustomerID     CustomerID       True   double           None  float64           True             True        False                 CustomerID\n",
      "Description   Description       True  keyword           None   object           True             True        False                Description\n",
      "InvoiceDate   InvoiceDate       True  keyword           None   object           True             True        False                InvoiceDate\n",
      "InvoiceNo       InvoiceNo       True  keyword           None   object           True             True        False                  InvoiceNo\n",
      "Quantity         Quantity       True     long           None    int64           True             True        False                   Quantity\n",
      "StockCode       StockCode       True  keyword           None   object           True             True        False                  StockCode\n",
      "UnitPrice       UnitPrice       True   double           None  float64           True             True        False                  UnitPrice\n",
      "Operations:\n",
      " tasks: []\n",
      " size: None\n",
      " sort_params: None\n",
      " _source: ['Country', 'CustomerID', 'Description', 'InvoiceDate', 'InvoiceNo', 'Quantity', 'StockCode', 'UnitPrice']\n",
      " body: {}\n",
      " post_processing: []\n",
      "\n"
     ]
    }
   ],
   "source": [
    "print(df.info_es())"
   ]
  },
  {
   "cell_type": "markdown",
   "metadata": {},
   "source": [
    "## Selecting and Indexing Data\n",
    "\n",
    "Now that we understand how to create a data frame and get access to it's underlying attributes, let's see how we can select subsets of our data."
   ]
  },
  {
   "cell_type": "markdown",
   "metadata": {},
   "source": [
    "### head and tail\n",
    "\n",
    "much like pandas, eland data frames offer `.head(n)` and `.tail(n)` methods that return the first and last n rows, respectively."
   ]
  },
  {
   "cell_type": "code",
   "execution_count": 7,
   "metadata": {},
   "outputs": [
    {
     "data": {
      "text/html": [
       "<div>\n",
       "<style scoped>\n",
       "    .dataframe tbody tr th:only-of-type {\n",
       "        vertical-align: middle;\n",
       "    }\n",
       "\n",
       "    .dataframe tbody tr th {\n",
       "        vertical-align: top;\n",
       "    }\n",
       "\n",
       "    .dataframe thead th {\n",
       "        text-align: right;\n",
       "    }\n",
       "</style>\n",
       "<table border=\"1\" class=\"dataframe\">\n",
       "  <thead>\n",
       "    <tr style=\"text-align: right;\">\n",
       "      <th></th>\n",
       "      <th>Country</th>\n",
       "      <th>CustomerID</th>\n",
       "      <th>...</th>\n",
       "      <th>StockCode</th>\n",
       "      <th>UnitPrice</th>\n",
       "    </tr>\n",
       "  </thead>\n",
       "  <tbody>\n",
       "    <tr>\n",
       "      <th>1000</th>\n",
       "      <td>United Kingdom</td>\n",
       "      <td>14729.0</td>\n",
       "      <td>...</td>\n",
       "      <td>21123</td>\n",
       "      <td>1.25</td>\n",
       "    </tr>\n",
       "    <tr>\n",
       "      <th>1001</th>\n",
       "      <td>United Kingdom</td>\n",
       "      <td>14729.0</td>\n",
       "      <td>...</td>\n",
       "      <td>21124</td>\n",
       "      <td>1.25</td>\n",
       "    </tr>\n",
       "  </tbody>\n",
       "</table>\n",
       "</div>\n",
       "<p>2 rows × 8 columns</p>"
      ],
      "text/plain": [
       "             Country  CustomerID  ... StockCode UnitPrice\n",
       "1000  United Kingdom     14729.0  ...     21123      1.25\n",
       "1001  United Kingdom     14729.0  ...     21124      1.25\n",
       "\n",
       "[2 rows x 8 columns]"
      ]
     },
     "execution_count": 7,
     "metadata": {},
     "output_type": "execute_result"
    }
   ],
   "source": [
    "df.head(2)"
   ]
  },
  {
   "cell_type": "code",
   "execution_count": 8,
   "metadata": {},
   "outputs": [
    {
     "name": "stdout",
     "output_type": "stream",
     "text": [
      "index_pattern: online-retail\n",
      "Index:\n",
      " index_field: _id\n",
      " is_source_field: False\n",
      "Mappings:\n",
      " capabilities:\n",
      "            es_field_name  is_source es_dtype es_date_format pd_dtype  is_searchable  is_aggregatable  is_scripted aggregatable_es_field_name\n",
      "Country           Country       True  keyword           None   object           True             True        False                    Country\n",
      "CustomerID     CustomerID       True   double           None  float64           True             True        False                 CustomerID\n",
      "Description   Description       True  keyword           None   object           True             True        False                Description\n",
      "InvoiceDate   InvoiceDate       True  keyword           None   object           True             True        False                InvoiceDate\n",
      "InvoiceNo       InvoiceNo       True  keyword           None   object           True             True        False                  InvoiceNo\n",
      "Quantity         Quantity       True     long           None    int64           True             True        False                   Quantity\n",
      "StockCode       StockCode       True  keyword           None   object           True             True        False                  StockCode\n",
      "UnitPrice       UnitPrice       True   double           None  float64           True             True        False                  UnitPrice\n",
      "Operations:\n",
      " tasks: [('tail': ('sort_field': '_doc', 'count': 2)), ('head': ('sort_field': '_doc', 'count': 2)), ('tail': ('sort_field': '_doc', 'count': 2))]\n",
      " size: 2\n",
      " sort_params: _doc:desc\n",
      " _source: ['Country', 'CustomerID', 'Description', 'InvoiceDate', 'InvoiceNo', 'Quantity', 'StockCode', 'UnitPrice']\n",
      " body: {}\n",
      " post_processing: [('sort_index'), ('head': ('count': 2)), ('tail': ('count': 2))]\n",
      "\n"
     ]
    }
   ],
   "source": [
    "print(df.tail(2).head(2).tail(2).info_es())"
   ]
  },
  {
   "cell_type": "code",
   "execution_count": 9,
   "metadata": {},
   "outputs": [
    {
     "data": {
      "text/html": [
       "<div>\n",
       "<style scoped>\n",
       "    .dataframe tbody tr th:only-of-type {\n",
       "        vertical-align: middle;\n",
       "    }\n",
       "\n",
       "    .dataframe tbody tr th {\n",
       "        vertical-align: top;\n",
       "    }\n",
       "\n",
       "    .dataframe thead th {\n",
       "        text-align: right;\n",
       "    }\n",
       "</style>\n",
       "<table border=\"1\" class=\"dataframe\">\n",
       "  <thead>\n",
       "    <tr style=\"text-align: right;\">\n",
       "      <th></th>\n",
       "      <th>Country</th>\n",
       "      <th>CustomerID</th>\n",
       "      <th>...</th>\n",
       "      <th>StockCode</th>\n",
       "      <th>UnitPrice</th>\n",
       "    </tr>\n",
       "  </thead>\n",
       "  <tbody>\n",
       "    <tr>\n",
       "      <th>14998</th>\n",
       "      <td>United Kingdom</td>\n",
       "      <td>17419.0</td>\n",
       "      <td>...</td>\n",
       "      <td>21773</td>\n",
       "      <td>1.25</td>\n",
       "    </tr>\n",
       "    <tr>\n",
       "      <th>14999</th>\n",
       "      <td>United Kingdom</td>\n",
       "      <td>17419.0</td>\n",
       "      <td>...</td>\n",
       "      <td>22149</td>\n",
       "      <td>2.10</td>\n",
       "    </tr>\n",
       "  </tbody>\n",
       "</table>\n",
       "</div>\n",
       "<p>2 rows × 8 columns</p>"
      ],
      "text/plain": [
       "              Country  CustomerID  ... StockCode UnitPrice\n",
       "14998  United Kingdom     17419.0  ...     21773      1.25\n",
       "14999  United Kingdom     17419.0  ...     22149      2.10\n",
       "\n",
       "[2 rows x 8 columns]"
      ]
     },
     "execution_count": 9,
     "metadata": {},
     "output_type": "execute_result"
    }
   ],
   "source": [
    "df.tail(2)"
   ]
  },
  {
   "cell_type": "markdown",
   "metadata": {},
   "source": [
    "### selecting columns\n",
    "\n",
    "you can also pass a list of columns to select columns from the data frame in a specified order."
   ]
  },
  {
   "cell_type": "code",
   "execution_count": 10,
   "metadata": {},
   "outputs": [
    {
     "data": {
      "text/html": [
       "<div>\n",
       "<style scoped>\n",
       "    .dataframe tbody tr th:only-of-type {\n",
       "        vertical-align: middle;\n",
       "    }\n",
       "\n",
       "    .dataframe tbody tr th {\n",
       "        vertical-align: top;\n",
       "    }\n",
       "\n",
       "    .dataframe thead th {\n",
       "        text-align: right;\n",
       "    }\n",
       "</style>\n",
       "<table border=\"1\" class=\"dataframe\">\n",
       "  <thead>\n",
       "    <tr style=\"text-align: right;\">\n",
       "      <th></th>\n",
       "      <th>Country</th>\n",
       "      <th>InvoiceDate</th>\n",
       "    </tr>\n",
       "  </thead>\n",
       "  <tbody>\n",
       "    <tr>\n",
       "      <th>1000</th>\n",
       "      <td>United Kingdom</td>\n",
       "      <td>2010-12-01 12:43:00</td>\n",
       "    </tr>\n",
       "    <tr>\n",
       "      <th>1001</th>\n",
       "      <td>United Kingdom</td>\n",
       "      <td>2010-12-01 12:43:00</td>\n",
       "    </tr>\n",
       "    <tr>\n",
       "      <th>1002</th>\n",
       "      <td>United Kingdom</td>\n",
       "      <td>2010-12-01 12:43:00</td>\n",
       "    </tr>\n",
       "    <tr>\n",
       "      <th>1003</th>\n",
       "      <td>United Kingdom</td>\n",
       "      <td>2010-12-01 12:43:00</td>\n",
       "    </tr>\n",
       "    <tr>\n",
       "      <th>1004</th>\n",
       "      <td>United Kingdom</td>\n",
       "      <td>2010-12-01 12:43:00</td>\n",
       "    </tr>\n",
       "  </tbody>\n",
       "</table>\n",
       "</div>\n",
       "<p>5 rows × 2 columns</p>"
      ],
      "text/plain": [
       "             Country          InvoiceDate\n",
       "1000  United Kingdom  2010-12-01 12:43:00\n",
       "1001  United Kingdom  2010-12-01 12:43:00\n",
       "1002  United Kingdom  2010-12-01 12:43:00\n",
       "1003  United Kingdom  2010-12-01 12:43:00\n",
       "1004  United Kingdom  2010-12-01 12:43:00\n",
       "\n",
       "[5 rows x 2 columns]"
      ]
     },
     "execution_count": 10,
     "metadata": {},
     "output_type": "execute_result"
    }
   ],
   "source": [
    "df[['Country', 'InvoiceDate']].head(5)"
   ]
  },
  {
   "cell_type": "markdown",
   "metadata": {},
   "source": [
    "### Boolean Indexing\n",
    "\n",
    "we also allow you to filter the data frame using boolean indexing. Under the hood, a boolean index maps to a `terms` query that is then passed to elasticsearch to filter the index."
   ]
  },
  {
   "cell_type": "code",
   "execution_count": 11,
   "metadata": {},
   "outputs": [
    {
     "name": "stdout",
     "output_type": "stream",
     "text": [
      "{'term': {'Country': 'Germany'}}\n"
     ]
    },
    {
     "data": {
      "text/html": [
       "<div>\n",
       "<style scoped>\n",
       "    .dataframe tbody tr th:only-of-type {\n",
       "        vertical-align: middle;\n",
       "    }\n",
       "\n",
       "    .dataframe tbody tr th {\n",
       "        vertical-align: top;\n",
       "    }\n",
       "\n",
       "    .dataframe thead th {\n",
       "        text-align: right;\n",
       "    }\n",
       "</style>\n",
       "<table border=\"1\" class=\"dataframe\">\n",
       "  <thead>\n",
       "    <tr style=\"text-align: right;\">\n",
       "      <th></th>\n",
       "      <th>Country</th>\n",
       "      <th>CustomerID</th>\n",
       "      <th>...</th>\n",
       "      <th>StockCode</th>\n",
       "      <th>UnitPrice</th>\n",
       "    </tr>\n",
       "  </thead>\n",
       "  <tbody>\n",
       "    <tr>\n",
       "      <th>1109</th>\n",
       "      <td>Germany</td>\n",
       "      <td>12662.0</td>\n",
       "      <td>...</td>\n",
       "      <td>22809</td>\n",
       "      <td>2.95</td>\n",
       "    </tr>\n",
       "    <tr>\n",
       "      <th>1110</th>\n",
       "      <td>Germany</td>\n",
       "      <td>12662.0</td>\n",
       "      <td>...</td>\n",
       "      <td>84347</td>\n",
       "      <td>2.55</td>\n",
       "    </tr>\n",
       "    <tr>\n",
       "      <th>1111</th>\n",
       "      <td>Germany</td>\n",
       "      <td>12662.0</td>\n",
       "      <td>...</td>\n",
       "      <td>84945</td>\n",
       "      <td>0.85</td>\n",
       "    </tr>\n",
       "    <tr>\n",
       "      <th>1112</th>\n",
       "      <td>Germany</td>\n",
       "      <td>12662.0</td>\n",
       "      <td>...</td>\n",
       "      <td>22242</td>\n",
       "      <td>1.65</td>\n",
       "    </tr>\n",
       "    <tr>\n",
       "      <th>1113</th>\n",
       "      <td>Germany</td>\n",
       "      <td>12662.0</td>\n",
       "      <td>...</td>\n",
       "      <td>22244</td>\n",
       "      <td>1.95</td>\n",
       "    </tr>\n",
       "  </tbody>\n",
       "</table>\n",
       "</div>\n",
       "<p>5 rows × 8 columns</p>"
      ],
      "text/plain": [
       "      Country  CustomerID  ... StockCode UnitPrice\n",
       "1109  Germany     12662.0  ...     22809      2.95\n",
       "1110  Germany     12662.0  ...     84347      2.55\n",
       "1111  Germany     12662.0  ...     84945      0.85\n",
       "1112  Germany     12662.0  ...     22242      1.65\n",
       "1113  Germany     12662.0  ...     22244      1.95\n",
       "\n",
       "[5 rows x 8 columns]"
      ]
     },
     "execution_count": 11,
     "metadata": {},
     "output_type": "execute_result"
    }
   ],
   "source": [
    "# the construction of a boolean vector maps directly to an elasticsearch query\n",
    "print(df['Country']=='Germany')\n",
    "df[(df['Country']=='Germany')].head(5)"
   ]
  },
  {
   "cell_type": "markdown",
   "metadata": {},
   "source": [
    "we can also filter the data frame using a list of values."
   ]
  },
  {
   "cell_type": "code",
   "execution_count": 12,
   "metadata": {},
   "outputs": [
    {
     "name": "stdout",
     "output_type": "stream",
     "text": [
      "{'terms': {'Country': ['Germany', 'United States']}}\n"
     ]
    },
    {
     "data": {
      "text/html": [
       "<div>\n",
       "<style scoped>\n",
       "    .dataframe tbody tr th:only-of-type {\n",
       "        vertical-align: middle;\n",
       "    }\n",
       "\n",
       "    .dataframe tbody tr th {\n",
       "        vertical-align: top;\n",
       "    }\n",
       "\n",
       "    .dataframe thead th {\n",
       "        text-align: right;\n",
       "    }\n",
       "</style>\n",
       "<table border=\"1\" class=\"dataframe\">\n",
       "  <thead>\n",
       "    <tr style=\"text-align: right;\">\n",
       "      <th></th>\n",
       "      <th>Country</th>\n",
       "      <th>CustomerID</th>\n",
       "      <th>...</th>\n",
       "      <th>StockCode</th>\n",
       "      <th>UnitPrice</th>\n",
       "    </tr>\n",
       "  </thead>\n",
       "  <tbody>\n",
       "    <tr>\n",
       "      <th>1000</th>\n",
       "      <td>United Kingdom</td>\n",
       "      <td>14729.0</td>\n",
       "      <td>...</td>\n",
       "      <td>21123</td>\n",
       "      <td>1.25</td>\n",
       "    </tr>\n",
       "    <tr>\n",
       "      <th>1001</th>\n",
       "      <td>United Kingdom</td>\n",
       "      <td>14729.0</td>\n",
       "      <td>...</td>\n",
       "      <td>21124</td>\n",
       "      <td>1.25</td>\n",
       "    </tr>\n",
       "    <tr>\n",
       "      <th>1002</th>\n",
       "      <td>United Kingdom</td>\n",
       "      <td>14729.0</td>\n",
       "      <td>...</td>\n",
       "      <td>21122</td>\n",
       "      <td>1.25</td>\n",
       "    </tr>\n",
       "    <tr>\n",
       "      <th>1003</th>\n",
       "      <td>United Kingdom</td>\n",
       "      <td>14729.0</td>\n",
       "      <td>...</td>\n",
       "      <td>84378</td>\n",
       "      <td>1.25</td>\n",
       "    </tr>\n",
       "    <tr>\n",
       "      <th>1004</th>\n",
       "      <td>United Kingdom</td>\n",
       "      <td>14729.0</td>\n",
       "      <td>...</td>\n",
       "      <td>21985</td>\n",
       "      <td>0.29</td>\n",
       "    </tr>\n",
       "  </tbody>\n",
       "</table>\n",
       "</div>\n",
       "<p>5 rows × 8 columns</p>"
      ],
      "text/plain": [
       "             Country  CustomerID  ... StockCode UnitPrice\n",
       "1000  United Kingdom     14729.0  ...     21123      1.25\n",
       "1001  United Kingdom     14729.0  ...     21124      1.25\n",
       "1002  United Kingdom     14729.0  ...     21122      1.25\n",
       "1003  United Kingdom     14729.0  ...     84378      1.25\n",
       "1004  United Kingdom     14729.0  ...     21985      0.29\n",
       "\n",
       "[5 rows x 8 columns]"
      ]
     },
     "execution_count": 12,
     "metadata": {},
     "output_type": "execute_result"
    }
   ],
   "source": [
    "print(df['Country'].isin(['Germany', 'United States']))\n",
    "df[df['Country'].isin(['Germany', 'United Kingdom'])].head(5)"
   ]
  },
  {
   "cell_type": "markdown",
   "metadata": {},
   "source": [
    "We can also combine boolean vectors to further filter the data frame."
   ]
  },
  {
   "cell_type": "code",
   "execution_count": 13,
   "metadata": {},
   "outputs": [
    {
     "data": {
      "text/html": [
       "<div>\n",
       "<style scoped>\n",
       "    .dataframe tbody tr th:only-of-type {\n",
       "        vertical-align: middle;\n",
       "    }\n",
       "\n",
       "    .dataframe tbody tr th {\n",
       "        vertical-align: top;\n",
       "    }\n",
       "\n",
       "    .dataframe thead th {\n",
       "        text-align: right;\n",
       "    }\n",
       "</style>\n",
       "<table border=\"1\" class=\"dataframe\">\n",
       "  <thead>\n",
       "    <tr style=\"text-align: right;\">\n",
       "      <th></th>\n",
       "      <th>Country</th>\n",
       "      <th>CustomerID</th>\n",
       "      <th>...</th>\n",
       "      <th>StockCode</th>\n",
       "      <th>UnitPrice</th>\n",
       "    </tr>\n",
       "  </thead>\n",
       "  <tbody>\n",
       "  </tbody>\n",
       "</table>\n",
       "</div>\n",
       "<p>0 rows × 8 columns</p>"
      ],
      "text/plain": [
       "Empty DataFrame\n",
       "Columns: [Country, CustomerID, Description, InvoiceDate, InvoiceNo, Quantity, StockCode, UnitPrice]\n",
       "Index: []\n",
       "\n",
       "[0 rows x 8 columns]"
      ]
     },
     "execution_count": 13,
     "metadata": {},
     "output_type": "execute_result"
    }
   ],
   "source": [
    "df[(df['Country']=='Germany') & (df['Quantity']>90)]"
   ]
  },
  {
   "cell_type": "markdown",
   "metadata": {},
   "source": [
    "Using this example, let see how eland translates this boolean filter to an elasticsearch `bool` query."
   ]
  },
  {
   "cell_type": "code",
   "execution_count": 14,
   "metadata": {},
   "outputs": [
    {
     "name": "stdout",
     "output_type": "stream",
     "text": [
      "index_pattern: online-retail\n",
      "Index:\n",
      " index_field: _id\n",
      " is_source_field: False\n",
      "Mappings:\n",
      " capabilities:\n",
      "            es_field_name  is_source es_dtype es_date_format pd_dtype  is_searchable  is_aggregatable  is_scripted aggregatable_es_field_name\n",
      "Country           Country       True  keyword           None   object           True             True        False                    Country\n",
      "CustomerID     CustomerID       True   double           None  float64           True             True        False                 CustomerID\n",
      "Description   Description       True  keyword           None   object           True             True        False                Description\n",
      "InvoiceDate   InvoiceDate       True  keyword           None   object           True             True        False                InvoiceDate\n",
      "InvoiceNo       InvoiceNo       True  keyword           None   object           True             True        False                  InvoiceNo\n",
      "Quantity         Quantity       True     long           None    int64           True             True        False                   Quantity\n",
      "StockCode       StockCode       True  keyword           None   object           True             True        False                  StockCode\n",
      "UnitPrice       UnitPrice       True   double           None  float64           True             True        False                  UnitPrice\n",
      "Operations:\n",
      " tasks: [('boolean_filter': ('boolean_filter': {'bool': {'must': [{'term': {'Country': 'Germany'}}, {'range': {'Quantity': {'gt': 90}}}]}}))]\n",
      " size: None\n",
      " sort_params: None\n",
      " _source: ['Country', 'CustomerID', 'Description', 'InvoiceDate', 'InvoiceNo', 'Quantity', 'StockCode', 'UnitPrice']\n",
      " body: {'query': {'bool': {'must': [{'term': {'Country': 'Germany'}}, {'range': {'Quantity': {'gt': 90}}}]}}}\n",
      " post_processing: []\n",
      "\n"
     ]
    }
   ],
   "source": [
    "print(df[(df['Country']=='Germany') & (df['Quantity']>90)].info_es())"
   ]
  },
  {
   "cell_type": "markdown",
   "metadata": {},
   "source": [
    "## Aggregation and Descriptive Statistics\n",
    "\n",
    "Let's begin to ask some questions of our data and use eland to get the answers."
   ]
  },
  {
   "cell_type": "markdown",
   "metadata": {},
   "source": [
    "**How many different countries are there?**"
   ]
  },
  {
   "cell_type": "code",
   "execution_count": 15,
   "metadata": {},
   "outputs": [
    {
     "data": {
      "text/plain": [
       "16"
      ]
     },
     "execution_count": 15,
     "metadata": {},
     "output_type": "execute_result"
    }
   ],
   "source": [
    "df['Country'].nunique()"
   ]
  },
  {
   "cell_type": "markdown",
   "metadata": {},
   "source": [
    "**What is the total sum of products ordered?**"
   ]
  },
  {
   "cell_type": "code",
   "execution_count": 16,
   "metadata": {},
   "outputs": [
    {
     "data": {
      "text/plain": [
       "111960.0"
      ]
     },
     "execution_count": 16,
     "metadata": {},
     "output_type": "execute_result"
    }
   ],
   "source": [
    "df['Quantity'].sum()"
   ]
  },
  {
   "cell_type": "markdown",
   "metadata": {},
   "source": [
    "**Show me the sum, mean, min, and max of the qunatity and unit_price fields**"
   ]
  },
  {
   "cell_type": "code",
   "execution_count": 17,
   "metadata": {},
   "outputs": [
    {
     "data": {
      "text/html": [
       "<div>\n",
       "<style scoped>\n",
       "    .dataframe tbody tr th:only-of-type {\n",
       "        vertical-align: middle;\n",
       "    }\n",
       "\n",
       "    .dataframe tbody tr th {\n",
       "        vertical-align: top;\n",
       "    }\n",
       "\n",
       "    .dataframe thead th {\n",
       "        text-align: right;\n",
       "    }\n",
       "</style>\n",
       "<table border=\"1\" class=\"dataframe\">\n",
       "  <thead>\n",
       "    <tr style=\"text-align: right;\">\n",
       "      <th></th>\n",
       "      <th>Quantity</th>\n",
       "      <th>UnitPrice</th>\n",
       "    </tr>\n",
       "  </thead>\n",
       "  <tbody>\n",
       "    <tr>\n",
       "      <th>sum</th>\n",
       "      <td>111960.000</td>\n",
       "      <td>61548.490000</td>\n",
       "    </tr>\n",
       "    <tr>\n",
       "      <th>mean</th>\n",
       "      <td>7.464</td>\n",
       "      <td>4.103233</td>\n",
       "    </tr>\n",
       "    <tr>\n",
       "      <th>max</th>\n",
       "      <td>2880.000</td>\n",
       "      <td>950.990000</td>\n",
       "    </tr>\n",
       "    <tr>\n",
       "      <th>min</th>\n",
       "      <td>-9360.000</td>\n",
       "      <td>0.000000</td>\n",
       "    </tr>\n",
       "  </tbody>\n",
       "</table>\n",
       "</div>"
      ],
      "text/plain": [
       "        Quantity     UnitPrice\n",
       "sum   111960.000  61548.490000\n",
       "mean       7.464      4.103233\n",
       "max     2880.000    950.990000\n",
       "min    -9360.000      0.000000"
      ]
     },
     "execution_count": 17,
     "metadata": {},
     "output_type": "execute_result"
    }
   ],
   "source": [
    "df[['Quantity','UnitPrice']].agg(['sum', 'mean', 'max', 'min'])"
   ]
  },
  {
   "cell_type": "markdown",
   "metadata": {},
   "source": [
    "**Give me descriptive statistics for the entire data frame**"
   ]
  },
  {
   "cell_type": "code",
   "execution_count": 18,
   "metadata": {},
   "outputs": [
    {
     "data": {
      "text/html": [
       "<div>\n",
       "<style scoped>\n",
       "    .dataframe tbody tr th:only-of-type {\n",
       "        vertical-align: middle;\n",
       "    }\n",
       "\n",
       "    .dataframe tbody tr th {\n",
       "        vertical-align: top;\n",
       "    }\n",
       "\n",
       "    .dataframe thead th {\n",
       "        text-align: right;\n",
       "    }\n",
       "</style>\n",
       "<table border=\"1\" class=\"dataframe\">\n",
       "  <thead>\n",
       "    <tr style=\"text-align: right;\">\n",
       "      <th></th>\n",
       "      <th>CustomerID</th>\n",
       "      <th>Quantity</th>\n",
       "      <th>UnitPrice</th>\n",
       "    </tr>\n",
       "  </thead>\n",
       "  <tbody>\n",
       "    <tr>\n",
       "      <th>count</th>\n",
       "      <td>10729.000000</td>\n",
       "      <td>15000.000000</td>\n",
       "      <td>15000.000000</td>\n",
       "    </tr>\n",
       "    <tr>\n",
       "      <th>mean</th>\n",
       "      <td>15590.776680</td>\n",
       "      <td>7.464000</td>\n",
       "      <td>4.103233</td>\n",
       "    </tr>\n",
       "    <tr>\n",
       "      <th>std</th>\n",
       "      <td>1764.025160</td>\n",
       "      <td>85.924387</td>\n",
       "      <td>20.104873</td>\n",
       "    </tr>\n",
       "    <tr>\n",
       "      <th>min</th>\n",
       "      <td>12347.000000</td>\n",
       "      <td>-9360.000000</td>\n",
       "      <td>0.000000</td>\n",
       "    </tr>\n",
       "    <tr>\n",
       "      <th>25%</th>\n",
       "      <td>14217.474239</td>\n",
       "      <td>1.000000</td>\n",
       "      <td>1.250068</td>\n",
       "    </tr>\n",
       "    <tr>\n",
       "      <th>50%</th>\n",
       "      <td>15662.024630</td>\n",
       "      <td>2.000000</td>\n",
       "      <td>2.510000</td>\n",
       "    </tr>\n",
       "    <tr>\n",
       "      <th>75%</th>\n",
       "      <td>17212.723881</td>\n",
       "      <td>6.671951</td>\n",
       "      <td>4.210000</td>\n",
       "    </tr>\n",
       "    <tr>\n",
       "      <th>max</th>\n",
       "      <td>18239.000000</td>\n",
       "      <td>2880.000000</td>\n",
       "      <td>950.990000</td>\n",
       "    </tr>\n",
       "  </tbody>\n",
       "</table>\n",
       "</div>"
      ],
      "text/plain": [
       "         CustomerID      Quantity     UnitPrice\n",
       "count  10729.000000  15000.000000  15000.000000\n",
       "mean   15590.776680      7.464000      4.103233\n",
       "std     1764.025160     85.924387     20.104873\n",
       "min    12347.000000  -9360.000000      0.000000\n",
       "25%    14217.474239      1.000000      1.250068\n",
       "50%    15662.024630      2.000000      2.510000\n",
       "75%    17212.723881      6.671951      4.210000\n",
       "max    18239.000000   2880.000000    950.990000"
      ]
     },
     "execution_count": 18,
     "metadata": {},
     "output_type": "execute_result"
    }
   ],
   "source": [
    "# NBVAL_IGNORE_OUTPUT\n",
    "df.describe()"
   ]
  },
  {
   "cell_type": "markdown",
   "metadata": {},
   "source": [
    "**Show me a histogram of numeric columns**"
   ]
  },
  {
   "cell_type": "code",
   "execution_count": 19,
   "metadata": {},
   "outputs": [
    {
     "data": {
      "image/png": "[encoded data removed]",
      "text/plain": [
       "<Figure size 864x288 with 2 Axes>"
      ]
     },
     "metadata": {
      "needs_background": "light"
     },
     "output_type": "display_data"
    }
   ],
   "source": [
    "df[(df['Quantity']>-50) & \n",
    "   (df['Quantity']<50) & \n",
    "   (df['UnitPrice']>0) & \n",
    "   (df['UnitPrice']<100)][['Quantity', 'UnitPrice']].hist(figsize=[12,4], bins=30)\n",
    "plt.show()"
   ]
  },
  {
   "cell_type": "code",
   "execution_count": 20,
   "metadata": {},
   "outputs": [
    {
     "data": {
      "image/png": "[encoded data removed]",
      "text/plain": [
       "<Figure size 864x288 with 2 Axes>"
      ]
     },
     "metadata": {
      "needs_background": "light"
     },
     "output_type": "display_data"
    }
   ],
   "source": [
    "df[(df['Quantity']>-50) & \n",
    "   (df['Quantity']<50) & \n",
    "   (df['UnitPrice']>0) & \n",
    "   (df['UnitPrice']<100)][['Quantity', 'UnitPrice']].hist(figsize=[12,4], bins=30, log=True)\n",
    "plt.show()"
   ]
  },
  {
   "cell_type": "code",
   "execution_count": 21,
   "metadata": {},
   "outputs": [
    {
     "data": {
      "text/html": [
       "<div>\n",
       "<style scoped>\n",
       "    .dataframe tbody tr th:only-of-type {\n",
       "        vertical-align: middle;\n",
       "    }\n",
       "\n",
       "    .dataframe tbody tr th {\n",
       "        vertical-align: top;\n",
       "    }\n",
       "\n",
       "    .dataframe thead th {\n",
       "        text-align: right;\n",
       "    }\n",
       "</style>\n",
       "<table border=\"1\" class=\"dataframe\">\n",
       "  <thead>\n",
       "    <tr style=\"text-align: right;\">\n",
       "      <th></th>\n",
       "      <th>Country</th>\n",
       "      <th>CustomerID</th>\n",
       "      <th>...</th>\n",
       "      <th>StockCode</th>\n",
       "      <th>UnitPrice</th>\n",
       "    </tr>\n",
       "  </thead>\n",
       "  <tbody>\n",
       "    <tr>\n",
       "      <th>1228</th>\n",
       "      <td>United Kingdom</td>\n",
       "      <td>15485.0</td>\n",
       "      <td>...</td>\n",
       "      <td>22086</td>\n",
       "      <td>2.55</td>\n",
       "    </tr>\n",
       "    <tr>\n",
       "      <th>1237</th>\n",
       "      <td>Norway</td>\n",
       "      <td>12433.0</td>\n",
       "      <td>...</td>\n",
       "      <td>22444</td>\n",
       "      <td>1.06</td>\n",
       "    </tr>\n",
       "    <tr>\n",
       "      <th>1286</th>\n",
       "      <td>Norway</td>\n",
       "      <td>12433.0</td>\n",
       "      <td>...</td>\n",
       "      <td>84050</td>\n",
       "      <td>1.25</td>\n",
       "    </tr>\n",
       "    <tr>\n",
       "      <th>1293</th>\n",
       "      <td>Norway</td>\n",
       "      <td>12433.0</td>\n",
       "      <td>...</td>\n",
       "      <td>22197</td>\n",
       "      <td>0.85</td>\n",
       "    </tr>\n",
       "    <tr>\n",
       "      <th>1333</th>\n",
       "      <td>United Kingdom</td>\n",
       "      <td>18144.0</td>\n",
       "      <td>...</td>\n",
       "      <td>84879</td>\n",
       "      <td>1.69</td>\n",
       "    </tr>\n",
       "    <tr>\n",
       "      <th>...</th>\n",
       "      <td>...</td>\n",
       "      <td>...</td>\n",
       "      <td>...</td>\n",
       "      <td>...</td>\n",
       "      <td>...</td>\n",
       "    </tr>\n",
       "    <tr>\n",
       "      <th>14784</th>\n",
       "      <td>United Kingdom</td>\n",
       "      <td>15061.0</td>\n",
       "      <td>...</td>\n",
       "      <td>22423</td>\n",
       "      <td>10.95</td>\n",
       "    </tr>\n",
       "    <tr>\n",
       "      <th>14785</th>\n",
       "      <td>United Kingdom</td>\n",
       "      <td>15061.0</td>\n",
       "      <td>...</td>\n",
       "      <td>22075</td>\n",
       "      <td>1.45</td>\n",
       "    </tr>\n",
       "    <tr>\n",
       "      <th>14788</th>\n",
       "      <td>United Kingdom</td>\n",
       "      <td>15061.0</td>\n",
       "      <td>...</td>\n",
       "      <td>17038</td>\n",
       "      <td>0.07</td>\n",
       "    </tr>\n",
       "    <tr>\n",
       "      <th>14974</th>\n",
       "      <td>United Kingdom</td>\n",
       "      <td>14739.0</td>\n",
       "      <td>...</td>\n",
       "      <td>21704</td>\n",
       "      <td>0.72</td>\n",
       "    </tr>\n",
       "    <tr>\n",
       "      <th>14980</th>\n",
       "      <td>United Kingdom</td>\n",
       "      <td>14739.0</td>\n",
       "      <td>...</td>\n",
       "      <td>22178</td>\n",
       "      <td>1.06</td>\n",
       "    </tr>\n",
       "  </tbody>\n",
       "</table>\n",
       "</div>\n",
       "<p>258 rows × 8 columns</p>"
      ],
      "text/plain": [
       "              Country  CustomerID  ... StockCode UnitPrice\n",
       "1228   United Kingdom     15485.0  ...     22086      2.55\n",
       "1237           Norway     12433.0  ...     22444      1.06\n",
       "1286           Norway     12433.0  ...     84050      1.25\n",
       "1293           Norway     12433.0  ...     22197      0.85\n",
       "1333   United Kingdom     18144.0  ...     84879      1.69\n",
       "...               ...         ...  ...       ...       ...\n",
       "14784  United Kingdom     15061.0  ...     22423     10.95\n",
       "14785  United Kingdom     15061.0  ...     22075      1.45\n",
       "14788  United Kingdom     15061.0  ...     17038      0.07\n",
       "14974  United Kingdom     14739.0  ...     21704      0.72\n",
       "14980  United Kingdom     14739.0  ...     22178      1.06\n",
       "\n",
       "[258 rows x 8 columns]"
      ]
     },
     "execution_count": 21,
     "metadata": {},
     "output_type": "execute_result"
    }
   ],
   "source": [
    "df.query('Quantity>50 & UnitPrice<100')"
   ]
  },
  {
   "cell_type": "markdown",
   "metadata": {},
   "source": [
    "## Arithmetic Operations"
   ]
  },
  {
   "cell_type": "markdown",
   "metadata": {},
   "source": [
    "Numeric values"
   ]
  },
  {
   "cell_type": "code",
   "execution_count": 22,
   "metadata": {},
   "outputs": [
    {
     "data": {
      "text/plain": [
       "1000     1\n",
       "1001     1\n",
       "1002     1\n",
       "1003     1\n",
       "1004    12\n",
       "Name: Quantity, dtype: int64"
      ]
     },
     "execution_count": 22,
     "metadata": {},
     "output_type": "execute_result"
    }
   ],
   "source": [
    "df['Quantity'].head()"
   ]
  },
  {
   "cell_type": "code",
   "execution_count": 23,
   "metadata": {},
   "outputs": [
    {
     "data": {
      "text/plain": [
       "1000    1.25\n",
       "1001    1.25\n",
       "1002    1.25\n",
       "1003    1.25\n",
       "1004    0.29\n",
       "Name: UnitPrice, dtype: float64"
      ]
     },
     "execution_count": 23,
     "metadata": {},
     "output_type": "execute_result"
    }
   ],
   "source": [
    "df['UnitPrice'].head()"
   ]
  },
  {
   "cell_type": "code",
   "execution_count": 24,
   "metadata": {},
   "outputs": [],
   "source": [
    "product = df['Quantity'] * df['UnitPrice']"
   ]
  },
  {
   "cell_type": "code",
   "execution_count": 25,
   "metadata": {},
   "outputs": [
    {
     "data": {
      "text/plain": [
       "1000    1.25\n",
       "1001    1.25\n",
       "1002    1.25\n",
       "1003    1.25\n",
       "1004    3.48\n",
       "dtype: float64"
      ]
     },
     "execution_count": 25,
     "metadata": {},
     "output_type": "execute_result"
    }
   ],
   "source": [
    "product.head()"
   ]
  },
  {
   "cell_type": "markdown",
   "metadata": {},
   "source": [
    "String concatenation"
   ]
  },
  {
   "cell_type": "code",
   "execution_count": 26,
   "metadata": {},
   "outputs": [
    {
     "data": {
      "text/plain": [
       "1000      United Kingdom21123\n",
       "1001      United Kingdom21124\n",
       "1002      United Kingdom21122\n",
       "1003      United Kingdom84378\n",
       "1004      United Kingdom21985\n",
       "                 ...         \n",
       "14995    United Kingdom72349B\n",
       "14996     United Kingdom72741\n",
       "14997     United Kingdom22762\n",
       "14998     United Kingdom21773\n",
       "14999     United Kingdom22149\n",
       "Length: 15000, dtype: object"
      ]
     },
     "execution_count": 26,
     "metadata": {},
     "output_type": "execute_result"
    }
   ],
   "source": [
    "df['Country'] + df['StockCode']"
   ]
  }
 ],
 "metadata": {
  "kernelspec": {
   "display_name": "Python 3",
   "language": "python",
   "name": "python3"
  },
  "language_info": {
   "codemirror_mode": {
    "name": "ipython",
    "version": 3
   },
   "file_extension": ".py",
   "mimetype": "text/x-python",
   "name": "python",
   "nbconvert_exporter": "python",
   "pygments_lexer": "ipython3",
   "version": "3.7.5"
  },
  "pycharm": {
   "stem_cell": {
    "cell_type": "raw",
    "metadata": {
     "collapsed": false
    },
    "source": []
   }
  }
 },
 "nbformat": 4,
 "nbformat_minor": 2
}
