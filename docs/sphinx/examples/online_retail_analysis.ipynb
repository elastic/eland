{
 "cells": [
  {
   "cell_type": "code",
   "execution_count": 1,
   "metadata": {
    "execution": {
     "iopub.execute_input": "2021-12-15T20:25:06.764412Z",
     "iopub.status.busy": "2021-12-15T20:25:06.755567Z",
     "iopub.status.idle": "2021-12-15T20:25:07.316950Z",
     "shell.execute_reply": "2021-12-15T20:25:07.316561Z"
    }
   },
   "outputs": [],
   "source": [
    "import eland as ed\n",
    "import pandas as pd\n",
    "import numpy as np\n",
    "import matplotlib.pyplot as plt\n",
    "\n",
    "# Fix console size for consistent test results\n",
    "from eland.conftest import *"
   ]
  },
  {
   "cell_type": "markdown",
   "metadata": {},
   "source": [
    "# Online Retail Analysis"
   ]
  },
  {
   "cell_type": "markdown",
   "metadata": {},
   "source": [
    "## Getting Started\n",
    "\n",
    "To get started, let's create an `eland.DataFrame` by reading a csv file. This creates and populates the \n",
    "`online-retail` index in the local Elasticsearch cluster."
   ]
  },
  {
   "cell_type": "code",
   "execution_count": 2,
   "metadata": {
    "execution": {
     "iopub.execute_input": "2021-12-15T20:25:07.324283Z",
     "iopub.status.busy": "2021-12-15T20:25:07.323764Z",
     "iopub.status.idle": "2021-12-15T20:25:16.241379Z",
     "shell.execute_reply": "2021-12-15T20:25:16.241877Z"
    }
   },
   "outputs": [],
   "source": [
    "df = ed.csv_to_eland(\"data/online-retail.csv.gz\",\n",
    "                     es_client='http://localhost:9200', \n",
    "                     es_dest_index='online-retail', \n",
    "                     es_if_exists='replace', \n",
    "                     es_dropna=True,\n",
    "                     es_refresh=True,\n",
    "                     compression='gzip',\n",
    "                     index_col=0)"
   ]
  },
  {
   "cell_type": "markdown",
   "metadata": {},
   "source": [
    "Here we see that the `\"_id\"` field was used to index our data frame. "
   ]
  },
  {
   "cell_type": "code",
   "execution_count": 3,
   "metadata": {
    "execution": {
     "iopub.execute_input": "2021-12-15T20:25:16.246737Z",
     "iopub.status.busy": "2021-12-15T20:25:16.244084Z",
     "iopub.status.idle": "2021-12-15T20:25:16.250080Z",
     "shell.execute_reply": "2021-12-15T20:25:16.250410Z"
    }
   },
   "outputs": [
    {
     "data": {
      "text/plain": [
       "'_id'"
      ]
     },
     "execution_count": 3,
     "metadata": {},
     "output_type": "execute_result"
    }
   ],
   "source": [
    "df.index.es_index_field"
   ]
  },
  {
   "cell_type": "markdown",
   "metadata": {},
   "source": [
    "Next, we can check which field from elasticsearch are available to our eland data frame. `columns` is available as a parameter when instantiating the data frame which allows one to choose only a subset of fields from your index to be included in the data frame. Since we didn't set this parameter, we have access to all fields."
   ]
  },
  {
   "cell_type": "code",
   "execution_count": 4,
   "metadata": {
    "execution": {
     "iopub.execute_input": "2021-12-15T20:25:16.254703Z",
     "iopub.status.busy": "2021-12-15T20:25:16.254060Z",
     "iopub.status.idle": "2021-12-15T20:25:16.256567Z",
     "shell.execute_reply": "2021-12-15T20:25:16.256138Z"
    }
   },
   "outputs": [
    {
     "data": {
      "text/plain": [
       "Index(['Country', 'CustomerID', 'Description', 'InvoiceDate', 'InvoiceNo', 'Quantity', 'StockCode',\n",
       "       'UnitPrice'],\n",
       "      dtype='object')"
      ]
     },
     "execution_count": 4,
     "metadata": {},
     "output_type": "execute_result"
    }
   ],
   "source": [
    "df.columns"
   ]
  },
  {
   "cell_type": "markdown",
   "metadata": {},
   "source": [
    "Now, let's see the data types of our fields. Running `df.dtypes`, we can see that elasticsearch field types are mapped to pandas field types."
   ]
  },
  {
   "cell_type": "code",
   "execution_count": 5,
   "metadata": {
    "execution": {
     "iopub.execute_input": "2021-12-15T20:25:16.261335Z",
     "iopub.status.busy": "2021-12-15T20:25:16.260762Z",
     "iopub.status.idle": "2021-12-15T20:25:16.263024Z",
     "shell.execute_reply": "2021-12-15T20:25:16.263323Z"
    }
   },
   "outputs": [
    {
     "data": {
      "text/plain": [
       "Country         object\n",
       "CustomerID     float64\n",
       "Description     object\n",
       "InvoiceDate     object\n",
       "InvoiceNo       object\n",
       "Quantity         int64\n",
       "StockCode       object\n",
       "UnitPrice      float64\n",
       "dtype: object"
      ]
     },
     "execution_count": 5,
     "metadata": {},
     "output_type": "execute_result"
    }
   ],
   "source": [
    "df.dtypes"
   ]
  },
  {
   "cell_type": "markdown",
   "metadata": {},
   "source": [
    "We also offer a `.es_info()` data frame method that shows all info about the underlying index. It also contains information about operations being passed from data frame methods to elasticsearch. More on this later."
   ]
  },
  {
   "cell_type": "code",
   "execution_count": 6,
   "metadata": {
    "execution": {
     "iopub.execute_input": "2021-12-15T20:25:16.266245Z",
     "iopub.status.busy": "2021-12-15T20:25:16.265860Z",
     "iopub.status.idle": "2021-12-15T20:25:16.271135Z",
     "shell.execute_reply": "2021-12-15T20:25:16.270816Z"
    }
   },
   "outputs": [
    {
     "name": "stdout",
     "output_type": "stream",
     "text": [
      "es_index_pattern: online-retail\n",
      "Index:\n",
      " es_index_field: _id\n",
      " is_source_field: False\n",
      "Mappings:\n",
      " capabilities:\n",
      "            es_field_name  is_source es_dtype es_date_format pd_dtype  is_searchable  is_aggregatable  is_scripted aggregatable_es_field_name\n",
      "Country           Country       True  keyword           None   object           True             True        False                    Country\n",
      "CustomerID     CustomerID       True   double           None  float64           True             True        False                 CustomerID\n",
      "Description   Description       True  keyword           None   object           True             True        False                Description\n",
      "InvoiceDate   InvoiceDate       True  keyword           None   object           True             True        False                InvoiceDate\n",
      "InvoiceNo       InvoiceNo       True  keyword           None   object           True             True        False                  InvoiceNo\n",
      "Quantity         Quantity       True     long           None    int64           True             True        False                   Quantity\n",
      "StockCode       StockCode       True  keyword           None   object           True             True        False                  StockCode\n",
      "UnitPrice       UnitPrice       True   double           None  float64           True             True        False                  UnitPrice\n",
      "Operations:\n",
      " tasks: []\n",
      " size: None\n",
      " sort_params: None\n",
      " _source: ['Country', 'CustomerID', 'Description', 'InvoiceDate', 'InvoiceNo', 'Quantity', 'StockCode', 'UnitPrice']\n",
      " body: {}\n",
      " post_processing: []\n",
      "\n"
     ]
    }
   ],
   "source": [
    "print(df.es_info())"
   ]
  },
  {
   "cell_type": "markdown",
   "metadata": {},
   "source": [
    "## Selecting and Indexing Data\n",
    "\n",
    "Now that we understand how to create a data frame and get access to it's underlying attributes, let's see how we can select subsets of our data."
   ]
  },
  {
   "cell_type": "markdown",
   "metadata": {},
   "source": [
    "### head and tail\n",
    "\n",
    "much like pandas, eland data frames offer `.head(n)` and `.tail(n)` methods that return the first and last n rows, respectively."
   ]
  },
  {
   "cell_type": "code",
   "execution_count": 7,
   "metadata": {
    "execution": {
     "iopub.execute_input": "2021-12-15T20:25:16.274779Z",
     "iopub.status.busy": "2021-12-15T20:25:16.274393Z",
     "iopub.status.idle": "2021-12-15T20:25:17.555325Z",
     "shell.execute_reply": "2021-12-15T20:25:17.555642Z"
    }
   },
   "outputs": [
    {
     "data": {
      "text/html": [
       "<div>\n",
       "<style scoped>\n",
       "    .dataframe tbody tr th:only-of-type {\n",
       "        vertical-align: middle;\n",
       "    }\n",
       "\n",
       "    .dataframe tbody tr th {\n",
       "        vertical-align: top;\n",
       "    }\n",
       "\n",
       "    .dataframe thead th {\n",
       "        text-align: right;\n",
       "    }\n",
       "</style>\n",
       "<table border=\"1\" class=\"dataframe\">\n",
       "  <thead>\n",
       "    <tr style=\"text-align: right;\">\n",
       "      <th></th>\n",
       "      <th>Country</th>\n",
       "      <th>CustomerID</th>\n",
       "      <th>...</th>\n",
       "      <th>StockCode</th>\n",
       "      <th>UnitPrice</th>\n",
       "    </tr>\n",
       "  </thead>\n",
       "  <tbody>\n",
       "    <tr>\n",
       "      <th>0</th>\n",
       "      <td>United Kingdom</td>\n",
       "      <td>17850.0</td>\n",
       "      <td>...</td>\n",
       "      <td>85123A</td>\n",
       "      <td>2.55</td>\n",
       "    </tr>\n",
       "    <tr>\n",
       "      <th>1</th>\n",
       "      <td>United Kingdom</td>\n",
       "      <td>17850.0</td>\n",
       "      <td>...</td>\n",
       "      <td>71053</td>\n",
       "      <td>3.39</td>\n",
       "    </tr>\n",
       "  </tbody>\n",
       "</table>\n",
       "</div>\n",
       "<p>2 rows × 8 columns</p>"
      ],
      "text/plain": [
       "          Country  CustomerID  ... StockCode UnitPrice\n",
       "0  United Kingdom     17850.0  ...    85123A      2.55\n",
       "1  United Kingdom     17850.0  ...     71053      3.39\n",
       "\n",
       "[2 rows x 8 columns]"
      ]
     },
     "execution_count": 7,
     "metadata": {},
     "output_type": "execute_result"
    }
   ],
   "source": [
    "df.head(2)"
   ]
  },
  {
   "cell_type": "code",
   "execution_count": 8,
   "metadata": {
    "execution": {
     "iopub.execute_input": "2021-12-15T20:25:17.559534Z",
     "iopub.status.busy": "2021-12-15T20:25:17.559123Z",
     "iopub.status.idle": "2021-12-15T20:25:17.637500Z",
     "shell.execute_reply": "2021-12-15T20:25:17.637125Z"
    }
   },
   "outputs": [
    {
     "name": "stdout",
     "output_type": "stream",
     "text": [
      "es_index_pattern: online-retail\n",
      "Index:\n",
      " es_index_field: _id\n",
      " is_source_field: False\n",
      "Mappings:\n",
      " capabilities:\n",
      "            es_field_name  is_source es_dtype es_date_format pd_dtype  is_searchable  is_aggregatable  is_scripted aggregatable_es_field_name\n",
      "Country           Country       True  keyword           None   object           True             True        False                    Country\n",
      "CustomerID     CustomerID       True   double           None  float64           True             True        False                 CustomerID\n",
      "Description   Description       True  keyword           None   object           True             True        False                Description\n",
      "InvoiceDate   InvoiceDate       True  keyword           None   object           True             True        False                InvoiceDate\n",
      "InvoiceNo       InvoiceNo       True  keyword           None   object           True             True        False                  InvoiceNo\n",
      "Quantity         Quantity       True     long           None    int64           True             True        False                   Quantity\n",
      "StockCode       StockCode       True  keyword           None   object           True             True        False                  StockCode\n",
      "UnitPrice       UnitPrice       True   double           None  float64           True             True        False                  UnitPrice\n",
      "Operations:\n",
      " tasks: [('tail': ('sort_field': '_doc', 'count': 2)), ('head': ('sort_field': '_doc', 'count': 2)), ('tail': ('sort_field': '_doc', 'count': 2))]\n",
      " size: 2\n",
      " sort_params: {'_doc': 'desc'}\n",
      " _source: ['Country', 'CustomerID', 'Description', 'InvoiceDate', 'InvoiceNo', 'Quantity', 'StockCode', 'UnitPrice']\n",
      " body: {}\n",
      " post_processing: [('sort_index'), ('head': ('count': 2)), ('tail': ('count': 2))]\n",
      "\n"
     ]
    }
   ],
   "source": [
    "print(df.tail(2).head(2).tail(2).es_info())"
   ]
  },
  {
   "cell_type": "code",
   "execution_count": 9,
   "metadata": {
    "execution": {
     "iopub.execute_input": "2021-12-15T20:25:17.640519Z",
     "iopub.status.busy": "2021-12-15T20:25:17.640139Z",
     "iopub.status.idle": "2021-12-15T20:25:18.647340Z",
     "shell.execute_reply": "2021-12-15T20:25:18.646548Z"
    }
   },
   "outputs": [
    {
     "data": {
      "text/html": [
       "<div>\n",
       "<style scoped>\n",
       "    .dataframe tbody tr th:only-of-type {\n",
       "        vertical-align: middle;\n",
       "    }\n",
       "\n",
       "    .dataframe tbody tr th {\n",
       "        vertical-align: top;\n",
       "    }\n",
       "\n",
       "    .dataframe thead th {\n",
       "        text-align: right;\n",
       "    }\n",
       "</style>\n",
       "<table border=\"1\" class=\"dataframe\">\n",
       "  <thead>\n",
       "    <tr style=\"text-align: right;\">\n",
       "      <th></th>\n",
       "      <th>Country</th>\n",
       "      <th>CustomerID</th>\n",
       "      <th>...</th>\n",
       "      <th>StockCode</th>\n",
       "      <th>UnitPrice</th>\n",
       "    </tr>\n",
       "  </thead>\n",
       "  <tbody>\n",
       "    <tr>\n",
       "      <th>12498</th>\n",
       "      <td>United Kingdom</td>\n",
       "      <td>16710.0</td>\n",
       "      <td>...</td>\n",
       "      <td>20975</td>\n",
       "      <td>0.65</td>\n",
       "    </tr>\n",
       "    <tr>\n",
       "      <th>12499</th>\n",
       "      <td>United Kingdom</td>\n",
       "      <td>16710.0</td>\n",
       "      <td>...</td>\n",
       "      <td>22445</td>\n",
       "      <td>2.95</td>\n",
       "    </tr>\n",
       "  </tbody>\n",
       "</table>\n",
       "</div>\n",
       "<p>2 rows × 8 columns</p>"
      ],
      "text/plain": [
       "              Country  CustomerID  ... StockCode UnitPrice\n",
       "12498  United Kingdom     16710.0  ...     20975      0.65\n",
       "12499  United Kingdom     16710.0  ...     22445      2.95\n",
       "\n",
       "[2 rows x 8 columns]"
      ]
     },
     "execution_count": 9,
     "metadata": {},
     "output_type": "execute_result"
    }
   ],
   "source": [
    "df.tail(2)"
   ]
  },
  {
   "cell_type": "markdown",
   "metadata": {},
   "source": [
    "### Selecting columns\n",
    "\n",
    "you can also pass a list of columns to select columns from the data frame in a specified order."
   ]
  },
  {
   "cell_type": "code",
   "execution_count": 10,
   "metadata": {
    "execution": {
     "iopub.execute_input": "2021-12-15T20:25:18.654238Z",
     "iopub.status.busy": "2021-12-15T20:25:18.653517Z",
     "iopub.status.idle": "2021-12-15T20:25:19.431749Z",
     "shell.execute_reply": "2021-12-15T20:25:19.431127Z"
    }
   },
   "outputs": [
    {
     "data": {
      "text/html": [
       "<div>\n",
       "<style scoped>\n",
       "    .dataframe tbody tr th:only-of-type {\n",
       "        vertical-align: middle;\n",
       "    }\n",
       "\n",
       "    .dataframe tbody tr th {\n",
       "        vertical-align: top;\n",
       "    }\n",
       "\n",
       "    .dataframe thead th {\n",
       "        text-align: right;\n",
       "    }\n",
       "</style>\n",
       "<table border=\"1\" class=\"dataframe\">\n",
       "  <thead>\n",
       "    <tr style=\"text-align: right;\">\n",
       "      <th></th>\n",
       "      <th>Country</th>\n",
       "      <th>InvoiceDate</th>\n",
       "    </tr>\n",
       "  </thead>\n",
       "  <tbody>\n",
       "    <tr>\n",
       "      <th>0</th>\n",
       "      <td>United Kingdom</td>\n",
       "      <td>2010-12-01 08:26:00</td>\n",
       "    </tr>\n",
       "    <tr>\n",
       "      <th>1</th>\n",
       "      <td>United Kingdom</td>\n",
       "      <td>2010-12-01 08:26:00</td>\n",
       "    </tr>\n",
       "    <tr>\n",
       "      <th>2</th>\n",
       "      <td>United Kingdom</td>\n",
       "      <td>2010-12-01 08:26:00</td>\n",
       "    </tr>\n",
       "    <tr>\n",
       "      <th>3</th>\n",
       "      <td>United Kingdom</td>\n",
       "      <td>2010-12-01 08:26:00</td>\n",
       "    </tr>\n",
       "    <tr>\n",
       "      <th>4</th>\n",
       "      <td>United Kingdom</td>\n",
       "      <td>2010-12-01 08:26:00</td>\n",
       "    </tr>\n",
       "  </tbody>\n",
       "</table>\n",
       "</div>\n",
       "<p>5 rows × 2 columns</p>"
      ],
      "text/plain": [
       "          Country          InvoiceDate\n",
       "0  United Kingdom  2010-12-01 08:26:00\n",
       "1  United Kingdom  2010-12-01 08:26:00\n",
       "2  United Kingdom  2010-12-01 08:26:00\n",
       "3  United Kingdom  2010-12-01 08:26:00\n",
       "4  United Kingdom  2010-12-01 08:26:00\n",
       "\n",
       "[5 rows x 2 columns]"
      ]
     },
     "execution_count": 10,
     "metadata": {},
     "output_type": "execute_result"
    }
   ],
   "source": [
    "df[['Country', 'InvoiceDate']].head(5)"
   ]
  },
  {
   "cell_type": "markdown",
   "metadata": {},
   "source": [
    "### Boolean Indexing\n",
    "\n",
    "we also allow you to filter the data frame using boolean indexing. Under the hood, a boolean index maps to a `terms` query that is then passed to elasticsearch to filter the index."
   ]
  },
  {
   "cell_type": "code",
   "execution_count": 11,
   "metadata": {
    "execution": {
     "iopub.execute_input": "2021-12-15T20:25:19.440640Z",
     "iopub.status.busy": "2021-12-15T20:25:19.439831Z",
     "iopub.status.idle": "2021-12-15T20:25:20.066747Z",
     "shell.execute_reply": "2021-12-15T20:25:20.067477Z"
    }
   },
   "outputs": [
    {
     "name": "stdout",
     "output_type": "stream",
     "text": [
      "{'term': {'Country': 'Germany'}}\n"
     ]
    },
    {
     "data": {
      "text/html": [
       "<div>\n",
       "<style scoped>\n",
       "    .dataframe tbody tr th:only-of-type {\n",
       "        vertical-align: middle;\n",
       "    }\n",
       "\n",
       "    .dataframe tbody tr th {\n",
       "        vertical-align: top;\n",
       "    }\n",
       "\n",
       "    .dataframe thead th {\n",
       "        text-align: right;\n",
       "    }\n",
       "</style>\n",
       "<table border=\"1\" class=\"dataframe\">\n",
       "  <thead>\n",
       "    <tr style=\"text-align: right;\">\n",
       "      <th></th>\n",
       "      <th>Country</th>\n",
       "      <th>CustomerID</th>\n",
       "      <th>...</th>\n",
       "      <th>StockCode</th>\n",
       "      <th>UnitPrice</th>\n",
       "    </tr>\n",
       "  </thead>\n",
       "  <tbody>\n",
       "    <tr>\n",
       "      <th>1109</th>\n",
       "      <td>Germany</td>\n",
       "      <td>12662.0</td>\n",
       "      <td>...</td>\n",
       "      <td>22809</td>\n",
       "      <td>2.95</td>\n",
       "    </tr>\n",
       "    <tr>\n",
       "      <th>1110</th>\n",
       "      <td>Germany</td>\n",
       "      <td>12662.0</td>\n",
       "      <td>...</td>\n",
       "      <td>84347</td>\n",
       "      <td>2.55</td>\n",
       "    </tr>\n",
       "    <tr>\n",
       "      <th>1111</th>\n",
       "      <td>Germany</td>\n",
       "      <td>12662.0</td>\n",
       "      <td>...</td>\n",
       "      <td>84945</td>\n",
       "      <td>0.85</td>\n",
       "    </tr>\n",
       "    <tr>\n",
       "      <th>1112</th>\n",
       "      <td>Germany</td>\n",
       "      <td>12662.0</td>\n",
       "      <td>...</td>\n",
       "      <td>22242</td>\n",
       "      <td>1.65</td>\n",
       "    </tr>\n",
       "    <tr>\n",
       "      <th>1113</th>\n",
       "      <td>Germany</td>\n",
       "      <td>12662.0</td>\n",
       "      <td>...</td>\n",
       "      <td>22244</td>\n",
       "      <td>1.95</td>\n",
       "    </tr>\n",
       "  </tbody>\n",
       "</table>\n",
       "</div>\n",
       "<p>5 rows × 8 columns</p>"
      ],
      "text/plain": [
       "      Country  CustomerID  ... StockCode UnitPrice\n",
       "1109  Germany     12662.0  ...     22809      2.95\n",
       "1110  Germany     12662.0  ...     84347      2.55\n",
       "1111  Germany     12662.0  ...     84945      0.85\n",
       "1112  Germany     12662.0  ...     22242      1.65\n",
       "1113  Germany     12662.0  ...     22244      1.95\n",
       "\n",
       "[5 rows x 8 columns]"
      ]
     },
     "execution_count": 11,
     "metadata": {},
     "output_type": "execute_result"
    }
   ],
   "source": [
    "# the construction of a boolean vector maps directly to an elasticsearch query\n",
    "print(df['Country']=='Germany')\n",
    "df[(df['Country']=='Germany')].head(5)"
   ]
  },
  {
   "cell_type": "markdown",
   "metadata": {},
   "source": [
    "we can also filter the data frame using a list of values."
   ]
  },
  {
   "cell_type": "code",
   "execution_count": 12,
   "metadata": {
    "execution": {
     "iopub.execute_input": "2021-12-15T20:25:20.077022Z",
     "iopub.status.busy": "2021-12-15T20:25:20.076412Z",
     "iopub.status.idle": "2021-12-15T20:25:21.233013Z",
     "shell.execute_reply": "2021-12-15T20:25:21.234073Z"
    }
   },
   "outputs": [
    {
     "name": "stdout",
     "output_type": "stream",
     "text": [
      "{'terms': {'Country': ['Germany', 'United States']}}\n"
     ]
    },
    {
     "data": {
      "text/html": [
       "<div>\n",
       "<style scoped>\n",
       "    .dataframe tbody tr th:only-of-type {\n",
       "        vertical-align: middle;\n",
       "    }\n",
       "\n",
       "    .dataframe tbody tr th {\n",
       "        vertical-align: top;\n",
       "    }\n",
       "\n",
       "    .dataframe thead th {\n",
       "        text-align: right;\n",
       "    }\n",
       "</style>\n",
       "<table border=\"1\" class=\"dataframe\">\n",
       "  <thead>\n",
       "    <tr style=\"text-align: right;\">\n",
       "      <th></th>\n",
       "      <th>Country</th>\n",
       "      <th>CustomerID</th>\n",
       "      <th>...</th>\n",
       "      <th>StockCode</th>\n",
       "      <th>UnitPrice</th>\n",
       "    </tr>\n",
       "  </thead>\n",
       "  <tbody>\n",
       "    <tr>\n",
       "      <th>0</th>\n",
       "      <td>United Kingdom</td>\n",
       "      <td>17850.0</td>\n",
       "      <td>...</td>\n",
       "      <td>85123A</td>\n",
       "      <td>2.55</td>\n",
       "    </tr>\n",
       "    <tr>\n",
       "      <th>1</th>\n",
       "      <td>United Kingdom</td>\n",
       "      <td>17850.0</td>\n",
       "      <td>...</td>\n",
       "      <td>71053</td>\n",
       "      <td>3.39</td>\n",
       "    </tr>\n",
       "    <tr>\n",
       "      <th>2</th>\n",
       "      <td>United Kingdom</td>\n",
       "      <td>17850.0</td>\n",
       "      <td>...</td>\n",
       "      <td>84406B</td>\n",
       "      <td>2.75</td>\n",
       "    </tr>\n",
       "    <tr>\n",
       "      <th>3</th>\n",
       "      <td>United Kingdom</td>\n",
       "      <td>17850.0</td>\n",
       "      <td>...</td>\n",
       "      <td>84029G</td>\n",
       "      <td>3.39</td>\n",
       "    </tr>\n",
       "    <tr>\n",
       "      <th>4</th>\n",
       "      <td>United Kingdom</td>\n",
       "      <td>17850.0</td>\n",
       "      <td>...</td>\n",
       "      <td>84029E</td>\n",
       "      <td>3.39</td>\n",
       "    </tr>\n",
       "  </tbody>\n",
       "</table>\n",
       "</div>\n",
       "<p>5 rows × 8 columns</p>"
      ],
      "text/plain": [
       "          Country  CustomerID  ... StockCode UnitPrice\n",
       "0  United Kingdom     17850.0  ...    85123A      2.55\n",
       "1  United Kingdom     17850.0  ...     71053      3.39\n",
       "2  United Kingdom     17850.0  ...    84406B      2.75\n",
       "3  United Kingdom     17850.0  ...    84029G      3.39\n",
       "4  United Kingdom     17850.0  ...    84029E      3.39\n",
       "\n",
       "[5 rows x 8 columns]"
      ]
     },
     "execution_count": 12,
     "metadata": {},
     "output_type": "execute_result"
    }
   ],
   "source": [
    "print(df['Country'].isin(['Germany', 'United States']))\n",
    "df[df['Country'].isin(['Germany', 'United Kingdom'])].head(5)"
   ]
  },
  {
   "cell_type": "markdown",
   "metadata": {},
   "source": [
    "We can also combine boolean vectors to further filter the data frame."
   ]
  },
  {
   "cell_type": "code",
   "execution_count": 13,
   "metadata": {
    "execution": {
     "iopub.execute_input": "2021-12-15T20:25:21.245390Z",
     "iopub.status.busy": "2021-12-15T20:25:21.244737Z",
     "iopub.status.idle": "2021-12-15T20:25:22.358701Z",
     "shell.execute_reply": "2021-12-15T20:25:22.355150Z"
    }
   },
   "outputs": [
    {
     "data": {
      "text/html": [
       "<div>\n",
       "<style scoped>\n",
       "    .dataframe tbody tr th:only-of-type {\n",
       "        vertical-align: middle;\n",
       "    }\n",
       "\n",
       "    .dataframe tbody tr th {\n",
       "        vertical-align: top;\n",
       "    }\n",
       "\n",
       "    .dataframe thead th {\n",
       "        text-align: right;\n",
       "    }\n",
       "</style>\n",
       "<table border=\"1\" class=\"dataframe\">\n",
       "  <thead>\n",
       "    <tr style=\"text-align: right;\">\n",
       "      <th></th>\n",
       "      <th>Country</th>\n",
       "      <th>CustomerID</th>\n",
       "      <th>...</th>\n",
       "      <th>StockCode</th>\n",
       "      <th>UnitPrice</th>\n",
       "    </tr>\n",
       "  </thead>\n",
       "  <tbody>\n",
       "  </tbody>\n",
       "</table>\n",
       "</div>\n",
       "<p>0 rows × 8 columns</p>"
      ],
      "text/plain": [
       "Empty DataFrame\n",
       "Columns: [Country, CustomerID, Description, InvoiceDate, InvoiceNo, Quantity, StockCode, UnitPrice]\n",
       "Index: []\n",
       "\n",
       "[0 rows x 8 columns]"
      ]
     },
     "execution_count": 13,
     "metadata": {},
     "output_type": "execute_result"
    }
   ],
   "source": [
    "df[(df['Country']=='Germany') & (df['Quantity']>90)]"
   ]
  },
  {
   "cell_type": "markdown",
   "metadata": {},
   "source": [
    "Using this example, let see how eland translates this boolean filter to an elasticsearch `bool` query."
   ]
  },
  {
   "cell_type": "code",
   "execution_count": 14,
   "metadata": {
    "execution": {
     "iopub.execute_input": "2021-12-15T20:25:22.383610Z",
     "iopub.status.busy": "2021-12-15T20:25:22.370577Z",
     "iopub.status.idle": "2021-12-15T20:25:22.390275Z",
     "shell.execute_reply": "2021-12-15T20:25:22.388963Z"
    }
   },
   "outputs": [
    {
     "name": "stdout",
     "output_type": "stream",
     "text": [
      "es_index_pattern: online-retail\n",
      "Index:\n",
      " es_index_field: _id\n",
      " is_source_field: False\n",
      "Mappings:\n",
      " capabilities:\n",
      "            es_field_name  is_source es_dtype es_date_format pd_dtype  is_searchable  is_aggregatable  is_scripted aggregatable_es_field_name\n",
      "Country           Country       True  keyword           None   object           True             True        False                    Country\n",
      "CustomerID     CustomerID       True   double           None  float64           True             True        False                 CustomerID\n",
      "Description   Description       True  keyword           None   object           True             True        False                Description\n",
      "InvoiceDate   InvoiceDate       True  keyword           None   object           True             True        False                InvoiceDate\n",
      "InvoiceNo       InvoiceNo       True  keyword           None   object           True             True        False                  InvoiceNo\n",
      "Quantity         Quantity       True     long           None    int64           True             True        False                   Quantity\n",
      "StockCode       StockCode       True  keyword           None   object           True             True        False                  StockCode\n",
      "UnitPrice       UnitPrice       True   double           None  float64           True             True        False                  UnitPrice\n",
      "Operations:\n",
      " tasks: [('boolean_filter': ('boolean_filter': {'bool': {'must': [{'term': {'Country': 'Germany'}}, {'range': {'Quantity': {'gt': 90}}}]}}))]\n",
      " size: None\n",
      " sort_params: None\n",
      " _source: ['Country', 'CustomerID', 'Description', 'InvoiceDate', 'InvoiceNo', 'Quantity', 'StockCode', 'UnitPrice']\n",
      " body: {'query': {'bool': {'must': [{'term': {'Country': 'Germany'}}, {'range': {'Quantity': {'gt': 90}}}]}}}\n",
      " post_processing: []\n",
      "\n"
     ]
    }
   ],
   "source": [
    "print(df[(df['Country']=='Germany') & (df['Quantity']>90)].es_info())"
   ]
  },
  {
   "cell_type": "markdown",
   "metadata": {},
   "source": [
    "## Aggregation and Descriptive Statistics\n",
    "\n",
    "Let's begin to ask some questions of our data and use eland to get the answers."
   ]
  },
  {
   "cell_type": "markdown",
   "metadata": {},
   "source": [
    "**How many different countries are there?**"
   ]
  },
  {
   "cell_type": "code",
   "execution_count": 15,
   "metadata": {
    "execution": {
     "iopub.execute_input": "2021-12-15T20:25:22.398231Z",
     "iopub.status.busy": "2021-12-15T20:25:22.397459Z",
     "iopub.status.idle": "2021-12-15T20:25:22.482238Z",
     "shell.execute_reply": "2021-12-15T20:25:22.481338Z"
    }
   },
   "outputs": [
    {
     "data": {
      "text/plain": [
       "16"
      ]
     },
     "execution_count": 15,
     "metadata": {},
     "output_type": "execute_result"
    }
   ],
   "source": [
    "df['Country'].nunique()"
   ]
  },
  {
   "cell_type": "markdown",
   "metadata": {},
   "source": [
    "**What is the total sum of products ordered?**"
   ]
  },
  {
   "cell_type": "code",
   "execution_count": 16,
   "metadata": {
    "execution": {
     "iopub.execute_input": "2021-12-15T20:25:22.492668Z",
     "iopub.status.busy": "2021-12-15T20:25:22.491590Z",
     "iopub.status.idle": "2021-12-15T20:25:22.580015Z",
     "shell.execute_reply": "2021-12-15T20:25:22.578300Z"
    }
   },
   "outputs": [
    {
     "data": {
      "text/plain": [
       "111960"
      ]
     },
     "execution_count": 16,
     "metadata": {},
     "output_type": "execute_result"
    }
   ],
   "source": [
    "df['Quantity'].sum()"
   ]
  },
  {
   "cell_type": "markdown",
   "metadata": {},
   "source": [
    "**Show me the sum, mean, min, and max of the qunatity and unit_price fields**"
   ]
  },
  {
   "cell_type": "code",
   "execution_count": 17,
   "metadata": {
    "execution": {
     "iopub.execute_input": "2021-12-15T20:25:22.601432Z",
     "iopub.status.busy": "2021-12-15T20:25:22.600117Z",
     "iopub.status.idle": "2021-12-15T20:25:22.702450Z",
     "shell.execute_reply": "2021-12-15T20:25:22.701499Z"
    }
   },
   "outputs": [
    {
     "data": {
      "text/html": [
       "<div>\n",
       "<style scoped>\n",
       "    .dataframe tbody tr th:only-of-type {\n",
       "        vertical-align: middle;\n",
       "    }\n",
       "\n",
       "    .dataframe tbody tr th {\n",
       "        vertical-align: top;\n",
       "    }\n",
       "\n",
       "    .dataframe thead th {\n",
       "        text-align: right;\n",
       "    }\n",
       "</style>\n",
       "<table border=\"1\" class=\"dataframe\">\n",
       "  <thead>\n",
       "    <tr style=\"text-align: right;\">\n",
       "      <th></th>\n",
       "      <th>Quantity</th>\n",
       "      <th>UnitPrice</th>\n",
       "    </tr>\n",
       "  </thead>\n",
       "  <tbody>\n",
       "    <tr>\n",
       "      <th>sum</th>\n",
       "      <td>111960.000</td>\n",
       "      <td>61548.490000</td>\n",
       "    </tr>\n",
       "    <tr>\n",
       "      <th>mean</th>\n",
       "      <td>7.464</td>\n",
       "      <td>4.103233</td>\n",
       "    </tr>\n",
       "    <tr>\n",
       "      <th>max</th>\n",
       "      <td>2880.000</td>\n",
       "      <td>950.990000</td>\n",
       "    </tr>\n",
       "    <tr>\n",
       "      <th>min</th>\n",
       "      <td>-9360.000</td>\n",
       "      <td>0.000000</td>\n",
       "    </tr>\n",
       "  </tbody>\n",
       "</table>\n",
       "</div>"
      ],
      "text/plain": [
       "        Quantity     UnitPrice\n",
       "sum   111960.000  61548.490000\n",
       "mean       7.464      4.103233\n",
       "max     2880.000    950.990000\n",
       "min    -9360.000      0.000000"
      ]
     },
     "execution_count": 17,
     "metadata": {},
     "output_type": "execute_result"
    }
   ],
   "source": [
    "df[['Quantity','UnitPrice']].agg(['sum', 'mean', 'max', 'min'])"
   ]
  },
  {
   "cell_type": "markdown",
   "metadata": {},
   "source": [
    "**Give me descriptive statistics for the entire data frame**"
   ]
  },
  {
   "cell_type": "code",
   "execution_count": 18,
   "metadata": {
    "execution": {
     "iopub.execute_input": "2021-12-15T20:25:22.712002Z",
     "iopub.status.busy": "2021-12-15T20:25:22.711114Z",
     "iopub.status.idle": "2021-12-15T20:25:22.982698Z",
     "shell.execute_reply": "2021-12-15T20:25:22.981770Z"
    }
   },
   "outputs": [
    {
     "data": {
      "text/html": [
       "<div>\n",
       "<style scoped>\n",
       "    .dataframe tbody tr th:only-of-type {\n",
       "        vertical-align: middle;\n",
       "    }\n",
       "\n",
       "    .dataframe tbody tr th {\n",
       "        vertical-align: top;\n",
       "    }\n",
       "\n",
       "    .dataframe thead th {\n",
       "        text-align: right;\n",
       "    }\n",
       "</style>\n",
       "<table border=\"1\" class=\"dataframe\">\n",
       "  <thead>\n",
       "    <tr style=\"text-align: right;\">\n",
       "      <th></th>\n",
       "      <th>CustomerID</th>\n",
       "      <th>Quantity</th>\n",
       "      <th>UnitPrice</th>\n",
       "    </tr>\n",
       "  </thead>\n",
       "  <tbody>\n",
       "    <tr>\n",
       "      <th>count</th>\n",
       "      <td>10729.000000</td>\n",
       "      <td>15000.000000</td>\n",
       "      <td>15000.000000</td>\n",
       "    </tr>\n",
       "    <tr>\n",
       "      <th>mean</th>\n",
       "      <td>15590.776680</td>\n",
       "      <td>7.464000</td>\n",
       "      <td>4.103233</td>\n",
       "    </tr>\n",
       "    <tr>\n",
       "      <th>std</th>\n",
       "      <td>1764.189592</td>\n",
       "      <td>85.930116</td>\n",
       "      <td>20.106214</td>\n",
       "    </tr>\n",
       "    <tr>\n",
       "      <th>min</th>\n",
       "      <td>12347.000000</td>\n",
       "      <td>-9360.000000</td>\n",
       "      <td>0.000000</td>\n",
       "    </tr>\n",
       "    <tr>\n",
       "      <th>25%</th>\n",
       "      <td>14222.249164</td>\n",
       "      <td>1.000000</td>\n",
       "      <td>1.250000</td>\n",
       "    </tr>\n",
       "    <tr>\n",
       "      <th>50%</th>\n",
       "      <td>15663.037856</td>\n",
       "      <td>2.000000</td>\n",
       "      <td>2.510000</td>\n",
       "    </tr>\n",
       "    <tr>\n",
       "      <th>75%</th>\n",
       "      <td>17219.040670</td>\n",
       "      <td>6.425347</td>\n",
       "      <td>4.210000</td>\n",
       "    </tr>\n",
       "    <tr>\n",
       "      <th>max</th>\n",
       "      <td>18239.000000</td>\n",
       "      <td>2880.000000</td>\n",
       "      <td>950.990000</td>\n",
       "    </tr>\n",
       "  </tbody>\n",
       "</table>\n",
       "</div>"
      ],
      "text/plain": [
       "         CustomerID      Quantity     UnitPrice\n",
       "count  10729.000000  15000.000000  15000.000000\n",
       "mean   15590.776680      7.464000      4.103233\n",
       "std     1764.189592     85.930116     20.106214\n",
       "min    12347.000000  -9360.000000      0.000000\n",
       "25%    14222.249164      1.000000      1.250000\n",
       "50%    15663.037856      2.000000      2.510000\n",
       "75%    17219.040670      6.425347      4.210000\n",
       "max    18239.000000   2880.000000    950.990000"
      ]
     },
     "execution_count": 18,
     "metadata": {},
     "output_type": "execute_result"
    }
   ],
   "source": [
    "# NBVAL_IGNORE_OUTPUT\n",
    "df.describe()"
   ]
  },
  {
   "cell_type": "markdown",
   "metadata": {},
   "source": [
    "**Show me a histogram of numeric columns**"
   ]
  },
  {
   "cell_type": "code",
   "execution_count": 19,
   "metadata": {
    "execution": {
     "iopub.execute_input": "2021-12-15T20:25:23.000466Z",
     "iopub.status.busy": "2021-12-15T20:25:22.999571Z",
     "iopub.status.idle": "2021-12-15T20:25:23.576387Z",
     "shell.execute_reply": "2021-12-15T20:25:23.576703Z"
    }
   },
   "outputs": [
    {
     "data": {
      "image/png": "[encoded data removed]",
      "text/plain": [
       "<Figure size 864x288 with 2 Axes>"
      ]
     },
     "metadata": {
      "needs_background": "light"
     },
     "output_type": "display_data"
    }
   ],
   "source": [
    "df[(df['Quantity']>-50) & \n",
    "   (df['Quantity']<50) & \n",
    "   (df['UnitPrice']>0) & \n",
    "   (df['UnitPrice']<100)][['Quantity', 'UnitPrice']].hist(figsize=[12,4], bins=30)\n",
    "plt.show()"
   ]
  },
  {
   "cell_type": "code",
   "execution_count": 20,
   "metadata": {
    "execution": {
     "iopub.execute_input": "2021-12-15T20:25:23.584264Z",
     "iopub.status.busy": "2021-12-15T20:25:23.583784Z",
     "iopub.status.idle": "2021-12-15T20:25:24.494000Z",
     "shell.execute_reply": "2021-12-15T20:25:24.493618Z"
    }
   },
   "outputs": [
    {
     "data": {
      "image/png": "[encoded data removed]",
      "text/plain": [
       "<Figure size 864x288 with 2 Axes>"
      ]
     },
     "metadata": {
      "needs_background": "light"
     },
     "output_type": "display_data"
    }
   ],
   "source": [
    "df[(df['Quantity']>-50) & \n",
    "   (df['Quantity']<50) & \n",
    "   (df['UnitPrice']>0) & \n",
    "   (df['UnitPrice']<100)][['Quantity', 'UnitPrice']].hist(figsize=[12,4], bins=30, log=True)\n",
    "plt.show()"
   ]
  },
  {
   "cell_type": "code",
   "execution_count": 21,
   "metadata": {
    "execution": {
     "iopub.execute_input": "2021-12-15T20:25:24.504460Z",
     "iopub.status.busy": "2021-12-15T20:25:24.504086Z",
     "iopub.status.idle": "2021-12-15T20:25:26.468550Z",
     "shell.execute_reply": "2021-12-15T20:25:26.466711Z"
    }
   },
   "outputs": [
    {
     "data": {
      "text/html": [
       "<div>\n",
       "<style scoped>\n",
       "    .dataframe tbody tr th:only-of-type {\n",
       "        vertical-align: middle;\n",
       "    }\n",
       "\n",
       "    .dataframe tbody tr th {\n",
       "        vertical-align: top;\n",
       "    }\n",
       "\n",
       "    .dataframe thead th {\n",
       "        text-align: right;\n",
       "    }\n",
       "</style>\n",
       "<table border=\"1\" class=\"dataframe\">\n",
       "  <thead>\n",
       "    <tr style=\"text-align: right;\">\n",
       "      <th></th>\n",
       "      <th>Country</th>\n",
       "      <th>CustomerID</th>\n",
       "      <th>...</th>\n",
       "      <th>StockCode</th>\n",
       "      <th>UnitPrice</th>\n",
       "    </tr>\n",
       "  </thead>\n",
       "  <tbody>\n",
       "    <tr>\n",
       "      <th>46</th>\n",
       "      <td>United Kingdom</td>\n",
       "      <td>13748.0</td>\n",
       "      <td>...</td>\n",
       "      <td>22086</td>\n",
       "      <td>2.55</td>\n",
       "    </tr>\n",
       "    <tr>\n",
       "      <th>83</th>\n",
       "      <td>United Kingdom</td>\n",
       "      <td>15291.0</td>\n",
       "      <td>...</td>\n",
       "      <td>21733</td>\n",
       "      <td>2.55</td>\n",
       "    </tr>\n",
       "    <tr>\n",
       "      <th>96</th>\n",
       "      <td>United Kingdom</td>\n",
       "      <td>14688.0</td>\n",
       "      <td>...</td>\n",
       "      <td>21212</td>\n",
       "      <td>0.42</td>\n",
       "    </tr>\n",
       "    <tr>\n",
       "      <th>102</th>\n",
       "      <td>United Kingdom</td>\n",
       "      <td>14688.0</td>\n",
       "      <td>...</td>\n",
       "      <td>85071B</td>\n",
       "      <td>0.38</td>\n",
       "    </tr>\n",
       "    <tr>\n",
       "      <th>176</th>\n",
       "      <td>United Kingdom</td>\n",
       "      <td>16029.0</td>\n",
       "      <td>...</td>\n",
       "      <td>85099C</td>\n",
       "      <td>1.65</td>\n",
       "    </tr>\n",
       "    <tr>\n",
       "      <th>...</th>\n",
       "      <td>...</td>\n",
       "      <td>...</td>\n",
       "      <td>...</td>\n",
       "      <td>...</td>\n",
       "      <td>...</td>\n",
       "    </tr>\n",
       "    <tr>\n",
       "      <th>11924</th>\n",
       "      <td>United Kingdom</td>\n",
       "      <td>14708.0</td>\n",
       "      <td>...</td>\n",
       "      <td>84945</td>\n",
       "      <td>0.72</td>\n",
       "    </tr>\n",
       "    <tr>\n",
       "      <th>12007</th>\n",
       "      <td>United Kingdom</td>\n",
       "      <td>18113.0</td>\n",
       "      <td>...</td>\n",
       "      <td>84946</td>\n",
       "      <td>1.06</td>\n",
       "    </tr>\n",
       "    <tr>\n",
       "      <th>12015</th>\n",
       "      <td>United Kingdom</td>\n",
       "      <td>17596.0</td>\n",
       "      <td>...</td>\n",
       "      <td>17003</td>\n",
       "      <td>0.21</td>\n",
       "    </tr>\n",
       "    <tr>\n",
       "      <th>12058</th>\n",
       "      <td>United Kingdom</td>\n",
       "      <td>17596.0</td>\n",
       "      <td>...</td>\n",
       "      <td>84536A</td>\n",
       "      <td>0.42</td>\n",
       "    </tr>\n",
       "    <tr>\n",
       "      <th>12448</th>\n",
       "      <td>EIRE</td>\n",
       "      <td>14911.0</td>\n",
       "      <td>...</td>\n",
       "      <td>84945</td>\n",
       "      <td>0.85</td>\n",
       "    </tr>\n",
       "  </tbody>\n",
       "</table>\n",
       "</div>\n",
       "<p>258 rows × 8 columns</p>"
      ],
      "text/plain": [
       "              Country  CustomerID  ... StockCode UnitPrice\n",
       "46     United Kingdom     13748.0  ...     22086      2.55\n",
       "83     United Kingdom     15291.0  ...     21733      2.55\n",
       "96     United Kingdom     14688.0  ...     21212      0.42\n",
       "102    United Kingdom     14688.0  ...    85071B      0.38\n",
       "176    United Kingdom     16029.0  ...    85099C      1.65\n",
       "...               ...         ...  ...       ...       ...\n",
       "11924  United Kingdom     14708.0  ...     84945      0.72\n",
       "12007  United Kingdom     18113.0  ...     84946      1.06\n",
       "12015  United Kingdom     17596.0  ...     17003      0.21\n",
       "12058  United Kingdom     17596.0  ...    84536A      0.42\n",
       "12448            EIRE     14911.0  ...     84945      0.85\n",
       "\n",
       "[258 rows x 8 columns]"
      ]
     },
     "execution_count": 21,
     "metadata": {},
     "output_type": "execute_result"
    }
   ],
   "source": [
    "df.query('Quantity>50 & UnitPrice<100')"
   ]
  },
  {
   "cell_type": "markdown",
   "metadata": {},
   "source": [
    "## Arithmetic Operations"
   ]
  },
  {
   "cell_type": "markdown",
   "metadata": {},
   "source": [
    "Numeric values"
   ]
  },
  {
   "cell_type": "code",
   "execution_count": 22,
   "metadata": {
    "execution": {
     "iopub.execute_input": "2021-12-15T20:25:26.483774Z",
     "iopub.status.busy": "2021-12-15T20:25:26.482084Z",
     "iopub.status.idle": "2021-12-15T20:25:26.907406Z",
     "shell.execute_reply": "2021-12-15T20:25:26.906448Z"
    }
   },
   "outputs": [
    {
     "data": {
      "text/plain": [
       "0    6\n",
       "1    6\n",
       "2    8\n",
       "3    6\n",
       "4    6\n",
       "Name: Quantity, dtype: int64"
      ]
     },
     "execution_count": 22,
     "metadata": {},
     "output_type": "execute_result"
    }
   ],
   "source": [
    "df['Quantity'].head()"
   ]
  },
  {
   "cell_type": "code",
   "execution_count": 23,
   "metadata": {
    "execution": {
     "iopub.execute_input": "2021-12-15T20:25:26.912916Z",
     "iopub.status.busy": "2021-12-15T20:25:26.910149Z",
     "iopub.status.idle": "2021-12-15T20:25:27.361783Z",
     "shell.execute_reply": "2021-12-15T20:25:27.362723Z"
    }
   },
   "outputs": [
    {
     "data": {
      "text/plain": [
       "0    2.55\n",
       "1    3.39\n",
       "2    2.75\n",
       "3    3.39\n",
       "4    3.39\n",
       "Name: UnitPrice, dtype: float64"
      ]
     },
     "execution_count": 23,
     "metadata": {},
     "output_type": "execute_result"
    }
   ],
   "source": [
    "df['UnitPrice'].head()"
   ]
  },
  {
   "cell_type": "code",
   "execution_count": 24,
   "metadata": {
    "execution": {
     "iopub.execute_input": "2021-12-15T20:25:27.383414Z",
     "iopub.status.busy": "2021-12-15T20:25:27.374098Z",
     "iopub.status.idle": "2021-12-15T20:25:27.387546Z",
     "shell.execute_reply": "2021-12-15T20:25:27.388753Z"
    }
   },
   "outputs": [],
   "source": [
    "product = df['Quantity'] * df['UnitPrice']"
   ]
  },
  {
   "cell_type": "code",
   "execution_count": 25,
   "metadata": {
    "execution": {
     "iopub.execute_input": "2021-12-15T20:25:27.398754Z",
     "iopub.status.busy": "2021-12-15T20:25:27.397557Z",
     "iopub.status.idle": "2021-12-15T20:25:27.818022Z",
     "shell.execute_reply": "2021-12-15T20:25:27.819640Z"
    }
   },
   "outputs": [
    {
     "data": {
      "text/plain": [
       "0    15.30\n",
       "1    20.34\n",
       "2    22.00\n",
       "3    20.34\n",
       "4    20.34\n",
       "dtype: float64"
      ]
     },
     "execution_count": 25,
     "metadata": {},
     "output_type": "execute_result"
    }
   ],
   "source": [
    "product.head()"
   ]
  },
  {
   "cell_type": "markdown",
   "metadata": {},
   "source": [
    "String concatenation"
   ]
  },
  {
   "cell_type": "code",
   "execution_count": 26,
   "metadata": {
    "execution": {
     "iopub.execute_input": "2021-12-15T20:25:27.837007Z",
     "iopub.status.busy": "2021-12-15T20:25:27.836370Z",
     "iopub.status.idle": "2021-12-15T20:25:29.072872Z",
     "shell.execute_reply": "2021-12-15T20:25:29.074153Z"
    }
   },
   "outputs": [
    {
     "data": {
      "text/plain": [
       "0        United Kingdom85123A\n",
       "1         United Kingdom71053\n",
       "2        United Kingdom84406B\n",
       "3        United Kingdom84029G\n",
       "4        United Kingdom84029E\n",
       "                 ...         \n",
       "12495     United Kingdom84692\n",
       "12496     United Kingdom22075\n",
       "12497     United Kingdom20979\n",
       "12498     United Kingdom20975\n",
       "12499     United Kingdom22445\n",
       "Length: 15000, dtype: object"
      ]
     },
     "execution_count": 26,
     "metadata": {},
     "output_type": "execute_result"
    }
   ],
   "source": [
    "df['Country'] + df['StockCode']"
   ]
  }
 ],
 "metadata": {
  "kernelspec": {
   "display_name": "Python 3",
   "language": "python",
   "name": "python3"
  },
  "language_info": {
   "codemirror_mode": {
    "name": "ipython",
    "version": 3
   },
   "file_extension": ".py",
   "mimetype": "text/x-python",
   "name": "python",
   "nbconvert_exporter": "python",
   "pygments_lexer": "ipython3",
   "version": "3.8.6"
  },
  "pycharm": {
   "stem_cell": {
    "cell_type": "raw",
    "metadata": {
     "collapsed": false
    },
    "source": []
   }
  }
 },
 "nbformat": 4,
 "nbformat_minor": 2
}
