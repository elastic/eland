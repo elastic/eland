{
 "cells": [
  {
   "cell_type": "markdown",
   "metadata": {
    "id": "GTid11BRNRFA"
   },
   "source": [
    "# Eland Demo Notebook\n",
    "\n",
    "<a target=\"_blank\" href=\"https://colab.research.google.com/github/elastic/eland/blob/main/docs/sphinx/examples/demo_notebook.ipynb\"><img src=\"https://colab.research.google.com/assets/colab-badge.svg\" alt=\"Open In Colab\"/></a>\n",
    "\n",
    "In this notebook we'll show you how to explore and analyze data in Elasticsearch using the familiar Pandas-compatible API."
   ]
  },
  {
   "cell_type": "markdown",
   "metadata": {
    "id": "Rkdq0gUBOPJn"
   },
   "source": [
    "## Requirements 🧰\n",
    "\n",
    "For this example, you will need:\n",
    "\n",
    "- Python 3.8 or later\n",
    "- An Elastic deployment\n",
    "  - We'll be using [Elastic Cloud](https://www.elastic.co/guide/en/cloud/current/ec-getting-started.html) for this example (available with a [free trial](https://cloud.elastic.co/registration))\n",
    "\n",
    "### Create Elastic Cloud deployment\n",
    "\n",
    "If you don't have an Elastic Cloud deployment, follow these steps to create one.\n",
    "\n",
    "1. Go to https://cloud.elastic.co/registration and sign up for a free trial\n",
    "2. Select **Create Deployment** and follow the instructions\n"
   ]
  },
  {
   "cell_type": "markdown",
   "metadata": {
    "id": "8EzcP9SpOYsc"
   },
   "source": [
    "## Install packages 📦\n",
    "\n",
    "First we `pip install` and import the packages we need for this example.\n"
   ]
  },
  {
   "cell_type": "code",
   "execution_count": 1,
   "metadata": {
    "colab": {
     "base_uri": "https://localhost:8080/"
    },
    "execution": {
     "iopub.execute_input": "2023-09-20T14:01:46.419913Z",
     "iopub.status.busy": "2023-09-20T14:01:46.419725Z",
     "iopub.status.idle": "2023-09-20T14:01:59.374939Z",
     "shell.execute_reply": "2023-09-20T14:01:59.373253Z"
    },
    "id": "YTm5ABvjOaSb",
    "outputId": "02a2a2f6-38af-4d8c-9817-0ebd9a90032c"
   },
   "outputs": [
    {
     "name": "stdout",
     "output_type": "stream",
     "text": [
      "Collecting git+https://github.com/pquentin/eland.git@demo-notebook-colab\r\n",
      "  Cloning https://github.com/pquentin/eland.git (to revision demo-notebook-colab) to /tmp/pip-req-build-llaufivk\r\n",
      "  Running command git clone --filter=blob:none --quiet https://github.com/pquentin/eland.git /tmp/pip-req-build-llaufivk\r\n",
      "  Running command git checkout -b demo-notebook-colab --track origin/demo-notebook-colab\r\n",
      "  Switched to a new branch 'demo-notebook-colab'\r\n",
      "  branch 'demo-notebook-colab' set up to track 'origin/demo-notebook-colab'.\r\n",
      "  Resolved https://github.com/pquentin/eland.git to commit a85c8debaf44833ea1e8eb0041cd654dc2029709\r\n",
      "  Preparing metadata (setup.py) ... \u001b[?25l-\b \bdone\r\n",
      "\u001b[?25hRequirement already satisfied: elasticsearch<9,>=8.3 in /home/q/src/eland/.nox/docs/lib/python3.10/site-packages (from eland==8.9.0) (8.9.0)\r\n",
      "Requirement already satisfied: pandas<2,>=1.5 in /home/q/src/eland/.nox/docs/lib64/python3.10/site-packages (from eland==8.9.0) (1.5.3)\r\n",
      "Requirement already satisfied: matplotlib>=3.6 in /home/q/src/eland/.nox/docs/lib64/python3.10/site-packages (from eland==8.9.0) (3.8.0)\r\n",
      "Requirement already satisfied: numpy<1.24,>=1.2.0 in /home/q/src/eland/.nox/docs/lib64/python3.10/site-packages (from eland==8.9.0) (1.23.5)\r\n",
      "Requirement already satisfied: elastic-transport<9,>=8 in /home/q/src/eland/.nox/docs/lib/python3.10/site-packages (from elasticsearch<9,>=8.3->eland==8.9.0) (8.4.0)\r\n",
      "Requirement already satisfied: contourpy>=1.0.1 in /home/q/src/eland/.nox/docs/lib64/python3.10/site-packages (from matplotlib>=3.6->eland==8.9.0) (1.1.1)\r\n",
      "Requirement already satisfied: cycler>=0.10 in /home/q/src/eland/.nox/docs/lib/python3.10/site-packages (from matplotlib>=3.6->eland==8.9.0) (0.11.0)\r\n",
      "Requirement already satisfied: fonttools>=4.22.0 in /home/q/src/eland/.nox/docs/lib64/python3.10/site-packages (from matplotlib>=3.6->eland==8.9.0) (4.42.1)\r\n",
      "Requirement already satisfied: kiwisolver>=1.0.1 in /home/q/src/eland/.nox/docs/lib64/python3.10/site-packages (from matplotlib>=3.6->eland==8.9.0) (1.4.5)\r\n",
      "Requirement already satisfied: packaging>=20.0 in /home/q/src/eland/.nox/docs/lib/python3.10/site-packages (from matplotlib>=3.6->eland==8.9.0) (23.1)\r\n",
      "Requirement already satisfied: pillow>=6.2.0 in /home/q/src/eland/.nox/docs/lib64/python3.10/site-packages (from matplotlib>=3.6->eland==8.9.0) (10.0.1)\r\n",
      "Requirement already satisfied: pyparsing>=2.3.1 in /home/q/src/eland/.nox/docs/lib/python3.10/site-packages (from matplotlib>=3.6->eland==8.9.0) (3.1.1)\r\n",
      "Requirement already satisfied: python-dateutil>=2.7 in /home/q/src/eland/.nox/docs/lib/python3.10/site-packages (from matplotlib>=3.6->eland==8.9.0) (2.8.2)\r\n",
      "Requirement already satisfied: pytz>=2020.1 in /home/q/src/eland/.nox/docs/lib/python3.10/site-packages (from pandas<2,>=1.5->eland==8.9.0) (2023.3.post1)\r\n",
      "Requirement already satisfied: urllib3<2,>=1.26.2 in /home/q/src/eland/.nox/docs/lib/python3.10/site-packages (from elastic-transport<9,>=8->elasticsearch<9,>=8.3->eland==8.9.0) (1.26.16)\r\n",
      "Requirement already satisfied: certifi in /home/q/src/eland/.nox/docs/lib/python3.10/site-packages (from elastic-transport<9,>=8->elasticsearch<9,>=8.3->eland==8.9.0) (2023.7.22)\r\n",
      "Requirement already satisfied: six>=1.5 in /home/q/src/eland/.nox/docs/lib/python3.10/site-packages (from python-dateutil>=2.7->matplotlib>=3.6->eland==8.9.0) (1.16.0)\r\n"
     ]
    }
   ],
   "source": [
    "# TODO switch to !pip install eland before merging\n",
    "!pip install git+https://github.com/pquentin/eland.git@demo-notebook-colab\n",
    "\n",
    "import os\n",
    "\n",
    "import eland as ed\n",
    "import pandas as pd\n",
    "import numpy as np\n",
    "import matplotlib.pyplot as plt\n",
    "import requests\n",
    "\n",
    "from elasticsearch import Elasticsearch\n",
    "\n",
    "# Import standard test settings for consistent results\n",
    "from eland.conftest import *"
   ]
  },
  {
   "cell_type": "code",
   "execution_count": 1,
   "metadata": {
    "execution": {
     "iopub.execute_input": "2021-12-15T20:24:28.813370Z",
     "iopub.status.busy": "2021-12-15T20:24:28.802670Z",
     "iopub.status.idle": "2021-12-15T20:24:30.192643Z",
     "shell.execute_reply": "2021-12-15T20:24:30.192931Z"
    },
    "id": "64Wm8FvSNRFD",
    "pycharm": {
     "is_executing": false
    }
   },
   "outputs": [],
   "source": []
  },
  {
   "cell_type": "markdown",
   "metadata": {
    "id": "J9YR-d7OOk0-"
   },
   "source": [
    "## Initialize client 🔌\n",
    "\n",
    "Next we input credentials with `getpass`. `getpass` is part of the Python standard library and is used to securely prompt for credentials."
   ]
  },
  {
   "cell_type": "code",
   "execution_count": 2,
   "metadata": {
    "colab": {
     "base_uri": "https://localhost:8080/"
    },
    "execution": {
     "iopub.execute_input": "2023-09-20T14:01:59.380866Z",
     "iopub.status.busy": "2023-09-20T14:01:59.380551Z",
     "iopub.status.idle": "2023-09-20T14:01:59.397932Z",
     "shell.execute_reply": "2023-09-20T14:01:59.397250Z"
    },
    "id": "DARo7JpKOsdW",
    "outputId": "ccefe4c6-04ee-4119-db3e-a1e14613d856"
   },
   "outputs": [
    {
     "name": "stdout",
     "output_type": "stream",
     "text": [
      "Connected to cluster named 'docker-cluster' (version: 8.10.1)\n"
     ]
    }
   ],
   "source": [
    "from getpass import getpass\n",
    "\n",
    "if os.environ.get(\"DOCS_BUILD\"):\n",
    "  # Building the docs relies on a local cluster\n",
    "  es_kwargs = {\"hosts\": \"http://localhost:9200\"}\n",
    "else:\n",
    "  cloud_id = getpass(\"Elastic Cloud ID: \")\n",
    "  username = getpass(\"Elastic username: \")\n",
    "  password = getpass(\"Elastic password: \")\n",
    "  es_kwargs = {\n",
    "      \"cloud_id\": cloud_id,\n",
    "      \"basic_auth\": (username, password)\n",
    "  }\n",
    "\n",
    "es = Elasticsearch(**es_kwargs)\n",
    "es_info = es.info()\n",
    "print(f\"Connected to cluster named '{es_info['cluster_name']}' (version: {es_info['version']['number']})\")\n"
   ]
  },
  {
   "cell_type": "markdown",
   "metadata": {
    "id": "4m9amNr6OxKr"
   },
   "source": [
    "## Load and process documents 📄\n",
    "\n",
    "Time to load some data! We'll be using the Eland test data, which is a fake flights dataset."
   ]
  },
  {
   "cell_type": "code",
   "execution_count": 3,
   "metadata": {
    "colab": {
     "base_uri": "https://localhost:8080/"
    },
    "execution": {
     "iopub.execute_input": "2023-09-20T14:01:59.401801Z",
     "iopub.status.busy": "2023-09-20T14:01:59.401349Z",
     "iopub.status.idle": "2023-09-20T14:01:59.406495Z",
     "shell.execute_reply": "2023-09-20T14:01:59.405603Z"
    },
    "id": "UXLIpuFTO8pq",
    "outputId": "07b273cc-fed1-4705-eb5a-c66bcd68a266"
   },
   "outputs": [],
   "source": [
    "import tempfile\n",
    "\n",
    "from eland import pandas_to_es\n",
    "from eland import dataload\n",
    "\n",
    "if not os.environ.get(\"DOCS_BUILD\"):\n",
    "  with tempfile.TemporaryDirectory() as tmpdir:\n",
    "    r = requests.get(\"https://github.com/elastic/eland/raw/main/tests/flights.json.gz\")\n",
    "    path = os.path.join(tmpdir, \"flights.json.gz\")\n",
    "    with open(path, \"wb\") as f:\n",
    "      f.write(r.content)\n",
    "\n",
    "    df = pd.read_json(path, lines=True)\n",
    "    pandas_to_es(df, es, dataload.FLIGHTS_INDEX_NAME, dataload.FLIGHTS_MAPPING)"
   ]
  },
  {
   "cell_type": "markdown",
   "metadata": {
    "id": "c3Af_LIiNRFE"
   },
   "source": [
    "## Compare Eland DataFrame vs pandas DataFrame"
   ]
  },
  {
   "cell_type": "markdown",
   "metadata": {
    "id": "bNs9FbAgNRFE"
   },
   "source": [
    "Create an eland.DataFrame from a `flights` index"
   ]
  },
  {
   "cell_type": "code",
   "execution_count": 4,
   "metadata": {
    "execution": {
     "iopub.execute_input": "2023-09-20T14:01:59.411859Z",
     "iopub.status.busy": "2023-09-20T14:01:59.411377Z",
     "iopub.status.idle": "2023-09-20T14:01:59.444878Z",
     "shell.execute_reply": "2023-09-20T14:01:59.444057Z"
    },
    "id": "7_rgLmsLNRFF",
    "pycharm": {
     "is_executing": false
    }
   },
   "outputs": [],
   "source": [
    "ed_flights = ed.DataFrame(es, 'flights')"
   ]
  },
  {
   "cell_type": "code",
   "execution_count": 5,
   "metadata": {
    "colab": {
     "base_uri": "https://localhost:8080/"
    },
    "execution": {
     "iopub.execute_input": "2023-09-20T14:01:59.450189Z",
     "iopub.status.busy": "2023-09-20T14:01:59.448553Z",
     "iopub.status.idle": "2023-09-20T14:01:59.462517Z",
     "shell.execute_reply": "2023-09-20T14:01:59.461836Z"
    },
    "id": "ickl9aGUNRFH",
    "outputId": "0e458e62-44ef-41cd-cad3-70db542a8748",
    "pycharm": {
     "is_executing": false
    }
   },
   "outputs": [
    {
     "data": {
      "text/plain": [
       "eland.dataframe.DataFrame"
      ]
     },
     "execution_count": 5,
     "metadata": {},
     "output_type": "execute_result"
    }
   ],
   "source": [
    "type(ed_flights)"
   ]
  },
  {
   "cell_type": "markdown",
   "metadata": {
    "id": "8Y39fj7rNRFI"
   },
   "source": [
    "Compare to pandas DataFrame (created from the same data)"
   ]
  },
  {
   "cell_type": "code",
   "execution_count": 6,
   "metadata": {
    "execution": {
     "iopub.execute_input": "2023-09-20T14:01:59.465886Z",
     "iopub.status.busy": "2023-09-20T14:01:59.465420Z",
     "iopub.status.idle": "2023-09-20T14:02:02.585850Z",
     "shell.execute_reply": "2023-09-20T14:02:02.584124Z"
    },
    "id": "Qxz7lZ7zNRFI",
    "pycharm": {
     "is_executing": false
    }
   },
   "outputs": [],
   "source": [
    "pd_flights = ed.eland_to_pandas(ed_flights)"
   ]
  },
  {
   "cell_type": "code",
   "execution_count": 7,
   "metadata": {
    "colab": {
     "base_uri": "https://localhost:8080/"
    },
    "execution": {
     "iopub.execute_input": "2023-09-20T14:02:02.591812Z",
     "iopub.status.busy": "2023-09-20T14:02:02.591594Z",
     "iopub.status.idle": "2023-09-20T14:02:02.596770Z",
     "shell.execute_reply": "2023-09-20T14:02:02.596036Z"
    },
    "id": "0f9qCkT3NRFJ",
    "outputId": "1fa758e8-b5c9-4015-fbe8-95062e667ebd",
    "pycharm": {
     "is_executing": false
    }
   },
   "outputs": [
    {
     "data": {
      "text/plain": [
       "pandas.core.frame.DataFrame"
      ]
     },
     "execution_count": 7,
     "metadata": {},
     "output_type": "execute_result"
    }
   ],
   "source": [
    "type(pd_flights)"
   ]
  },
  {
   "cell_type": "markdown",
   "metadata": {
    "id": "idu_eqdsNRFK"
   },
   "source": [
    "## Attributes and underlying data"
   ]
  },
  {
   "cell_type": "markdown",
   "metadata": {
    "id": "bltr_0r-NRFL"
   },
   "source": [
    "### DataFrame.columns"
   ]
  },
  {
   "cell_type": "code",
   "execution_count": 8,
   "metadata": {
    "colab": {
     "base_uri": "https://localhost:8080/"
    },
    "execution": {
     "iopub.execute_input": "2023-09-20T14:02:02.601035Z",
     "iopub.status.busy": "2023-09-20T14:02:02.600287Z",
     "iopub.status.idle": "2023-09-20T14:02:02.608615Z",
     "shell.execute_reply": "2023-09-20T14:02:02.607941Z"
    },
    "id": "ZLVUimn_NRFL",
    "outputId": "5ca55025-05e4-474f-9aed-6e9148492a12",
    "pycharm": {
     "is_executing": false
    }
   },
   "outputs": [
    {
     "data": {
      "text/plain": [
       "Index(['AvgTicketPrice', 'Cancelled', 'Carrier', 'Dest', 'DestAirportID', 'DestCityName',\n",
       "       'DestCountry', 'DestLocation', 'DestRegion', 'DestWeather', 'DistanceKilometers',\n",
       "       'DistanceMiles', 'FlightDelay', 'FlightDelayMin', 'FlightDelayType', 'FlightNum',\n",
       "       'FlightTimeHour', 'FlightTimeMin', 'Origin', 'OriginAirportID', 'OriginCityName',\n",
       "       'OriginCountry', 'OriginLocation', 'OriginRegion', 'OriginWeather', 'dayOfWeek',\n",
       "       'timestamp'],\n",
       "      dtype='object')"
      ]
     },
     "execution_count": 8,
     "metadata": {},
     "output_type": "execute_result"
    }
   ],
   "source": [
    "pd_flights.columns"
   ]
  },
  {
   "cell_type": "code",
   "execution_count": 9,
   "metadata": {
    "colab": {
     "base_uri": "https://localhost:8080/"
    },
    "execution": {
     "iopub.execute_input": "2023-09-20T14:02:02.611587Z",
     "iopub.status.busy": "2023-09-20T14:02:02.611332Z",
     "iopub.status.idle": "2023-09-20T14:02:02.617698Z",
     "shell.execute_reply": "2023-09-20T14:02:02.616584Z"
    },
    "id": "UcFhMhhFNRFM",
    "outputId": "5c2c2e40-8d1a-4f2f-b960-66cc50310802",
    "pycharm": {
     "is_executing": false
    }
   },
   "outputs": [
    {
     "data": {
      "text/plain": [
       "Index(['AvgTicketPrice', 'Cancelled', 'Carrier', 'Dest', 'DestAirportID', 'DestCityName',\n",
       "       'DestCountry', 'DestLocation', 'DestRegion', 'DestWeather', 'DistanceKilometers',\n",
       "       'DistanceMiles', 'FlightDelay', 'FlightDelayMin', 'FlightDelayType', 'FlightNum',\n",
       "       'FlightTimeHour', 'FlightTimeMin', 'Origin', 'OriginAirportID', 'OriginCityName',\n",
       "       'OriginCountry', 'OriginLocation', 'OriginRegion', 'OriginWeather', 'dayOfWeek',\n",
       "       'timestamp'],\n",
       "      dtype='object')"
      ]
     },
     "execution_count": 9,
     "metadata": {},
     "output_type": "execute_result"
    }
   ],
   "source": [
    "ed_flights.columns"
   ]
  },
  {
   "cell_type": "markdown",
   "metadata": {
    "id": "NPoDKfjYNRFM"
   },
   "source": [
    "### DataFrame.dtypes"
   ]
  },
  {
   "cell_type": "code",
   "execution_count": 10,
   "metadata": {
    "colab": {
     "base_uri": "https://localhost:8080/"
    },
    "execution": {
     "iopub.execute_input": "2023-09-20T14:02:02.623836Z",
     "iopub.status.busy": "2023-09-20T14:02:02.623573Z",
     "iopub.status.idle": "2023-09-20T14:02:02.630161Z",
     "shell.execute_reply": "2023-09-20T14:02:02.629490Z"
    },
    "id": "b0Xh8p_nNRFN",
    "outputId": "6650ded2-9c3c-4072-e8c0-a7304723d3c2",
    "pycharm": {
     "is_executing": false
    }
   },
   "outputs": [
    {
     "data": {
      "text/plain": [
       "AvgTicketPrice           float64\n",
       "Cancelled                   bool\n",
       "Carrier                   object\n",
       "Dest                      object\n",
       "DestAirportID             object\n",
       "                       ...      \n",
       "OriginLocation            object\n",
       "OriginRegion              object\n",
       "OriginWeather             object\n",
       "dayOfWeek                  int64\n",
       "timestamp         datetime64[ns]\n",
       "Length: 27, dtype: object"
      ]
     },
     "execution_count": 10,
     "metadata": {},
     "output_type": "execute_result"
    }
   ],
   "source": [
    "pd_flights.dtypes"
   ]
  },
  {
   "cell_type": "code",
   "execution_count": 11,
   "metadata": {
    "colab": {
     "base_uri": "https://localhost:8080/"
    },
    "execution": {
     "iopub.execute_input": "2023-09-20T14:02:02.633854Z",
     "iopub.status.busy": "2023-09-20T14:02:02.633244Z",
     "iopub.status.idle": "2023-09-20T14:02:02.643532Z",
     "shell.execute_reply": "2023-09-20T14:02:02.642885Z"
    },
    "id": "IrDE-STnNRFN",
    "outputId": "8b892450-e29e-483d-fd81-5dd07dcd6e33",
    "pycharm": {
     "is_executing": false
    }
   },
   "outputs": [
    {
     "data": {
      "text/plain": [
       "AvgTicketPrice           float64\n",
       "Cancelled                   bool\n",
       "Carrier                   object\n",
       "Dest                      object\n",
       "DestAirportID             object\n",
       "                       ...      \n",
       "OriginLocation            object\n",
       "OriginRegion              object\n",
       "OriginWeather             object\n",
       "dayOfWeek                  int64\n",
       "timestamp         datetime64[ns]\n",
       "Length: 27, dtype: object"
      ]
     },
     "execution_count": 11,
     "metadata": {},
     "output_type": "execute_result"
    }
   ],
   "source": [
    "ed_flights.dtypes"
   ]
  },
  {
   "cell_type": "markdown",
   "metadata": {
    "id": "b4KBN1iQNRFN"
   },
   "source": [
    "### DataFrame.select_dtypes"
   ]
  },
  {
   "cell_type": "code",
   "execution_count": 12,
   "metadata": {
    "colab": {
     "base_uri": "https://localhost:8080/",
     "height": 424
    },
    "execution": {
     "iopub.execute_input": "2023-09-20T14:02:02.647340Z",
     "iopub.status.busy": "2023-09-20T14:02:02.646872Z",
     "iopub.status.idle": "2023-09-20T14:02:02.688102Z",
     "shell.execute_reply": "2023-09-20T14:02:02.686306Z"
    },
    "id": "MOAMAU4DNRFO",
    "outputId": "e3f4f29b-e53f-454c-cc98-c80af327a66c",
    "pycharm": {
     "is_executing": false
    }
   },
   "outputs": [
    {
     "data": {
      "text/html": [
       "<div>\n",
       "<style scoped>\n",
       "    .dataframe tbody tr th:only-of-type {\n",
       "        vertical-align: middle;\n",
       "    }\n",
       "\n",
       "    .dataframe tbody tr th {\n",
       "        vertical-align: top;\n",
       "    }\n",
       "\n",
       "    .dataframe thead th {\n",
       "        text-align: right;\n",
       "    }\n",
       "</style>\n",
       "<table border=\"1\" class=\"dataframe\">\n",
       "  <thead>\n",
       "    <tr style=\"text-align: right;\">\n",
       "      <th></th>\n",
       "      <th>AvgTicketPrice</th>\n",
       "      <th>DistanceKilometers</th>\n",
       "      <th>...</th>\n",
       "      <th>FlightTimeMin</th>\n",
       "      <th>dayOfWeek</th>\n",
       "    </tr>\n",
       "  </thead>\n",
       "  <tbody>\n",
       "    <tr>\n",
       "      <th>0</th>\n",
       "      <td>841.265642</td>\n",
       "      <td>16492.326654</td>\n",
       "      <td>...</td>\n",
       "      <td>1030.770416</td>\n",
       "      <td>0</td>\n",
       "    </tr>\n",
       "    <tr>\n",
       "      <th>1</th>\n",
       "      <td>882.982662</td>\n",
       "      <td>8823.400140</td>\n",
       "      <td>...</td>\n",
       "      <td>464.389481</td>\n",
       "      <td>0</td>\n",
       "    </tr>\n",
       "    <tr>\n",
       "      <th>2</th>\n",
       "      <td>190.636904</td>\n",
       "      <td>0.000000</td>\n",
       "      <td>...</td>\n",
       "      <td>0.000000</td>\n",
       "      <td>0</td>\n",
       "    </tr>\n",
       "    <tr>\n",
       "      <th>3</th>\n",
       "      <td>181.694216</td>\n",
       "      <td>555.737767</td>\n",
       "      <td>...</td>\n",
       "      <td>222.749059</td>\n",
       "      <td>0</td>\n",
       "    </tr>\n",
       "    <tr>\n",
       "      <th>4</th>\n",
       "      <td>730.041778</td>\n",
       "      <td>13358.244200</td>\n",
       "      <td>...</td>\n",
       "      <td>785.779071</td>\n",
       "      <td>0</td>\n",
       "    </tr>\n",
       "    <tr>\n",
       "      <th>...</th>\n",
       "      <td>...</td>\n",
       "      <td>...</td>\n",
       "      <td>...</td>\n",
       "      <td>...</td>\n",
       "      <td>...</td>\n",
       "    </tr>\n",
       "    <tr>\n",
       "      <th>13054</th>\n",
       "      <td>1080.446279</td>\n",
       "      <td>8058.581753</td>\n",
       "      <td>...</td>\n",
       "      <td>402.929088</td>\n",
       "      <td>6</td>\n",
       "    </tr>\n",
       "    <tr>\n",
       "      <th>13055</th>\n",
       "      <td>646.612941</td>\n",
       "      <td>7088.598322</td>\n",
       "      <td>...</td>\n",
       "      <td>644.418029</td>\n",
       "      <td>6</td>\n",
       "    </tr>\n",
       "    <tr>\n",
       "      <th>13056</th>\n",
       "      <td>997.751876</td>\n",
       "      <td>10920.652972</td>\n",
       "      <td>...</td>\n",
       "      <td>937.540811</td>\n",
       "      <td>6</td>\n",
       "    </tr>\n",
       "    <tr>\n",
       "      <th>13057</th>\n",
       "      <td>1102.814465</td>\n",
       "      <td>18748.859647</td>\n",
       "      <td>...</td>\n",
       "      <td>1697.404971</td>\n",
       "      <td>6</td>\n",
       "    </tr>\n",
       "    <tr>\n",
       "      <th>13058</th>\n",
       "      <td>858.144337</td>\n",
       "      <td>16809.141923</td>\n",
       "      <td>...</td>\n",
       "      <td>1610.761827</td>\n",
       "      <td>6</td>\n",
       "    </tr>\n",
       "  </tbody>\n",
       "</table>\n",
       "<p>13059 rows × 7 columns</p>\n",
       "</div>"
      ],
      "text/plain": [
       "       AvgTicketPrice  DistanceKilometers  ...  FlightTimeMin  dayOfWeek\n",
       "0          841.265642        16492.326654  ...    1030.770416          0\n",
       "1          882.982662         8823.400140  ...     464.389481          0\n",
       "2          190.636904            0.000000  ...       0.000000          0\n",
       "3          181.694216          555.737767  ...     222.749059          0\n",
       "4          730.041778        13358.244200  ...     785.779071          0\n",
       "...               ...                 ...  ...            ...        ...\n",
       "13054     1080.446279         8058.581753  ...     402.929088          6\n",
       "13055      646.612941         7088.598322  ...     644.418029          6\n",
       "13056      997.751876        10920.652972  ...     937.540811          6\n",
       "13057     1102.814465        18748.859647  ...    1697.404971          6\n",
       "13058      858.144337        16809.141923  ...    1610.761827          6\n",
       "\n",
       "[13059 rows x 7 columns]"
      ]
     },
     "execution_count": 12,
     "metadata": {},
     "output_type": "execute_result"
    }
   ],
   "source": [
    "pd_flights.select_dtypes(include=np.number)"
   ]
  },
  {
   "cell_type": "code",
   "execution_count": 13,
   "metadata": {
    "colab": {
     "base_uri": "https://localhost:8080/",
     "height": 424
    },
    "execution": {
     "iopub.execute_input": "2023-09-20T14:02:02.691981Z",
     "iopub.status.busy": "2023-09-20T14:02:02.691560Z",
     "iopub.status.idle": "2023-09-20T14:02:03.529026Z",
     "shell.execute_reply": "2023-09-20T14:02:03.528234Z"
    },
    "id": "QyaBzEf-NRFO",
    "outputId": "89f85e32-b4ec-47d3-9c9d-77354c3bdfb9",
    "pycharm": {
     "is_executing": false
    }
   },
   "outputs": [
    {
     "data": {
      "text/html": [
       "<div>\n",
       "<style scoped>\n",
       "    .dataframe tbody tr th:only-of-type {\n",
       "        vertical-align: middle;\n",
       "    }\n",
       "\n",
       "    .dataframe tbody tr th {\n",
       "        vertical-align: top;\n",
       "    }\n",
       "\n",
       "    .dataframe thead th {\n",
       "        text-align: right;\n",
       "    }\n",
       "</style>\n",
       "<table border=\"1\" class=\"dataframe\">\n",
       "  <thead>\n",
       "    <tr style=\"text-align: right;\">\n",
       "      <th></th>\n",
       "      <th>AvgTicketPrice</th>\n",
       "      <th>DistanceKilometers</th>\n",
       "      <th>...</th>\n",
       "      <th>FlightTimeMin</th>\n",
       "      <th>dayOfWeek</th>\n",
       "    </tr>\n",
       "  </thead>\n",
       "  <tbody>\n",
       "    <tr>\n",
       "      <th>0</th>\n",
       "      <td>841.265642</td>\n",
       "      <td>16492.326654</td>\n",
       "      <td>...</td>\n",
       "      <td>1030.770416</td>\n",
       "      <td>0</td>\n",
       "    </tr>\n",
       "    <tr>\n",
       "      <th>1</th>\n",
       "      <td>882.982662</td>\n",
       "      <td>8823.400140</td>\n",
       "      <td>...</td>\n",
       "      <td>464.389481</td>\n",
       "      <td>0</td>\n",
       "    </tr>\n",
       "    <tr>\n",
       "      <th>2</th>\n",
       "      <td>190.636904</td>\n",
       "      <td>0.000000</td>\n",
       "      <td>...</td>\n",
       "      <td>0.000000</td>\n",
       "      <td>0</td>\n",
       "    </tr>\n",
       "    <tr>\n",
       "      <th>3</th>\n",
       "      <td>181.694216</td>\n",
       "      <td>555.737767</td>\n",
       "      <td>...</td>\n",
       "      <td>222.749059</td>\n",
       "      <td>0</td>\n",
       "    </tr>\n",
       "    <tr>\n",
       "      <th>4</th>\n",
       "      <td>730.041778</td>\n",
       "      <td>13358.244200</td>\n",
       "      <td>...</td>\n",
       "      <td>785.779071</td>\n",
       "      <td>0</td>\n",
       "    </tr>\n",
       "    <tr>\n",
       "      <th>...</th>\n",
       "      <td>...</td>\n",
       "      <td>...</td>\n",
       "      <td>...</td>\n",
       "      <td>...</td>\n",
       "      <td>...</td>\n",
       "    </tr>\n",
       "    <tr>\n",
       "      <th>13054</th>\n",
       "      <td>1080.446279</td>\n",
       "      <td>8058.581753</td>\n",
       "      <td>...</td>\n",
       "      <td>402.929088</td>\n",
       "      <td>6</td>\n",
       "    </tr>\n",
       "    <tr>\n",
       "      <th>13055</th>\n",
       "      <td>646.612941</td>\n",
       "      <td>7088.598322</td>\n",
       "      <td>...</td>\n",
       "      <td>644.418029</td>\n",
       "      <td>6</td>\n",
       "    </tr>\n",
       "    <tr>\n",
       "      <th>13056</th>\n",
       "      <td>997.751876</td>\n",
       "      <td>10920.652972</td>\n",
       "      <td>...</td>\n",
       "      <td>937.540811</td>\n",
       "      <td>6</td>\n",
       "    </tr>\n",
       "    <tr>\n",
       "      <th>13057</th>\n",
       "      <td>1102.814465</td>\n",
       "      <td>18748.859647</td>\n",
       "      <td>...</td>\n",
       "      <td>1697.404971</td>\n",
       "      <td>6</td>\n",
       "    </tr>\n",
       "    <tr>\n",
       "      <th>13058</th>\n",
       "      <td>858.144337</td>\n",
       "      <td>16809.141923</td>\n",
       "      <td>...</td>\n",
       "      <td>1610.761827</td>\n",
       "      <td>6</td>\n",
       "    </tr>\n",
       "  </tbody>\n",
       "</table>\n",
       "</div>\n",
       "<p>13059 rows × 7 columns</p>"
      ],
      "text/plain": [
       "       AvgTicketPrice  DistanceKilometers  ...  FlightTimeMin  dayOfWeek\n",
       "0          841.265642        16492.326654  ...    1030.770416          0\n",
       "1          882.982662         8823.400140  ...     464.389481          0\n",
       "2          190.636904            0.000000  ...       0.000000          0\n",
       "3          181.694216          555.737767  ...     222.749059          0\n",
       "4          730.041778        13358.244200  ...     785.779071          0\n",
       "...               ...                 ...  ...            ...        ...\n",
       "13054     1080.446279         8058.581753  ...     402.929088          6\n",
       "13055      646.612941         7088.598322  ...     644.418029          6\n",
       "13056      997.751876        10920.652972  ...     937.540811          6\n",
       "13057     1102.814465        18748.859647  ...    1697.404971          6\n",
       "13058      858.144337        16809.141923  ...    1610.761827          6\n",
       "\n",
       "[13059 rows x 7 columns]"
      ]
     },
     "execution_count": 13,
     "metadata": {},
     "output_type": "execute_result"
    }
   ],
   "source": [
    "ed_flights.select_dtypes(include=np.number)"
   ]
  },
  {
   "cell_type": "markdown",
   "metadata": {
    "id": "E9hPiMkPNRFP"
   },
   "source": [
    "### DataFrame.empty"
   ]
  },
  {
   "cell_type": "code",
   "execution_count": 14,
   "metadata": {
    "colab": {
     "base_uri": "https://localhost:8080/"
    },
    "execution": {
     "iopub.execute_input": "2023-09-20T14:02:03.533203Z",
     "iopub.status.busy": "2023-09-20T14:02:03.532903Z",
     "iopub.status.idle": "2023-09-20T14:02:03.540881Z",
     "shell.execute_reply": "2023-09-20T14:02:03.540332Z"
    },
    "id": "fLMm3FGpNRFP",
    "outputId": "c626a9cf-abfa-47a3-da75-c51a974d289e",
    "pycharm": {
     "is_executing": false
    }
   },
   "outputs": [
    {
     "data": {
      "text/plain": [
       "False"
      ]
     },
     "execution_count": 14,
     "metadata": {},
     "output_type": "execute_result"
    }
   ],
   "source": [
    "pd_flights.empty"
   ]
  },
  {
   "cell_type": "code",
   "execution_count": 15,
   "metadata": {
    "colab": {
     "base_uri": "https://localhost:8080/"
    },
    "execution": {
     "iopub.execute_input": "2023-09-20T14:02:03.543691Z",
     "iopub.status.busy": "2023-09-20T14:02:03.543514Z",
     "iopub.status.idle": "2023-09-20T14:02:03.557762Z",
     "shell.execute_reply": "2023-09-20T14:02:03.557172Z"
    },
    "id": "cdaA4nkdNRFP",
    "outputId": "10e9f655-c5a5-400b-9bdd-cbc697f8f325",
    "pycharm": {
     "is_executing": false
    }
   },
   "outputs": [
    {
     "data": {
      "text/plain": [
       "False"
      ]
     },
     "execution_count": 15,
     "metadata": {},
     "output_type": "execute_result"
    }
   ],
   "source": [
    "ed_flights.empty"
   ]
  },
  {
   "cell_type": "markdown",
   "metadata": {
    "id": "oV6j_h4INRFR"
   },
   "source": [
    "### DataFrame.shape"
   ]
  },
  {
   "cell_type": "code",
   "execution_count": 16,
   "metadata": {
    "colab": {
     "base_uri": "https://localhost:8080/"
    },
    "execution": {
     "iopub.execute_input": "2023-09-20T14:02:03.560857Z",
     "iopub.status.busy": "2023-09-20T14:02:03.560679Z",
     "iopub.status.idle": "2023-09-20T14:02:03.565569Z",
     "shell.execute_reply": "2023-09-20T14:02:03.564918Z"
    },
    "id": "HSlyhmmwNRFR",
    "outputId": "a8fb77b7-2d4a-4769-e0e9-038b75dd0d26",
    "pycharm": {
     "is_executing": false
    }
   },
   "outputs": [
    {
     "data": {
      "text/plain": [
       "(13059, 27)"
      ]
     },
     "execution_count": 16,
     "metadata": {},
     "output_type": "execute_result"
    }
   ],
   "source": [
    "pd_flights.shape"
   ]
  },
  {
   "cell_type": "code",
   "execution_count": 17,
   "metadata": {
    "colab": {
     "base_uri": "https://localhost:8080/"
    },
    "execution": {
     "iopub.execute_input": "2023-09-20T14:02:03.572423Z",
     "iopub.status.busy": "2023-09-20T14:02:03.571564Z",
     "iopub.status.idle": "2023-09-20T14:02:03.580744Z",
     "shell.execute_reply": "2023-09-20T14:02:03.579987Z"
    },
    "id": "n7NFeQR6NRFR",
    "outputId": "c8a521bb-778c-4860-f18e-fe5374df14a4",
    "pycharm": {
     "is_executing": false
    }
   },
   "outputs": [
    {
     "data": {
      "text/plain": [
       "(13059, 27)"
      ]
     },
     "execution_count": 17,
     "metadata": {},
     "output_type": "execute_result"
    }
   ],
   "source": [
    "ed_flights.shape"
   ]
  },
  {
   "cell_type": "markdown",
   "metadata": {
    "id": "ib-JYdwXNRFS"
   },
   "source": [
    "### DataFrame.index\n",
    "\n",
    "Note, `eland.DataFrame.index` does not mirror `pandas.DataFrame.index`."
   ]
  },
  {
   "cell_type": "code",
   "execution_count": 18,
   "metadata": {
    "colab": {
     "base_uri": "https://localhost:8080/"
    },
    "execution": {
     "iopub.execute_input": "2023-09-20T14:02:03.585145Z",
     "iopub.status.busy": "2023-09-20T14:02:03.584210Z",
     "iopub.status.idle": "2023-09-20T14:02:03.593063Z",
     "shell.execute_reply": "2023-09-20T14:02:03.592439Z"
    },
    "id": "mTSyzPSgNRFS",
    "outputId": "d5387124-7c52-4dc8-9d7d-c9afcdcb5945",
    "pycharm": {
     "is_executing": false
    }
   },
   "outputs": [
    {
     "data": {
      "text/plain": [
       "Index(['0', '1', '2', '3', '4', '5', '6', '7', '8', '9',\n",
       "       ...\n",
       "       '13049', '13050', '13051', '13052', '13053', '13054', '13055', '13056', '13057', '13058'],\n",
       "      dtype='object', length=13059)"
      ]
     },
     "execution_count": 18,
     "metadata": {},
     "output_type": "execute_result"
    }
   ],
   "source": [
    "pd_flights.index"
   ]
  },
  {
   "cell_type": "code",
   "execution_count": 19,
   "metadata": {
    "colab": {
     "base_uri": "https://localhost:8080/"
    },
    "execution": {
     "iopub.execute_input": "2023-09-20T14:02:03.596514Z",
     "iopub.status.busy": "2023-09-20T14:02:03.596040Z",
     "iopub.status.idle": "2023-09-20T14:02:03.601113Z",
     "shell.execute_reply": "2023-09-20T14:02:03.600301Z"
    },
    "id": "puus-Fk7NRFS",
    "outputId": "171280c9-b968-45d5-b436-b391187de90f",
    "pycharm": {
     "is_executing": false
    }
   },
   "outputs": [
    {
     "data": {
      "text/plain": [
       "<eland.index.Index at 0x7f1bfc2edab0>"
      ]
     },
     "execution_count": 19,
     "metadata": {},
     "output_type": "execute_result"
    }
   ],
   "source": [
    "# NBVAL_IGNORE_OUTPUT\n",
    "ed_flights.index"
   ]
  },
  {
   "cell_type": "code",
   "execution_count": 20,
   "metadata": {
    "colab": {
     "base_uri": "https://localhost:8080/",
     "height": 35
    },
    "execution": {
     "iopub.execute_input": "2023-09-20T14:02:03.607724Z",
     "iopub.status.busy": "2023-09-20T14:02:03.607226Z",
     "iopub.status.idle": "2023-09-20T14:02:03.611475Z",
     "shell.execute_reply": "2023-09-20T14:02:03.610947Z"
    },
    "id": "rvJ41P0BNRFT",
    "outputId": "f38536f5-dd9e-4c4a-a34f-a23b2b0ac14e",
    "pycharm": {
     "is_executing": false
    }
   },
   "outputs": [
    {
     "data": {
      "text/plain": [
       "'_id'"
      ]
     },
     "execution_count": 20,
     "metadata": {},
     "output_type": "execute_result"
    }
   ],
   "source": [
    "ed_flights.index.es_index_field"
   ]
  },
  {
   "cell_type": "markdown",
   "metadata": {
    "id": "5JA3HKJgNRFT"
   },
   "source": [
    "### DataFrame.values\n",
    "\n",
    "Note, `eland.DataFrame.values` is not supported."
   ]
  },
  {
   "cell_type": "code",
   "execution_count": 21,
   "metadata": {
    "colab": {
     "base_uri": "https://localhost:8080/"
    },
    "execution": {
     "iopub.execute_input": "2023-09-20T14:02:03.614715Z",
     "iopub.status.busy": "2023-09-20T14:02:03.614529Z",
     "iopub.status.idle": "2023-09-20T14:02:03.696405Z",
     "shell.execute_reply": "2023-09-20T14:02:03.695516Z"
    },
    "id": "oZYSyigXNRFU",
    "outputId": "e7f2295c-1b7c-4640-9b50-b12af290a15a",
    "pycharm": {
     "is_executing": false
    }
   },
   "outputs": [
    {
     "data": {
      "text/plain": [
       "array([[841.2656419677076, False, 'Kibana Airlines', ..., 'Sunny', 0,\n",
       "        Timestamp('2018-01-01 00:00:00')],\n",
       "       [882.9826615595518, False, 'Logstash Airways', ..., 'Clear', 0,\n",
       "        Timestamp('2018-01-01 18:27:00')],\n",
       "       [190.6369038508356, False, 'Logstash Airways', ..., 'Rain', 0,\n",
       "        Timestamp('2018-01-01 17:11:14')],\n",
       "       ...,\n",
       "       [997.7518761454494, False, 'Logstash Airways', ..., 'Sunny', 6,\n",
       "        Timestamp('2018-02-11 04:09:27')],\n",
       "       [1102.8144645388556, False, 'JetBeats', ..., 'Hail', 6,\n",
       "        Timestamp('2018-02-11 08:28:21')],\n",
       "       [858.1443369038839, False, 'JetBeats', ..., 'Rain', 6,\n",
       "        Timestamp('2018-02-11 14:54:34')]], dtype=object)"
      ]
     },
     "execution_count": 21,
     "metadata": {},
     "output_type": "execute_result"
    }
   ],
   "source": [
    "pd_flights.values"
   ]
  },
  {
   "cell_type": "code",
   "execution_count": 22,
   "metadata": {
    "colab": {
     "base_uri": "https://localhost:8080/"
    },
    "execution": {
     "iopub.execute_input": "2023-09-20T14:02:03.701252Z",
     "iopub.status.busy": "2023-09-20T14:02:03.700700Z",
     "iopub.status.idle": "2023-09-20T14:02:03.709077Z",
     "shell.execute_reply": "2023-09-20T14:02:03.708370Z"
    },
    "id": "gQTQLsmWNRFU",
    "outputId": "aedd4d28-a8e8-4790-9cd5-8357742c94c6",
    "pycharm": {
     "is_executing": false
    }
   },
   "outputs": [
    {
     "name": "stdout",
     "output_type": "stream",
     "text": [
      "This method would scan/scroll the entire Elasticsearch index(s) into memory. If this is explicitly required, and there is sufficient memory, call `ed.eland_to_pandas(ed_df).values`\n"
     ]
    }
   ],
   "source": [
    "try:\n",
    "    ed_flights.values\n",
    "except AttributeError as e:\n",
    "    print(e)"
   ]
  },
  {
   "cell_type": "markdown",
   "metadata": {
    "id": "lKqYv_fTNRFV"
   },
   "source": [
    "## Indexing, iteration"
   ]
  },
  {
   "cell_type": "markdown",
   "metadata": {
    "id": "_RlN4vASNRFV"
   },
   "source": [
    "### DataFrame.head"
   ]
  },
  {
   "cell_type": "code",
   "execution_count": 23,
   "metadata": {
    "colab": {
     "base_uri": "https://localhost:8080/",
     "height": 236
    },
    "execution": {
     "iopub.execute_input": "2023-09-20T14:02:03.712534Z",
     "iopub.status.busy": "2023-09-20T14:02:03.712189Z",
     "iopub.status.idle": "2023-09-20T14:02:03.727828Z",
     "shell.execute_reply": "2023-09-20T14:02:03.727260Z"
    },
    "id": "PnuvMIlMNRFV",
    "outputId": "919432a7-678e-4f1f-dfed-9c56fa24b444",
    "pycharm": {
     "is_executing": false
    }
   },
   "outputs": [
    {
     "data": {
      "text/html": [
       "<div>\n",
       "<style scoped>\n",
       "    .dataframe tbody tr th:only-of-type {\n",
       "        vertical-align: middle;\n",
       "    }\n",
       "\n",
       "    .dataframe tbody tr th {\n",
       "        vertical-align: top;\n",
       "    }\n",
       "\n",
       "    .dataframe thead th {\n",
       "        text-align: right;\n",
       "    }\n",
       "</style>\n",
       "<table border=\"1\" class=\"dataframe\">\n",
       "  <thead>\n",
       "    <tr style=\"text-align: right;\">\n",
       "      <th></th>\n",
       "      <th>AvgTicketPrice</th>\n",
       "      <th>Cancelled</th>\n",
       "      <th>...</th>\n",
       "      <th>dayOfWeek</th>\n",
       "      <th>timestamp</th>\n",
       "    </tr>\n",
       "  </thead>\n",
       "  <tbody>\n",
       "    <tr>\n",
       "      <th>0</th>\n",
       "      <td>841.265642</td>\n",
       "      <td>False</td>\n",
       "      <td>...</td>\n",
       "      <td>0</td>\n",
       "      <td>2018-01-01 00:00:00</td>\n",
       "    </tr>\n",
       "    <tr>\n",
       "      <th>1</th>\n",
       "      <td>882.982662</td>\n",
       "      <td>False</td>\n",
       "      <td>...</td>\n",
       "      <td>0</td>\n",
       "      <td>2018-01-01 18:27:00</td>\n",
       "    </tr>\n",
       "    <tr>\n",
       "      <th>2</th>\n",
       "      <td>190.636904</td>\n",
       "      <td>False</td>\n",
       "      <td>...</td>\n",
       "      <td>0</td>\n",
       "      <td>2018-01-01 17:11:14</td>\n",
       "    </tr>\n",
       "    <tr>\n",
       "      <th>3</th>\n",
       "      <td>181.694216</td>\n",
       "      <td>True</td>\n",
       "      <td>...</td>\n",
       "      <td>0</td>\n",
       "      <td>2018-01-01 10:33:28</td>\n",
       "    </tr>\n",
       "    <tr>\n",
       "      <th>4</th>\n",
       "      <td>730.041778</td>\n",
       "      <td>False</td>\n",
       "      <td>...</td>\n",
       "      <td>0</td>\n",
       "      <td>2018-01-01 05:13:00</td>\n",
       "    </tr>\n",
       "  </tbody>\n",
       "</table>\n",
       "<p>5 rows × 27 columns</p>\n",
       "</div>"
      ],
      "text/plain": [
       "   AvgTicketPrice  Cancelled  ... dayOfWeek           timestamp\n",
       "0      841.265642      False  ...         0 2018-01-01 00:00:00\n",
       "1      882.982662      False  ...         0 2018-01-01 18:27:00\n",
       "2      190.636904      False  ...         0 2018-01-01 17:11:14\n",
       "3      181.694216       True  ...         0 2018-01-01 10:33:28\n",
       "4      730.041778      False  ...         0 2018-01-01 05:13:00\n",
       "\n",
       "[5 rows x 27 columns]"
      ]
     },
     "execution_count": 23,
     "metadata": {},
     "output_type": "execute_result"
    }
   ],
   "source": [
    "pd_flights.head()"
   ]
  },
  {
   "cell_type": "code",
   "execution_count": 24,
   "metadata": {
    "colab": {
     "base_uri": "https://localhost:8080/",
     "height": 236
    },
    "execution": {
     "iopub.execute_input": "2023-09-20T14:02:03.731415Z",
     "iopub.status.busy": "2023-09-20T14:02:03.731018Z",
     "iopub.status.idle": "2023-09-20T14:02:04.261989Z",
     "shell.execute_reply": "2023-09-20T14:02:04.261400Z"
    },
    "id": "i1-efE1RNRFW",
    "outputId": "e90121ea-e212-49b2-b985-9c966029a934",
    "pycharm": {
     "is_executing": false
    }
   },
   "outputs": [
    {
     "data": {
      "text/html": [
       "<div>\n",
       "<style scoped>\n",
       "    .dataframe tbody tr th:only-of-type {\n",
       "        vertical-align: middle;\n",
       "    }\n",
       "\n",
       "    .dataframe tbody tr th {\n",
       "        vertical-align: top;\n",
       "    }\n",
       "\n",
       "    .dataframe thead th {\n",
       "        text-align: right;\n",
       "    }\n",
       "</style>\n",
       "<table border=\"1\" class=\"dataframe\">\n",
       "  <thead>\n",
       "    <tr style=\"text-align: right;\">\n",
       "      <th></th>\n",
       "      <th>AvgTicketPrice</th>\n",
       "      <th>Cancelled</th>\n",
       "      <th>...</th>\n",
       "      <th>dayOfWeek</th>\n",
       "      <th>timestamp</th>\n",
       "    </tr>\n",
       "  </thead>\n",
       "  <tbody>\n",
       "    <tr>\n",
       "      <th>0</th>\n",
       "      <td>841.265642</td>\n",
       "      <td>False</td>\n",
       "      <td>...</td>\n",
       "      <td>0</td>\n",
       "      <td>2018-01-01 00:00:00</td>\n",
       "    </tr>\n",
       "    <tr>\n",
       "      <th>1</th>\n",
       "      <td>882.982662</td>\n",
       "      <td>False</td>\n",
       "      <td>...</td>\n",
       "      <td>0</td>\n",
       "      <td>2018-01-01 18:27:00</td>\n",
       "    </tr>\n",
       "    <tr>\n",
       "      <th>2</th>\n",
       "      <td>190.636904</td>\n",
       "      <td>False</td>\n",
       "      <td>...</td>\n",
       "      <td>0</td>\n",
       "      <td>2018-01-01 17:11:14</td>\n",
       "    </tr>\n",
       "    <tr>\n",
       "      <th>3</th>\n",
       "      <td>181.694216</td>\n",
       "      <td>True</td>\n",
       "      <td>...</td>\n",
       "      <td>0</td>\n",
       "      <td>2018-01-01 10:33:28</td>\n",
       "    </tr>\n",
       "    <tr>\n",
       "      <th>4</th>\n",
       "      <td>730.041778</td>\n",
       "      <td>False</td>\n",
       "      <td>...</td>\n",
       "      <td>0</td>\n",
       "      <td>2018-01-01 05:13:00</td>\n",
       "    </tr>\n",
       "  </tbody>\n",
       "</table>\n",
       "</div>\n",
       "<p>5 rows × 27 columns</p>"
      ],
      "text/plain": [
       "   AvgTicketPrice  Cancelled  ... dayOfWeek           timestamp\n",
       "0      841.265642      False  ...         0 2018-01-01 00:00:00\n",
       "1      882.982662      False  ...         0 2018-01-01 18:27:00\n",
       "2      190.636904      False  ...         0 2018-01-01 17:11:14\n",
       "3      181.694216       True  ...         0 2018-01-01 10:33:28\n",
       "4      730.041778      False  ...         0 2018-01-01 05:13:00\n",
       "\n",
       "[5 rows x 27 columns]"
      ]
     },
     "execution_count": 24,
     "metadata": {},
     "output_type": "execute_result"
    }
   ],
   "source": [
    "ed_flights.head()"
   ]
  },
  {
   "cell_type": "markdown",
   "metadata": {
    "id": "55T-dd4ENRFW"
   },
   "source": [
    "### DataFrame.tail"
   ]
  },
  {
   "cell_type": "code",
   "execution_count": 25,
   "metadata": {
    "colab": {
     "base_uri": "https://localhost:8080/",
     "height": 236
    },
    "execution": {
     "iopub.execute_input": "2023-09-20T14:02:04.264387Z",
     "iopub.status.busy": "2023-09-20T14:02:04.264166Z",
     "iopub.status.idle": "2023-09-20T14:02:04.272053Z",
     "shell.execute_reply": "2023-09-20T14:02:04.271637Z"
    },
    "id": "MUKzwkRtNRFW",
    "outputId": "bc4747c7-343a-4aad-b184-5fb05bf0c448",
    "pycharm": {
     "is_executing": false
    }
   },
   "outputs": [
    {
     "data": {
      "text/html": [
       "<div>\n",
       "<style scoped>\n",
       "    .dataframe tbody tr th:only-of-type {\n",
       "        vertical-align: middle;\n",
       "    }\n",
       "\n",
       "    .dataframe tbody tr th {\n",
       "        vertical-align: top;\n",
       "    }\n",
       "\n",
       "    .dataframe thead th {\n",
       "        text-align: right;\n",
       "    }\n",
       "</style>\n",
       "<table border=\"1\" class=\"dataframe\">\n",
       "  <thead>\n",
       "    <tr style=\"text-align: right;\">\n",
       "      <th></th>\n",
       "      <th>AvgTicketPrice</th>\n",
       "      <th>Cancelled</th>\n",
       "      <th>...</th>\n",
       "      <th>dayOfWeek</th>\n",
       "      <th>timestamp</th>\n",
       "    </tr>\n",
       "  </thead>\n",
       "  <tbody>\n",
       "    <tr>\n",
       "      <th>13054</th>\n",
       "      <td>1080.446279</td>\n",
       "      <td>False</td>\n",
       "      <td>...</td>\n",
       "      <td>6</td>\n",
       "      <td>2018-02-11 20:42:25</td>\n",
       "    </tr>\n",
       "    <tr>\n",
       "      <th>13055</th>\n",
       "      <td>646.612941</td>\n",
       "      <td>False</td>\n",
       "      <td>...</td>\n",
       "      <td>6</td>\n",
       "      <td>2018-02-11 01:41:57</td>\n",
       "    </tr>\n",
       "    <tr>\n",
       "      <th>13056</th>\n",
       "      <td>997.751876</td>\n",
       "      <td>False</td>\n",
       "      <td>...</td>\n",
       "      <td>6</td>\n",
       "      <td>2018-02-11 04:09:27</td>\n",
       "    </tr>\n",
       "    <tr>\n",
       "      <th>13057</th>\n",
       "      <td>1102.814465</td>\n",
       "      <td>False</td>\n",
       "      <td>...</td>\n",
       "      <td>6</td>\n",
       "      <td>2018-02-11 08:28:21</td>\n",
       "    </tr>\n",
       "    <tr>\n",
       "      <th>13058</th>\n",
       "      <td>858.144337</td>\n",
       "      <td>False</td>\n",
       "      <td>...</td>\n",
       "      <td>6</td>\n",
       "      <td>2018-02-11 14:54:34</td>\n",
       "    </tr>\n",
       "  </tbody>\n",
       "</table>\n",
       "<p>5 rows × 27 columns</p>\n",
       "</div>"
      ],
      "text/plain": [
       "       AvgTicketPrice  Cancelled  ... dayOfWeek           timestamp\n",
       "13054     1080.446279      False  ...         6 2018-02-11 20:42:25\n",
       "13055      646.612941      False  ...         6 2018-02-11 01:41:57\n",
       "13056      997.751876      False  ...         6 2018-02-11 04:09:27\n",
       "13057     1102.814465      False  ...         6 2018-02-11 08:28:21\n",
       "13058      858.144337      False  ...         6 2018-02-11 14:54:34\n",
       "\n",
       "[5 rows x 27 columns]"
      ]
     },
     "execution_count": 25,
     "metadata": {},
     "output_type": "execute_result"
    }
   ],
   "source": [
    "pd_flights.tail()"
   ]
  },
  {
   "cell_type": "code",
   "execution_count": 26,
   "metadata": {
    "colab": {
     "base_uri": "https://localhost:8080/",
     "height": 236
    },
    "execution": {
     "iopub.execute_input": "2023-09-20T14:02:04.274163Z",
     "iopub.status.busy": "2023-09-20T14:02:04.274029Z",
     "iopub.status.idle": "2023-09-20T14:02:04.660375Z",
     "shell.execute_reply": "2023-09-20T14:02:04.659943Z"
    },
    "id": "wnFnjtDGNRFW",
    "outputId": "f98da49c-a6ac-46b0-9873-23d5400e8e14",
    "pycharm": {
     "is_executing": false
    }
   },
   "outputs": [
    {
     "data": {
      "text/html": [
       "<div>\n",
       "<style scoped>\n",
       "    .dataframe tbody tr th:only-of-type {\n",
       "        vertical-align: middle;\n",
       "    }\n",
       "\n",
       "    .dataframe tbody tr th {\n",
       "        vertical-align: top;\n",
       "    }\n",
       "\n",
       "    .dataframe thead th {\n",
       "        text-align: right;\n",
       "    }\n",
       "</style>\n",
       "<table border=\"1\" class=\"dataframe\">\n",
       "  <thead>\n",
       "    <tr style=\"text-align: right;\">\n",
       "      <th></th>\n",
       "      <th>AvgTicketPrice</th>\n",
       "      <th>Cancelled</th>\n",
       "      <th>...</th>\n",
       "      <th>dayOfWeek</th>\n",
       "      <th>timestamp</th>\n",
       "    </tr>\n",
       "  </thead>\n",
       "  <tbody>\n",
       "    <tr>\n",
       "      <th>13054</th>\n",
       "      <td>1080.446279</td>\n",
       "      <td>False</td>\n",
       "      <td>...</td>\n",
       "      <td>6</td>\n",
       "      <td>2018-02-11 20:42:25</td>\n",
       "    </tr>\n",
       "    <tr>\n",
       "      <th>13055</th>\n",
       "      <td>646.612941</td>\n",
       "      <td>False</td>\n",
       "      <td>...</td>\n",
       "      <td>6</td>\n",
       "      <td>2018-02-11 01:41:57</td>\n",
       "    </tr>\n",
       "    <tr>\n",
       "      <th>13056</th>\n",
       "      <td>997.751876</td>\n",
       "      <td>False</td>\n",
       "      <td>...</td>\n",
       "      <td>6</td>\n",
       "      <td>2018-02-11 04:09:27</td>\n",
       "    </tr>\n",
       "    <tr>\n",
       "      <th>13057</th>\n",
       "      <td>1102.814465</td>\n",
       "      <td>False</td>\n",
       "      <td>...</td>\n",
       "      <td>6</td>\n",
       "      <td>2018-02-11 08:28:21</td>\n",
       "    </tr>\n",
       "    <tr>\n",
       "      <th>13058</th>\n",
       "      <td>858.144337</td>\n",
       "      <td>False</td>\n",
       "      <td>...</td>\n",
       "      <td>6</td>\n",
       "      <td>2018-02-11 14:54:34</td>\n",
       "    </tr>\n",
       "  </tbody>\n",
       "</table>\n",
       "</div>\n",
       "<p>5 rows × 27 columns</p>"
      ],
      "text/plain": [
       "       AvgTicketPrice  Cancelled  ... dayOfWeek           timestamp\n",
       "13054     1080.446279      False  ...         6 2018-02-11 20:42:25\n",
       "13055      646.612941      False  ...         6 2018-02-11 01:41:57\n",
       "13056      997.751876      False  ...         6 2018-02-11 04:09:27\n",
       "13057     1102.814465      False  ...         6 2018-02-11 08:28:21\n",
       "13058      858.144337      False  ...         6 2018-02-11 14:54:34\n",
       "\n",
       "[5 rows x 27 columns]"
      ]
     },
     "execution_count": 26,
     "metadata": {},
     "output_type": "execute_result"
    }
   ],
   "source": [
    "ed_flights.tail()"
   ]
  },
  {
   "cell_type": "markdown",
   "metadata": {
    "id": "y8nBZkIPNRFX"
   },
   "source": [
    "### DataFrame.keys"
   ]
  },
  {
   "cell_type": "code",
   "execution_count": 27,
   "metadata": {
    "colab": {
     "base_uri": "https://localhost:8080/"
    },
    "execution": {
     "iopub.execute_input": "2023-09-20T14:02:04.662764Z",
     "iopub.status.busy": "2023-09-20T14:02:04.662626Z",
     "iopub.status.idle": "2023-09-20T14:02:04.666260Z",
     "shell.execute_reply": "2023-09-20T14:02:04.665832Z"
    },
    "id": "NNt89qcvNRFX",
    "outputId": "0ae0562b-ead8-450d-fc25-205e14d7cb30",
    "pycharm": {
     "is_executing": false
    }
   },
   "outputs": [
    {
     "data": {
      "text/plain": [
       "Index(['AvgTicketPrice', 'Cancelled', 'Carrier', 'Dest', 'DestAirportID', 'DestCityName',\n",
       "       'DestCountry', 'DestLocation', 'DestRegion', 'DestWeather', 'DistanceKilometers',\n",
       "       'DistanceMiles', 'FlightDelay', 'FlightDelayMin', 'FlightDelayType', 'FlightNum',\n",
       "       'FlightTimeHour', 'FlightTimeMin', 'Origin', 'OriginAirportID', 'OriginCityName',\n",
       "       'OriginCountry', 'OriginLocation', 'OriginRegion', 'OriginWeather', 'dayOfWeek',\n",
       "       'timestamp'],\n",
       "      dtype='object')"
      ]
     },
     "execution_count": 27,
     "metadata": {},
     "output_type": "execute_result"
    }
   ],
   "source": [
    "pd_flights.keys()"
   ]
  },
  {
   "cell_type": "code",
   "execution_count": 28,
   "metadata": {
    "colab": {
     "base_uri": "https://localhost:8080/"
    },
    "execution": {
     "iopub.execute_input": "2023-09-20T14:02:04.668345Z",
     "iopub.status.busy": "2023-09-20T14:02:04.668214Z",
     "iopub.status.idle": "2023-09-20T14:02:04.671795Z",
     "shell.execute_reply": "2023-09-20T14:02:04.671388Z"
    },
    "id": "zsEuViUSNRFX",
    "outputId": "84961258-b43c-44bb-8923-f59fd9d0ec0a",
    "pycharm": {
     "is_executing": false
    }
   },
   "outputs": [
    {
     "data": {
      "text/plain": [
       "Index(['AvgTicketPrice', 'Cancelled', 'Carrier', 'Dest', 'DestAirportID', 'DestCityName',\n",
       "       'DestCountry', 'DestLocation', 'DestRegion', 'DestWeather', 'DistanceKilometers',\n",
       "       'DistanceMiles', 'FlightDelay', 'FlightDelayMin', 'FlightDelayType', 'FlightNum',\n",
       "       'FlightTimeHour', 'FlightTimeMin', 'Origin', 'OriginAirportID', 'OriginCityName',\n",
       "       'OriginCountry', 'OriginLocation', 'OriginRegion', 'OriginWeather', 'dayOfWeek',\n",
       "       'timestamp'],\n",
       "      dtype='object')"
      ]
     },
     "execution_count": 28,
     "metadata": {},
     "output_type": "execute_result"
    }
   ],
   "source": [
    "ed_flights.keys()"
   ]
  },
  {
   "cell_type": "markdown",
   "metadata": {
    "id": "KtypOwLUNRFX"
   },
   "source": [
    "### DataFrame.get"
   ]
  },
  {
   "cell_type": "code",
   "execution_count": 29,
   "metadata": {
    "colab": {
     "base_uri": "https://localhost:8080/"
    },
    "execution": {
     "iopub.execute_input": "2023-09-20T14:02:04.674069Z",
     "iopub.status.busy": "2023-09-20T14:02:04.673699Z",
     "iopub.status.idle": "2023-09-20T14:02:04.679643Z",
     "shell.execute_reply": "2023-09-20T14:02:04.679200Z"
    },
    "id": "kFa9r_yQNRFY",
    "outputId": "8edbbfe1-a871-4cd8-d798-3b0df0fea5f4",
    "pycharm": {
     "is_executing": false
    }
   },
   "outputs": [
    {
     "data": {
      "text/plain": [
       "0         Kibana Airlines\n",
       "1        Logstash Airways\n",
       "2        Logstash Airways\n",
       "3         Kibana Airlines\n",
       "4         Kibana Airlines\n",
       "               ...       \n",
       "13054    Logstash Airways\n",
       "13055    Logstash Airways\n",
       "13056    Logstash Airways\n",
       "13057            JetBeats\n",
       "13058            JetBeats\n",
       "Name: Carrier, Length: 13059, dtype: object"
      ]
     },
     "execution_count": 29,
     "metadata": {},
     "output_type": "execute_result"
    }
   ],
   "source": [
    "pd_flights.get('Carrier')"
   ]
  },
  {
   "cell_type": "code",
   "execution_count": 30,
   "metadata": {
    "colab": {
     "base_uri": "https://localhost:8080/"
    },
    "execution": {
     "iopub.execute_input": "2023-09-20T14:02:04.681992Z",
     "iopub.status.busy": "2023-09-20T14:02:04.681842Z",
     "iopub.status.idle": "2023-09-20T14:02:05.005843Z",
     "shell.execute_reply": "2023-09-20T14:02:05.005258Z"
    },
    "id": "Fp52TYwGNRFY",
    "outputId": "544bd33d-aa74-4e8b-8fde-db84a7cdf667",
    "pycharm": {
     "is_executing": false
    }
   },
   "outputs": [
    {
     "data": {
      "text/plain": [
       "0         Kibana Airlines\n",
       "1        Logstash Airways\n",
       "2        Logstash Airways\n",
       "3         Kibana Airlines\n",
       "4         Kibana Airlines\n",
       "               ...       \n",
       "13054    Logstash Airways\n",
       "13055    Logstash Airways\n",
       "13056    Logstash Airways\n",
       "13057            JetBeats\n",
       "13058            JetBeats\n",
       "Name: Carrier, Length: 13059, dtype: object"
      ]
     },
     "execution_count": 30,
     "metadata": {},
     "output_type": "execute_result"
    }
   ],
   "source": [
    "ed_flights.get('Carrier')"
   ]
  },
  {
   "cell_type": "code",
   "execution_count": 31,
   "metadata": {
    "colab": {
     "base_uri": "https://localhost:8080/",
     "height": 424
    },
    "execution": {
     "iopub.execute_input": "2023-09-20T14:02:05.008218Z",
     "iopub.status.busy": "2023-09-20T14:02:05.008073Z",
     "iopub.status.idle": "2023-09-20T14:02:05.017103Z",
     "shell.execute_reply": "2023-09-20T14:02:05.016544Z"
    },
    "id": "-1zPSsGHNRFY",
    "outputId": "69aee818-d25c-451c-ade6-5eff984a6887",
    "pycharm": {
     "is_executing": false
    }
   },
   "outputs": [
    {
     "data": {
      "text/html": [
       "<div>\n",
       "<style scoped>\n",
       "    .dataframe tbody tr th:only-of-type {\n",
       "        vertical-align: middle;\n",
       "    }\n",
       "\n",
       "    .dataframe tbody tr th {\n",
       "        vertical-align: top;\n",
       "    }\n",
       "\n",
       "    .dataframe thead th {\n",
       "        text-align: right;\n",
       "    }\n",
       "</style>\n",
       "<table border=\"1\" class=\"dataframe\">\n",
       "  <thead>\n",
       "    <tr style=\"text-align: right;\">\n",
       "      <th></th>\n",
       "      <th>Carrier</th>\n",
       "      <th>Origin</th>\n",
       "    </tr>\n",
       "  </thead>\n",
       "  <tbody>\n",
       "    <tr>\n",
       "      <th>0</th>\n",
       "      <td>Kibana Airlines</td>\n",
       "      <td>Frankfurt am Main Airport</td>\n",
       "    </tr>\n",
       "    <tr>\n",
       "      <th>1</th>\n",
       "      <td>Logstash Airways</td>\n",
       "      <td>Cape Town International Airport</td>\n",
       "    </tr>\n",
       "    <tr>\n",
       "      <th>2</th>\n",
       "      <td>Logstash Airways</td>\n",
       "      <td>Venice Marco Polo Airport</td>\n",
       "    </tr>\n",
       "    <tr>\n",
       "      <th>3</th>\n",
       "      <td>Kibana Airlines</td>\n",
       "      <td>Naples International Airport</td>\n",
       "    </tr>\n",
       "    <tr>\n",
       "      <th>4</th>\n",
       "      <td>Kibana Airlines</td>\n",
       "      <td>Licenciado Benito Juarez International Airport</td>\n",
       "    </tr>\n",
       "    <tr>\n",
       "      <th>...</th>\n",
       "      <td>...</td>\n",
       "      <td>...</td>\n",
       "    </tr>\n",
       "    <tr>\n",
       "      <th>13054</th>\n",
       "      <td>Logstash Airways</td>\n",
       "      <td>Pisa International Airport</td>\n",
       "    </tr>\n",
       "    <tr>\n",
       "      <th>13055</th>\n",
       "      <td>Logstash Airways</td>\n",
       "      <td>Winnipeg / James Armstrong Richardson Internat...</td>\n",
       "    </tr>\n",
       "    <tr>\n",
       "      <th>13056</th>\n",
       "      <td>Logstash Airways</td>\n",
       "      <td>Licenciado Benito Juarez International Airport</td>\n",
       "    </tr>\n",
       "    <tr>\n",
       "      <th>13057</th>\n",
       "      <td>JetBeats</td>\n",
       "      <td>Itami Airport</td>\n",
       "    </tr>\n",
       "    <tr>\n",
       "      <th>13058</th>\n",
       "      <td>JetBeats</td>\n",
       "      <td>Adelaide International Airport</td>\n",
       "    </tr>\n",
       "  </tbody>\n",
       "</table>\n",
       "<p>13059 rows × 2 columns</p>\n",
       "</div>"
      ],
      "text/plain": [
       "                Carrier                                             Origin\n",
       "0       Kibana Airlines                          Frankfurt am Main Airport\n",
       "1      Logstash Airways                    Cape Town International Airport\n",
       "2      Logstash Airways                          Venice Marco Polo Airport\n",
       "3       Kibana Airlines                       Naples International Airport\n",
       "4       Kibana Airlines     Licenciado Benito Juarez International Airport\n",
       "...                 ...                                                ...\n",
       "13054  Logstash Airways                         Pisa International Airport\n",
       "13055  Logstash Airways  Winnipeg / James Armstrong Richardson Internat...\n",
       "13056  Logstash Airways     Licenciado Benito Juarez International Airport\n",
       "13057          JetBeats                                      Itami Airport\n",
       "13058          JetBeats                     Adelaide International Airport\n",
       "\n",
       "[13059 rows x 2 columns]"
      ]
     },
     "execution_count": 31,
     "metadata": {},
     "output_type": "execute_result"
    }
   ],
   "source": [
    "pd_flights.get(['Carrier', 'Origin'])"
   ]
  },
  {
   "cell_type": "markdown",
   "metadata": {
    "id": "Fk7pTfyGNRFZ"
   },
   "source": [
    "List input not currently supported by `eland.DataFrame.get`"
   ]
  },
  {
   "cell_type": "code",
   "execution_count": 32,
   "metadata": {
    "colab": {
     "base_uri": "https://localhost:8080/"
    },
    "execution": {
     "iopub.execute_input": "2023-09-20T14:02:05.019349Z",
     "iopub.status.busy": "2023-09-20T14:02:05.019210Z",
     "iopub.status.idle": "2023-09-20T14:02:05.023012Z",
     "shell.execute_reply": "2023-09-20T14:02:05.022437Z"
    },
    "id": "iIGNGv6NNRFZ",
    "outputId": "de14302c-170b-4272-f8e2-f5f8d1bb642b",
    "pycharm": {
     "is_executing": false
    }
   },
   "outputs": [
    {
     "name": "stdout",
     "output_type": "stream",
     "text": [
      "unhashable type: 'list'\n"
     ]
    }
   ],
   "source": [
    "try:\n",
    "    ed_flights.get(['Carrier', 'Origin'])\n",
    "except TypeError as e:\n",
    "    print(e)"
   ]
  },
  {
   "cell_type": "markdown",
   "metadata": {
    "id": "jygQjxYRNRFa"
   },
   "source": [
    "### DataFrame.query"
   ]
  },
  {
   "cell_type": "code",
   "execution_count": 33,
   "metadata": {
    "colab": {
     "base_uri": "https://localhost:8080/",
     "height": 424
    },
    "execution": {
     "iopub.execute_input": "2023-09-20T14:02:05.025178Z",
     "iopub.status.busy": "2023-09-20T14:02:05.025045Z",
     "iopub.status.idle": "2023-09-20T14:02:05.043920Z",
     "shell.execute_reply": "2023-09-20T14:02:05.043309Z"
    },
    "id": "fpKfuV-uNRFa",
    "outputId": "95ab3f49-2723-43b6-bf40-ac0e40654697",
    "pycharm": {
     "is_executing": false
    }
   },
   "outputs": [
    {
     "data": {
      "text/html": [
       "<div>\n",
       "<style scoped>\n",
       "    .dataframe tbody tr th:only-of-type {\n",
       "        vertical-align: middle;\n",
       "    }\n",
       "\n",
       "    .dataframe tbody tr th {\n",
       "        vertical-align: top;\n",
       "    }\n",
       "\n",
       "    .dataframe thead th {\n",
       "        text-align: right;\n",
       "    }\n",
       "</style>\n",
       "<table border=\"1\" class=\"dataframe\">\n",
       "  <thead>\n",
       "    <tr style=\"text-align: right;\">\n",
       "      <th></th>\n",
       "      <th>AvgTicketPrice</th>\n",
       "      <th>Cancelled</th>\n",
       "      <th>...</th>\n",
       "      <th>dayOfWeek</th>\n",
       "      <th>timestamp</th>\n",
       "    </tr>\n",
       "  </thead>\n",
       "  <tbody>\n",
       "    <tr>\n",
       "      <th>8</th>\n",
       "      <td>960.869736</td>\n",
       "      <td>True</td>\n",
       "      <td>...</td>\n",
       "      <td>0</td>\n",
       "      <td>2018-01-01 12:09:35</td>\n",
       "    </tr>\n",
       "    <tr>\n",
       "      <th>26</th>\n",
       "      <td>975.812632</td>\n",
       "      <td>True</td>\n",
       "      <td>...</td>\n",
       "      <td>0</td>\n",
       "      <td>2018-01-01 15:38:32</td>\n",
       "    </tr>\n",
       "    <tr>\n",
       "      <th>311</th>\n",
       "      <td>946.358410</td>\n",
       "      <td>True</td>\n",
       "      <td>...</td>\n",
       "      <td>0</td>\n",
       "      <td>2018-01-01 11:51:12</td>\n",
       "    </tr>\n",
       "    <tr>\n",
       "      <th>651</th>\n",
       "      <td>975.383864</td>\n",
       "      <td>True</td>\n",
       "      <td>...</td>\n",
       "      <td>2</td>\n",
       "      <td>2018-01-03 21:13:17</td>\n",
       "    </tr>\n",
       "    <tr>\n",
       "      <th>950</th>\n",
       "      <td>907.836523</td>\n",
       "      <td>True</td>\n",
       "      <td>...</td>\n",
       "      <td>2</td>\n",
       "      <td>2018-01-03 05:14:51</td>\n",
       "    </tr>\n",
       "    <tr>\n",
       "      <th>...</th>\n",
       "      <td>...</td>\n",
       "      <td>...</td>\n",
       "      <td>...</td>\n",
       "      <td>...</td>\n",
       "      <td>...</td>\n",
       "    </tr>\n",
       "    <tr>\n",
       "      <th>12820</th>\n",
       "      <td>909.973606</td>\n",
       "      <td>True</td>\n",
       "      <td>...</td>\n",
       "      <td>5</td>\n",
       "      <td>2018-02-10 05:11:35</td>\n",
       "    </tr>\n",
       "    <tr>\n",
       "      <th>12906</th>\n",
       "      <td>983.429244</td>\n",
       "      <td>True</td>\n",
       "      <td>...</td>\n",
       "      <td>6</td>\n",
       "      <td>2018-02-11 06:19:58</td>\n",
       "    </tr>\n",
       "    <tr>\n",
       "      <th>12918</th>\n",
       "      <td>1136.678150</td>\n",
       "      <td>True</td>\n",
       "      <td>...</td>\n",
       "      <td>6</td>\n",
       "      <td>2018-02-11 16:03:10</td>\n",
       "    </tr>\n",
       "    <tr>\n",
       "      <th>12919</th>\n",
       "      <td>1105.211803</td>\n",
       "      <td>True</td>\n",
       "      <td>...</td>\n",
       "      <td>6</td>\n",
       "      <td>2018-02-11 05:36:05</td>\n",
       "    </tr>\n",
       "    <tr>\n",
       "      <th>13013</th>\n",
       "      <td>1055.350213</td>\n",
       "      <td>True</td>\n",
       "      <td>...</td>\n",
       "      <td>6</td>\n",
       "      <td>2018-02-11 13:20:16</td>\n",
       "    </tr>\n",
       "  </tbody>\n",
       "</table>\n",
       "<p>68 rows × 27 columns</p>\n",
       "</div>"
      ],
      "text/plain": [
       "       AvgTicketPrice  Cancelled  ... dayOfWeek           timestamp\n",
       "8          960.869736       True  ...         0 2018-01-01 12:09:35\n",
       "26         975.812632       True  ...         0 2018-01-01 15:38:32\n",
       "311        946.358410       True  ...         0 2018-01-01 11:51:12\n",
       "651        975.383864       True  ...         2 2018-01-03 21:13:17\n",
       "950        907.836523       True  ...         2 2018-01-03 05:14:51\n",
       "...               ...        ...  ...       ...                 ...\n",
       "12820      909.973606       True  ...         5 2018-02-10 05:11:35\n",
       "12906      983.429244       True  ...         6 2018-02-11 06:19:58\n",
       "12918     1136.678150       True  ...         6 2018-02-11 16:03:10\n",
       "12919     1105.211803       True  ...         6 2018-02-11 05:36:05\n",
       "13013     1055.350213       True  ...         6 2018-02-11 13:20:16\n",
       "\n",
       "[68 rows x 27 columns]"
      ]
     },
     "execution_count": 33,
     "metadata": {},
     "output_type": "execute_result"
    }
   ],
   "source": [
    "pd_flights.query('Carrier == \"Kibana Airlines\" & AvgTicketPrice > 900.0 & Cancelled == True')"
   ]
  },
  {
   "cell_type": "markdown",
   "metadata": {
    "id": "BOtIJQ8iNRFb"
   },
   "source": [
    "`eland.DataFrame.query` requires qualifier on bool i.e.\n",
    "\n",
    "`ed_flights.query('Carrier == \"Kibana Airlines\" & AvgTicketPrice > 900.0 & Cancelled')` fails"
   ]
  },
  {
   "cell_type": "code",
   "execution_count": 34,
   "metadata": {
    "colab": {
     "base_uri": "https://localhost:8080/"
    },
    "execution": {
     "iopub.execute_input": "2023-09-20T14:02:05.046390Z",
     "iopub.status.busy": "2023-09-20T14:02:05.046016Z",
     "iopub.status.idle": "2023-09-20T14:02:05.071493Z",
     "shell.execute_reply": "2023-09-20T14:02:05.070982Z"
    },
    "id": "BQY-QkAENRFb",
    "outputId": "c856a999-5fbf-4a54-b8fa-2e7cd5f5e3c8",
    "pycharm": {
     "is_executing": false
    }
   },
   "outputs": [],
   "source": [
    "try:\n",
    "  ed_flights.query('Carrier == \"Kibana Airlines\" & AvgTicketPrice > 900.0 & Cancelled == True')\n",
    "except Exception as e:\n",
    "  print(f\"query() failed as expected: {repr(e)}.\")"
   ]
  },
  {
   "cell_type": "markdown",
   "metadata": {
    "id": "u669zWowNRFb"
   },
   "source": [
    "#### Boolean indexing query"
   ]
  },
  {
   "cell_type": "code",
   "execution_count": 35,
   "metadata": {
    "colab": {
     "base_uri": "https://localhost:8080/",
     "height": 424
    },
    "execution": {
     "iopub.execute_input": "2023-09-20T14:02:05.073998Z",
     "iopub.status.busy": "2023-09-20T14:02:05.073854Z",
     "iopub.status.idle": "2023-09-20T14:02:05.088978Z",
     "shell.execute_reply": "2023-09-20T14:02:05.088344Z"
    },
    "id": "f59Szl_9NRFc",
    "outputId": "c2d81587-cce8-45b2-fd4e-d7b4f60eb9c6",
    "pycharm": {
     "is_executing": false
    }
   },
   "outputs": [
    {
     "data": {
      "text/html": [
       "<div>\n",
       "<style scoped>\n",
       "    .dataframe tbody tr th:only-of-type {\n",
       "        vertical-align: middle;\n",
       "    }\n",
       "\n",
       "    .dataframe tbody tr th {\n",
       "        vertical-align: top;\n",
       "    }\n",
       "\n",
       "    .dataframe thead th {\n",
       "        text-align: right;\n",
       "    }\n",
       "</style>\n",
       "<table border=\"1\" class=\"dataframe\">\n",
       "  <thead>\n",
       "    <tr style=\"text-align: right;\">\n",
       "      <th></th>\n",
       "      <th>AvgTicketPrice</th>\n",
       "      <th>Cancelled</th>\n",
       "      <th>...</th>\n",
       "      <th>dayOfWeek</th>\n",
       "      <th>timestamp</th>\n",
       "    </tr>\n",
       "  </thead>\n",
       "  <tbody>\n",
       "    <tr>\n",
       "      <th>8</th>\n",
       "      <td>960.869736</td>\n",
       "      <td>True</td>\n",
       "      <td>...</td>\n",
       "      <td>0</td>\n",
       "      <td>2018-01-01 12:09:35</td>\n",
       "    </tr>\n",
       "    <tr>\n",
       "      <th>26</th>\n",
       "      <td>975.812632</td>\n",
       "      <td>True</td>\n",
       "      <td>...</td>\n",
       "      <td>0</td>\n",
       "      <td>2018-01-01 15:38:32</td>\n",
       "    </tr>\n",
       "    <tr>\n",
       "      <th>311</th>\n",
       "      <td>946.358410</td>\n",
       "      <td>True</td>\n",
       "      <td>...</td>\n",
       "      <td>0</td>\n",
       "      <td>2018-01-01 11:51:12</td>\n",
       "    </tr>\n",
       "    <tr>\n",
       "      <th>651</th>\n",
       "      <td>975.383864</td>\n",
       "      <td>True</td>\n",
       "      <td>...</td>\n",
       "      <td>2</td>\n",
       "      <td>2018-01-03 21:13:17</td>\n",
       "    </tr>\n",
       "    <tr>\n",
       "      <th>950</th>\n",
       "      <td>907.836523</td>\n",
       "      <td>True</td>\n",
       "      <td>...</td>\n",
       "      <td>2</td>\n",
       "      <td>2018-01-03 05:14:51</td>\n",
       "    </tr>\n",
       "    <tr>\n",
       "      <th>...</th>\n",
       "      <td>...</td>\n",
       "      <td>...</td>\n",
       "      <td>...</td>\n",
       "      <td>...</td>\n",
       "      <td>...</td>\n",
       "    </tr>\n",
       "    <tr>\n",
       "      <th>12820</th>\n",
       "      <td>909.973606</td>\n",
       "      <td>True</td>\n",
       "      <td>...</td>\n",
       "      <td>5</td>\n",
       "      <td>2018-02-10 05:11:35</td>\n",
       "    </tr>\n",
       "    <tr>\n",
       "      <th>12906</th>\n",
       "      <td>983.429244</td>\n",
       "      <td>True</td>\n",
       "      <td>...</td>\n",
       "      <td>6</td>\n",
       "      <td>2018-02-11 06:19:58</td>\n",
       "    </tr>\n",
       "    <tr>\n",
       "      <th>12918</th>\n",
       "      <td>1136.678150</td>\n",
       "      <td>True</td>\n",
       "      <td>...</td>\n",
       "      <td>6</td>\n",
       "      <td>2018-02-11 16:03:10</td>\n",
       "    </tr>\n",
       "    <tr>\n",
       "      <th>12919</th>\n",
       "      <td>1105.211803</td>\n",
       "      <td>True</td>\n",
       "      <td>...</td>\n",
       "      <td>6</td>\n",
       "      <td>2018-02-11 05:36:05</td>\n",
       "    </tr>\n",
       "    <tr>\n",
       "      <th>13013</th>\n",
       "      <td>1055.350213</td>\n",
       "      <td>True</td>\n",
       "      <td>...</td>\n",
       "      <td>6</td>\n",
       "      <td>2018-02-11 13:20:16</td>\n",
       "    </tr>\n",
       "  </tbody>\n",
       "</table>\n",
       "<p>68 rows × 27 columns</p>\n",
       "</div>"
      ],
      "text/plain": [
       "       AvgTicketPrice  Cancelled  ... dayOfWeek           timestamp\n",
       "8          960.869736       True  ...         0 2018-01-01 12:09:35\n",
       "26         975.812632       True  ...         0 2018-01-01 15:38:32\n",
       "311        946.358410       True  ...         0 2018-01-01 11:51:12\n",
       "651        975.383864       True  ...         2 2018-01-03 21:13:17\n",
       "950        907.836523       True  ...         2 2018-01-03 05:14:51\n",
       "...               ...        ...  ...       ...                 ...\n",
       "12820      909.973606       True  ...         5 2018-02-10 05:11:35\n",
       "12906      983.429244       True  ...         6 2018-02-11 06:19:58\n",
       "12918     1136.678150       True  ...         6 2018-02-11 16:03:10\n",
       "12919     1105.211803       True  ...         6 2018-02-11 05:36:05\n",
       "13013     1055.350213       True  ...         6 2018-02-11 13:20:16\n",
       "\n",
       "[68 rows x 27 columns]"
      ]
     },
     "execution_count": 35,
     "metadata": {},
     "output_type": "execute_result"
    }
   ],
   "source": [
    "pd_flights[(pd_flights.Carrier==\"Kibana Airlines\") &\n",
    "           (pd_flights.AvgTicketPrice > 900.0) &\n",
    "           (pd_flights.Cancelled == True)]"
   ]
  },
  {
   "cell_type": "code",
   "execution_count": 36,
   "metadata": {
    "colab": {
     "base_uri": "https://localhost:8080/",
     "height": 424
    },
    "execution": {
     "iopub.execute_input": "2023-09-20T14:02:05.091368Z",
     "iopub.status.busy": "2023-09-20T14:02:05.091037Z",
     "iopub.status.idle": "2023-09-20T14:02:05.269653Z",
     "shell.execute_reply": "2023-09-20T14:02:05.269097Z"
    },
    "id": "ZiewRsffNRFc",
    "outputId": "2664c3f9-e509-4859-fc63-1c417e9104af",
    "pycharm": {
     "is_executing": false
    }
   },
   "outputs": [
    {
     "data": {
      "text/html": [
       "<div>\n",
       "<style scoped>\n",
       "    .dataframe tbody tr th:only-of-type {\n",
       "        vertical-align: middle;\n",
       "    }\n",
       "\n",
       "    .dataframe tbody tr th {\n",
       "        vertical-align: top;\n",
       "    }\n",
       "\n",
       "    .dataframe thead th {\n",
       "        text-align: right;\n",
       "    }\n",
       "</style>\n",
       "<table border=\"1\" class=\"dataframe\">\n",
       "  <thead>\n",
       "    <tr style=\"text-align: right;\">\n",
       "      <th></th>\n",
       "      <th>AvgTicketPrice</th>\n",
       "      <th>Cancelled</th>\n",
       "      <th>...</th>\n",
       "      <th>dayOfWeek</th>\n",
       "      <th>timestamp</th>\n",
       "    </tr>\n",
       "  </thead>\n",
       "  <tbody>\n",
       "    <tr>\n",
       "      <th>8</th>\n",
       "      <td>960.869736</td>\n",
       "      <td>True</td>\n",
       "      <td>...</td>\n",
       "      <td>0</td>\n",
       "      <td>2018-01-01 12:09:35</td>\n",
       "    </tr>\n",
       "    <tr>\n",
       "      <th>26</th>\n",
       "      <td>975.812632</td>\n",
       "      <td>True</td>\n",
       "      <td>...</td>\n",
       "      <td>0</td>\n",
       "      <td>2018-01-01 15:38:32</td>\n",
       "    </tr>\n",
       "    <tr>\n",
       "      <th>311</th>\n",
       "      <td>946.358410</td>\n",
       "      <td>True</td>\n",
       "      <td>...</td>\n",
       "      <td>0</td>\n",
       "      <td>2018-01-01 11:51:12</td>\n",
       "    </tr>\n",
       "    <tr>\n",
       "      <th>651</th>\n",
       "      <td>975.383864</td>\n",
       "      <td>True</td>\n",
       "      <td>...</td>\n",
       "      <td>2</td>\n",
       "      <td>2018-01-03 21:13:17</td>\n",
       "    </tr>\n",
       "    <tr>\n",
       "      <th>950</th>\n",
       "      <td>907.836523</td>\n",
       "      <td>True</td>\n",
       "      <td>...</td>\n",
       "      <td>2</td>\n",
       "      <td>2018-01-03 05:14:51</td>\n",
       "    </tr>\n",
       "    <tr>\n",
       "      <th>...</th>\n",
       "      <td>...</td>\n",
       "      <td>...</td>\n",
       "      <td>...</td>\n",
       "      <td>...</td>\n",
       "      <td>...</td>\n",
       "    </tr>\n",
       "    <tr>\n",
       "      <th>12820</th>\n",
       "      <td>909.973606</td>\n",
       "      <td>True</td>\n",
       "      <td>...</td>\n",
       "      <td>5</td>\n",
       "      <td>2018-02-10 05:11:35</td>\n",
       "    </tr>\n",
       "    <tr>\n",
       "      <th>12906</th>\n",
       "      <td>983.429244</td>\n",
       "      <td>True</td>\n",
       "      <td>...</td>\n",
       "      <td>6</td>\n",
       "      <td>2018-02-11 06:19:58</td>\n",
       "    </tr>\n",
       "    <tr>\n",
       "      <th>12918</th>\n",
       "      <td>1136.678150</td>\n",
       "      <td>True</td>\n",
       "      <td>...</td>\n",
       "      <td>6</td>\n",
       "      <td>2018-02-11 16:03:10</td>\n",
       "    </tr>\n",
       "    <tr>\n",
       "      <th>12919</th>\n",
       "      <td>1105.211803</td>\n",
       "      <td>True</td>\n",
       "      <td>...</td>\n",
       "      <td>6</td>\n",
       "      <td>2018-02-11 05:36:05</td>\n",
       "    </tr>\n",
       "    <tr>\n",
       "      <th>13013</th>\n",
       "      <td>1055.350213</td>\n",
       "      <td>True</td>\n",
       "      <td>...</td>\n",
       "      <td>6</td>\n",
       "      <td>2018-02-11 13:20:16</td>\n",
       "    </tr>\n",
       "  </tbody>\n",
       "</table>\n",
       "</div>\n",
       "<p>68 rows × 27 columns</p>"
      ],
      "text/plain": [
       "       AvgTicketPrice  Cancelled  ... dayOfWeek           timestamp\n",
       "8          960.869736       True  ...         0 2018-01-01 12:09:35\n",
       "26         975.812632       True  ...         0 2018-01-01 15:38:32\n",
       "311        946.358410       True  ...         0 2018-01-01 11:51:12\n",
       "651        975.383864       True  ...         2 2018-01-03 21:13:17\n",
       "950        907.836523       True  ...         2 2018-01-03 05:14:51\n",
       "...               ...        ...  ...       ...                 ...\n",
       "12820      909.973606       True  ...         5 2018-02-10 05:11:35\n",
       "12906      983.429244       True  ...         6 2018-02-11 06:19:58\n",
       "12918     1136.678150       True  ...         6 2018-02-11 16:03:10\n",
       "12919     1105.211803       True  ...         6 2018-02-11 05:36:05\n",
       "13013     1055.350213       True  ...         6 2018-02-11 13:20:16\n",
       "\n",
       "[68 rows x 27 columns]"
      ]
     },
     "execution_count": 36,
     "metadata": {},
     "output_type": "execute_result"
    }
   ],
   "source": [
    "ed_flights[(ed_flights.Carrier==\"Kibana Airlines\") &\n",
    "           (ed_flights.AvgTicketPrice > 900.0) &\n",
    "           (ed_flights.Cancelled == True)]"
   ]
  },
  {
   "cell_type": "markdown",
   "metadata": {
    "id": "2aEJXYr3NRFc"
   },
   "source": [
    "## Function application, GroupBy & window"
   ]
  },
  {
   "cell_type": "markdown",
   "metadata": {
    "id": "PLNjRajUNRFd"
   },
   "source": [
    "### DataFrame.aggs"
   ]
  },
  {
   "cell_type": "code",
   "execution_count": 37,
   "metadata": {
    "colab": {
     "base_uri": "https://localhost:8080/",
     "height": 143
    },
    "execution": {
     "iopub.execute_input": "2023-09-20T14:02:05.272304Z",
     "iopub.status.busy": "2023-09-20T14:02:05.272016Z",
     "iopub.status.idle": "2023-09-20T14:02:05.281913Z",
     "shell.execute_reply": "2023-09-20T14:02:05.281401Z"
    },
    "id": "-j7Hwl9FNRFd",
    "outputId": "ef07eaea-b9cd-4333-b063-fded8d231a95",
    "pycharm": {
     "is_executing": false
    }
   },
   "outputs": [
    {
     "data": {
      "text/html": [
       "<div>\n",
       "<style scoped>\n",
       "    .dataframe tbody tr th:only-of-type {\n",
       "        vertical-align: middle;\n",
       "    }\n",
       "\n",
       "    .dataframe tbody tr th {\n",
       "        vertical-align: top;\n",
       "    }\n",
       "\n",
       "    .dataframe thead th {\n",
       "        text-align: right;\n",
       "    }\n",
       "</style>\n",
       "<table border=\"1\" class=\"dataframe\">\n",
       "  <thead>\n",
       "    <tr style=\"text-align: right;\">\n",
       "      <th></th>\n",
       "      <th>DistanceKilometers</th>\n",
       "      <th>AvgTicketPrice</th>\n",
       "    </tr>\n",
       "  </thead>\n",
       "  <tbody>\n",
       "    <tr>\n",
       "      <th>sum</th>\n",
       "      <td>9.261629e+07</td>\n",
       "      <td>8.204365e+06</td>\n",
       "    </tr>\n",
       "    <tr>\n",
       "      <th>min</th>\n",
       "      <td>0.000000e+00</td>\n",
       "      <td>1.000205e+02</td>\n",
       "    </tr>\n",
       "    <tr>\n",
       "      <th>std</th>\n",
       "      <td>4.578438e+03</td>\n",
       "      <td>2.663969e+02</td>\n",
       "    </tr>\n",
       "  </tbody>\n",
       "</table>\n",
       "</div>"
      ],
      "text/plain": [
       "     DistanceKilometers  AvgTicketPrice\n",
       "sum        9.261629e+07    8.204365e+06\n",
       "min        0.000000e+00    1.000205e+02\n",
       "std        4.578438e+03    2.663969e+02"
      ]
     },
     "execution_count": 37,
     "metadata": {},
     "output_type": "execute_result"
    }
   ],
   "source": [
    "pd_flights[['DistanceKilometers', 'AvgTicketPrice']].aggregate(['sum', 'min', 'std'])"
   ]
  },
  {
   "cell_type": "markdown",
   "metadata": {
    "id": "BL2p1GPLNRFd"
   },
   "source": [
    "`eland.DataFrame.aggregate` currently only supported numeric columns"
   ]
  },
  {
   "cell_type": "code",
   "execution_count": 38,
   "metadata": {
    "colab": {
     "base_uri": "https://localhost:8080/",
     "height": 143
    },
    "execution": {
     "iopub.execute_input": "2023-09-20T14:02:05.284252Z",
     "iopub.status.busy": "2023-09-20T14:02:05.283974Z",
     "iopub.status.idle": "2023-09-20T14:02:05.313585Z",
     "shell.execute_reply": "2023-09-20T14:02:05.313101Z"
    },
    "id": "ok4Ui8BhNRFe",
    "outputId": "796c616d-b4c1-42e9-b867-f8e0fd13f410",
    "pycharm": {
     "is_executing": false
    }
   },
   "outputs": [
    {
     "data": {
      "text/html": [
       "<div>\n",
       "<style scoped>\n",
       "    .dataframe tbody tr th:only-of-type {\n",
       "        vertical-align: middle;\n",
       "    }\n",
       "\n",
       "    .dataframe tbody tr th {\n",
       "        vertical-align: top;\n",
       "    }\n",
       "\n",
       "    .dataframe thead th {\n",
       "        text-align: right;\n",
       "    }\n",
       "</style>\n",
       "<table border=\"1\" class=\"dataframe\">\n",
       "  <thead>\n",
       "    <tr style=\"text-align: right;\">\n",
       "      <th></th>\n",
       "      <th>DistanceKilometers</th>\n",
       "      <th>AvgTicketPrice</th>\n",
       "    </tr>\n",
       "  </thead>\n",
       "  <tbody>\n",
       "    <tr>\n",
       "      <th>sum</th>\n",
       "      <td>9.261629e+07</td>\n",
       "      <td>8.204365e+06</td>\n",
       "    </tr>\n",
       "    <tr>\n",
       "      <th>min</th>\n",
       "      <td>0.000000e+00</td>\n",
       "      <td>1.000205e+02</td>\n",
       "    </tr>\n",
       "    <tr>\n",
       "      <th>std</th>\n",
       "      <td>4.578614e+03</td>\n",
       "      <td>2.664071e+02</td>\n",
       "    </tr>\n",
       "  </tbody>\n",
       "</table>\n",
       "</div>"
      ],
      "text/plain": [
       "     DistanceKilometers  AvgTicketPrice\n",
       "sum        9.261629e+07    8.204365e+06\n",
       "min        0.000000e+00    1.000205e+02\n",
       "std        4.578614e+03    2.664071e+02"
      ]
     },
     "execution_count": 38,
     "metadata": {},
     "output_type": "execute_result"
    }
   ],
   "source": [
    "ed_flights[['DistanceKilometers', 'AvgTicketPrice']].aggregate(['sum', 'min', 'std'])"
   ]
  },
  {
   "cell_type": "markdown",
   "metadata": {
    "id": "v-49A_fDNRFe"
   },
   "source": [
    "## Computations / descriptive stats"
   ]
  },
  {
   "cell_type": "markdown",
   "metadata": {
    "id": "00OupOBTNRFe"
   },
   "source": [
    "### DataFrame.count"
   ]
  },
  {
   "cell_type": "code",
   "execution_count": 39,
   "metadata": {
    "colab": {
     "base_uri": "https://localhost:8080/"
    },
    "execution": {
     "iopub.execute_input": "2023-09-20T14:02:05.315840Z",
     "iopub.status.busy": "2023-09-20T14:02:05.315705Z",
     "iopub.status.idle": "2023-09-20T14:02:05.358715Z",
     "shell.execute_reply": "2023-09-20T14:02:05.358127Z"
    },
    "id": "-1b9NDszNRFe",
    "outputId": "271a96d6-8abb-4f17-b5c3-de2359c15ed5",
    "pycharm": {
     "is_executing": false
    }
   },
   "outputs": [
    {
     "data": {
      "text/plain": [
       "AvgTicketPrice    13059\n",
       "Cancelled         13059\n",
       "Carrier           13059\n",
       "Dest              13059\n",
       "DestAirportID     13059\n",
       "                  ...  \n",
       "OriginLocation    13059\n",
       "OriginRegion      13059\n",
       "OriginWeather     13059\n",
       "dayOfWeek         13059\n",
       "timestamp         13059\n",
       "Length: 27, dtype: int64"
      ]
     },
     "execution_count": 39,
     "metadata": {},
     "output_type": "execute_result"
    }
   ],
   "source": [
    "pd_flights.count()"
   ]
  },
  {
   "cell_type": "code",
   "execution_count": 40,
   "metadata": {
    "colab": {
     "base_uri": "https://localhost:8080/"
    },
    "execution": {
     "iopub.execute_input": "2023-09-20T14:02:05.361078Z",
     "iopub.status.busy": "2023-09-20T14:02:05.360939Z",
     "iopub.status.idle": "2023-09-20T14:02:05.438915Z",
     "shell.execute_reply": "2023-09-20T14:02:05.438480Z"
    },
    "id": "GjHLdmvPNRFf",
    "outputId": "4b846ac1-8804-494b-fe5f-b910b0861ed3",
    "pycharm": {
     "is_executing": false
    }
   },
   "outputs": [
    {
     "data": {
      "text/plain": [
       "AvgTicketPrice    13059\n",
       "Cancelled         13059\n",
       "Carrier           13059\n",
       "Dest              13059\n",
       "DestAirportID     13059\n",
       "                  ...  \n",
       "OriginLocation    13059\n",
       "OriginRegion      13059\n",
       "OriginWeather     13059\n",
       "dayOfWeek         13059\n",
       "timestamp         13059\n",
       "Length: 27, dtype: int64"
      ]
     },
     "execution_count": 40,
     "metadata": {},
     "output_type": "execute_result"
    }
   ],
   "source": [
    "ed_flights.count()"
   ]
  },
  {
   "cell_type": "markdown",
   "metadata": {
    "id": "tF40dPiPNRFf"
   },
   "source": [
    "### DataFrame.describe"
   ]
  },
  {
   "cell_type": "code",
   "execution_count": 41,
   "metadata": {
    "colab": {
     "base_uri": "https://localhost:8080/",
     "height": 330
    },
    "execution": {
     "iopub.execute_input": "2023-09-20T14:02:05.441334Z",
     "iopub.status.busy": "2023-09-20T14:02:05.441044Z",
     "iopub.status.idle": "2023-09-20T14:02:05.463443Z",
     "shell.execute_reply": "2023-09-20T14:02:05.462953Z"
    },
    "id": "IKjmnuuBNRFf",
    "outputId": "29a8c8a2-3911-44d8-9839-c5c745ea51af",
    "pycharm": {
     "is_executing": false
    }
   },
   "outputs": [
    {
     "data": {
      "text/html": [
       "<div>\n",
       "<style scoped>\n",
       "    .dataframe tbody tr th:only-of-type {\n",
       "        vertical-align: middle;\n",
       "    }\n",
       "\n",
       "    .dataframe tbody tr th {\n",
       "        vertical-align: top;\n",
       "    }\n",
       "\n",
       "    .dataframe thead th {\n",
       "        text-align: right;\n",
       "    }\n",
       "</style>\n",
       "<table border=\"1\" class=\"dataframe\">\n",
       "  <thead>\n",
       "    <tr style=\"text-align: right;\">\n",
       "      <th></th>\n",
       "      <th>AvgTicketPrice</th>\n",
       "      <th>DistanceKilometers</th>\n",
       "      <th>...</th>\n",
       "      <th>FlightTimeMin</th>\n",
       "      <th>dayOfWeek</th>\n",
       "    </tr>\n",
       "  </thead>\n",
       "  <tbody>\n",
       "    <tr>\n",
       "      <th>count</th>\n",
       "      <td>13059.000000</td>\n",
       "      <td>13059.000000</td>\n",
       "      <td>...</td>\n",
       "      <td>13059.000000</td>\n",
       "      <td>13059.000000</td>\n",
       "    </tr>\n",
       "    <tr>\n",
       "      <th>mean</th>\n",
       "      <td>628.253689</td>\n",
       "      <td>7092.142455</td>\n",
       "      <td>...</td>\n",
       "      <td>511.127842</td>\n",
       "      <td>2.835975</td>\n",
       "    </tr>\n",
       "    <tr>\n",
       "      <th>std</th>\n",
       "      <td>266.396861</td>\n",
       "      <td>4578.438497</td>\n",
       "      <td>...</td>\n",
       "      <td>334.753952</td>\n",
       "      <td>1.939439</td>\n",
       "    </tr>\n",
       "    <tr>\n",
       "      <th>min</th>\n",
       "      <td>100.020528</td>\n",
       "      <td>0.000000</td>\n",
       "      <td>...</td>\n",
       "      <td>0.000000</td>\n",
       "      <td>0.000000</td>\n",
       "    </tr>\n",
       "    <tr>\n",
       "      <th>25%</th>\n",
       "      <td>409.893816</td>\n",
       "      <td>2459.705673</td>\n",
       "      <td>...</td>\n",
       "      <td>252.333192</td>\n",
       "      <td>1.000000</td>\n",
       "    </tr>\n",
       "    <tr>\n",
       "      <th>50%</th>\n",
       "      <td>640.556668</td>\n",
       "      <td>7610.330866</td>\n",
       "      <td>...</td>\n",
       "      <td>503.045170</td>\n",
       "      <td>3.000000</td>\n",
       "    </tr>\n",
       "    <tr>\n",
       "      <th>75%</th>\n",
       "      <td>842.185470</td>\n",
       "      <td>9736.637600</td>\n",
       "      <td>...</td>\n",
       "      <td>720.416036</td>\n",
       "      <td>4.000000</td>\n",
       "    </tr>\n",
       "    <tr>\n",
       "      <th>max</th>\n",
       "      <td>1199.729053</td>\n",
       "      <td>19881.482315</td>\n",
       "      <td>...</td>\n",
       "      <td>1902.902032</td>\n",
       "      <td>6.000000</td>\n",
       "    </tr>\n",
       "  </tbody>\n",
       "</table>\n",
       "<p>8 rows × 7 columns</p>\n",
       "</div>"
      ],
      "text/plain": [
       "       AvgTicketPrice  DistanceKilometers  ...  FlightTimeMin     dayOfWeek\n",
       "count    13059.000000        13059.000000  ...   13059.000000  13059.000000\n",
       "mean       628.253689         7092.142455  ...     511.127842      2.835975\n",
       "std        266.396861         4578.438497  ...     334.753952      1.939439\n",
       "min        100.020528            0.000000  ...       0.000000      0.000000\n",
       "25%        409.893816         2459.705673  ...     252.333192      1.000000\n",
       "50%        640.556668         7610.330866  ...     503.045170      3.000000\n",
       "75%        842.185470         9736.637600  ...     720.416036      4.000000\n",
       "max       1199.729053        19881.482315  ...    1902.902032      6.000000\n",
       "\n",
       "[8 rows x 7 columns]"
      ]
     },
     "execution_count": 41,
     "metadata": {},
     "output_type": "execute_result"
    }
   ],
   "source": [
    "pd_flights.describe()"
   ]
  },
  {
   "cell_type": "markdown",
   "metadata": {
    "id": "O4FVtGT9NRFg"
   },
   "source": [
    "Values returned from `eland.DataFrame.describe` may vary due to results of Elasticsearch aggregations."
   ]
  },
  {
   "cell_type": "code",
   "execution_count": 42,
   "metadata": {
    "colab": {
     "base_uri": "https://localhost:8080/",
     "height": 330
    },
    "execution": {
     "iopub.execute_input": "2023-09-20T14:02:05.465743Z",
     "iopub.status.busy": "2023-09-20T14:02:05.465608Z",
     "iopub.status.idle": "2023-09-20T14:02:05.543075Z",
     "shell.execute_reply": "2023-09-20T14:02:05.542488Z"
    },
    "id": "L7eKy3AINRFg",
    "outputId": "27b722d6-ddfe-46d9-d6fb-1bded42058ca",
    "pycharm": {
     "is_executing": false
    }
   },
   "outputs": [
    {
     "data": {
      "text/html": [
       "<div>\n",
       "<style scoped>\n",
       "    .dataframe tbody tr th:only-of-type {\n",
       "        vertical-align: middle;\n",
       "    }\n",
       "\n",
       "    .dataframe tbody tr th {\n",
       "        vertical-align: top;\n",
       "    }\n",
       "\n",
       "    .dataframe thead th {\n",
       "        text-align: right;\n",
       "    }\n",
       "</style>\n",
       "<table border=\"1\" class=\"dataframe\">\n",
       "  <thead>\n",
       "    <tr style=\"text-align: right;\">\n",
       "      <th></th>\n",
       "      <th>AvgTicketPrice</th>\n",
       "      <th>Cancelled</th>\n",
       "      <th>...</th>\n",
       "      <th>FlightTimeMin</th>\n",
       "      <th>dayOfWeek</th>\n",
       "    </tr>\n",
       "  </thead>\n",
       "  <tbody>\n",
       "    <tr>\n",
       "      <th>count</th>\n",
       "      <td>13059.000000</td>\n",
       "      <td>13059.000000</td>\n",
       "      <td>...</td>\n",
       "      <td>13059.000000</td>\n",
       "      <td>13059.000000</td>\n",
       "    </tr>\n",
       "    <tr>\n",
       "      <th>mean</th>\n",
       "      <td>628.253689</td>\n",
       "      <td>0.128494</td>\n",
       "      <td>...</td>\n",
       "      <td>511.127842</td>\n",
       "      <td>2.835975</td>\n",
       "    </tr>\n",
       "    <tr>\n",
       "      <th>std</th>\n",
       "      <td>266.407061</td>\n",
       "      <td>0.334664</td>\n",
       "      <td>...</td>\n",
       "      <td>334.766770</td>\n",
       "      <td>1.939513</td>\n",
       "    </tr>\n",
       "    <tr>\n",
       "      <th>min</th>\n",
       "      <td>100.020531</td>\n",
       "      <td>0.000000</td>\n",
       "      <td>...</td>\n",
       "      <td>0.000000</td>\n",
       "      <td>0.000000</td>\n",
       "    </tr>\n",
       "    <tr>\n",
       "      <th>25%</th>\n",
       "      <td>411.154491</td>\n",
       "      <td>0.000000</td>\n",
       "      <td>...</td>\n",
       "      <td>250.428538</td>\n",
       "      <td>1.058527</td>\n",
       "    </tr>\n",
       "    <tr>\n",
       "      <th>50%</th>\n",
       "      <td>639.433214</td>\n",
       "      <td>0.000000</td>\n",
       "      <td>...</td>\n",
       "      <td>502.777975</td>\n",
       "      <td>2.935777</td>\n",
       "    </tr>\n",
       "    <tr>\n",
       "      <th>75%</th>\n",
       "      <td>842.336195</td>\n",
       "      <td>0.000000</td>\n",
       "      <td>...</td>\n",
       "      <td>721.351220</td>\n",
       "      <td>4.427843</td>\n",
       "    </tr>\n",
       "    <tr>\n",
       "      <th>max</th>\n",
       "      <td>1199.729004</td>\n",
       "      <td>1.000000</td>\n",
       "      <td>...</td>\n",
       "      <td>1902.901978</td>\n",
       "      <td>6.000000</td>\n",
       "    </tr>\n",
       "  </tbody>\n",
       "</table>\n",
       "<p>8 rows × 9 columns</p>\n",
       "</div>"
      ],
      "text/plain": [
       "       AvgTicketPrice     Cancelled  ...  FlightTimeMin     dayOfWeek\n",
       "count    13059.000000  13059.000000  ...   13059.000000  13059.000000\n",
       "mean       628.253689      0.128494  ...     511.127842      2.835975\n",
       "std        266.407061      0.334664  ...     334.766770      1.939513\n",
       "min        100.020531      0.000000  ...       0.000000      0.000000\n",
       "25%        411.154491      0.000000  ...     250.428538      1.058527\n",
       "50%        639.433214      0.000000  ...     502.777975      2.935777\n",
       "75%        842.336195      0.000000  ...     721.351220      4.427843\n",
       "max       1199.729004      1.000000  ...    1902.901978      6.000000\n",
       "\n",
       "[8 rows x 9 columns]"
      ]
     },
     "execution_count": 42,
     "metadata": {},
     "output_type": "execute_result"
    }
   ],
   "source": [
    "# NBVAL_IGNORE_OUTPUT\n",
    "ed_flights.describe()"
   ]
  },
  {
   "cell_type": "markdown",
   "metadata": {
    "id": "qDo76JgKNRFh"
   },
   "source": [
    "### DataFrame.info"
   ]
  },
  {
   "cell_type": "code",
   "execution_count": 43,
   "metadata": {
    "colab": {
     "base_uri": "https://localhost:8080/"
    },
    "execution": {
     "iopub.execute_input": "2023-09-20T14:02:05.545856Z",
     "iopub.status.busy": "2023-09-20T14:02:05.545501Z",
     "iopub.status.idle": "2023-09-20T14:02:05.595477Z",
     "shell.execute_reply": "2023-09-20T14:02:05.594890Z"
    },
    "id": "GvvfPrPdNRFh",
    "outputId": "ea8a7083-10db-4540-c8b9-a0b50802be11",
    "pycharm": {
     "is_executing": false
    }
   },
   "outputs": [
    {
     "name": "stdout",
     "output_type": "stream",
     "text": [
      "<class 'pandas.core.frame.DataFrame'>\n",
      "Index: 13059 entries, 0 to 13058\n",
      "Data columns (total 27 columns):\n",
      " #   Column              Non-Null Count  Dtype         \n",
      "---  ------              --------------  -----         \n",
      " 0   AvgTicketPrice      13059 non-null  float64       \n",
      " 1   Cancelled           13059 non-null  bool          \n",
      " 2   Carrier             13059 non-null  object        \n",
      " 3   Dest                13059 non-null  object        \n",
      " 4   DestAirportID       13059 non-null  object        \n",
      " 5   DestCityName        13059 non-null  object        \n",
      " 6   DestCountry         13059 non-null  object        \n",
      " 7   DestLocation        13059 non-null  object        \n",
      " 8   DestRegion          13059 non-null  object        \n",
      " 9   DestWeather         13059 non-null  object        \n",
      " 10  DistanceKilometers  13059 non-null  float64       \n",
      " 11  DistanceMiles       13059 non-null  float64       \n",
      " 12  FlightDelay         13059 non-null  bool          \n",
      " 13  FlightDelayMin      13059 non-null  int64         \n",
      " 14  FlightDelayType     13059 non-null  object        \n",
      " 15  FlightNum           13059 non-null  object        \n",
      " 16  FlightTimeHour      13059 non-null  float64       \n",
      " 17  FlightTimeMin       13059 non-null  float64       \n",
      " 18  Origin              13059 non-null  object        \n",
      " 19  OriginAirportID     13059 non-null  object        \n",
      " 20  OriginCityName      13059 non-null  object        \n",
      " 21  OriginCountry       13059 non-null  object        \n",
      " 22  OriginLocation      13059 non-null  object        \n",
      " 23  OriginRegion        13059 non-null  object        \n",
      " 24  OriginWeather       13059 non-null  object        \n",
      " 25  dayOfWeek           13059 non-null  int64         \n",
      " 26  timestamp           13059 non-null  datetime64[ns]\n",
      "dtypes: bool(2), datetime64[ns](1), float64(5), int64(2), object(17)\n",
      "memory usage: 3.1+ MB\n"
     ]
    }
   ],
   "source": [
    "pd_flights.info()"
   ]
  },
  {
   "cell_type": "code",
   "execution_count": 44,
   "metadata": {
    "colab": {
     "base_uri": "https://localhost:8080/"
    },
    "execution": {
     "iopub.execute_input": "2023-09-20T14:02:05.597876Z",
     "iopub.status.busy": "2023-09-20T14:02:05.597726Z",
     "iopub.status.idle": "2023-09-20T14:02:06.048885Z",
     "shell.execute_reply": "2023-09-20T14:02:06.048281Z"
    },
    "id": "ByVDPJXkNRFh",
    "outputId": "a82c77af-b00b-46eb-b79d-4a8e59d24321",
    "pycharm": {
     "is_executing": false
    }
   },
   "outputs": [
    {
     "name": "stdout",
     "output_type": "stream",
     "text": [
      "<class 'eland.dataframe.DataFrame'>\n",
      "Index: 13059 entries, 0 to 13058\n",
      "Data columns (total 27 columns):\n",
      " #   Column              Non-Null Count  Dtype         \n",
      "---  ------              --------------  -----         \n",
      " 0   AvgTicketPrice      13059 non-null  float64       \n",
      " 1   Cancelled           13059 non-null  bool          \n",
      " 2   Carrier             13059 non-null  object        \n",
      " 3   Dest                13059 non-null  object        \n",
      " 4   DestAirportID       13059 non-null  object        \n",
      " 5   DestCityName        13059 non-null  object        \n",
      " 6   DestCountry         13059 non-null  object        \n",
      " 7   DestLocation        13059 non-null  object        \n",
      " 8   DestRegion          13059 non-null  object        \n",
      " 9   DestWeather         13059 non-null  object        \n",
      " 10  DistanceKilometers  13059 non-null  float64       \n",
      " 11  DistanceMiles       13059 non-null  float64       \n",
      " 12  FlightDelay         13059 non-null  bool          \n",
      " 13  FlightDelayMin      13059 non-null  int64         \n",
      " 14  FlightDelayType     13059 non-null  object        \n",
      " 15  FlightNum           13059 non-null  object        \n",
      " 16  FlightTimeHour      13059 non-null  float64       \n",
      " 17  FlightTimeMin       13059 non-null  float64       \n",
      " 18  Origin              13059 non-null  object        \n",
      " 19  OriginAirportID     13059 non-null  object        \n",
      " 20  OriginCityName      13059 non-null  object        \n",
      " 21  OriginCountry       13059 non-null  object        \n",
      " 22  OriginLocation      13059 non-null  object        \n",
      " 23  OriginRegion        13059 non-null  object        \n",
      " 24  OriginWeather       13059 non-null  object        \n",
      " 25  dayOfWeek           13059 non-null  int64         \n",
      " 26  timestamp           13059 non-null  datetime64[ns]\n",
      "dtypes: bool(2), datetime64[ns](1), float64(5), int64(2), object(17)\n",
      "memory usage: 64.000 bytes\n",
      "Elasticsearch storage usage: 5.371 MB\n"
     ]
    }
   ],
   "source": [
    "ed_flights.info()"
   ]
  },
  {
   "cell_type": "markdown",
   "metadata": {
    "id": "nW0sRoI3NRFi"
   },
   "source": [
    "### DataFrame.max, DataFrame.min, DataFrame.mean, DataFrame.sum"
   ]
  },
  {
   "cell_type": "markdown",
   "metadata": {
    "id": "iMSuS3Q9NRFi"
   },
   "source": [
    "#### max"
   ]
  },
  {
   "cell_type": "code",
   "execution_count": 45,
   "metadata": {
    "colab": {
     "base_uri": "https://localhost:8080/"
    },
    "execution": {
     "iopub.execute_input": "2023-09-20T14:02:06.051514Z",
     "iopub.status.busy": "2023-09-20T14:02:06.051290Z",
     "iopub.status.idle": "2023-09-20T14:02:06.059490Z",
     "shell.execute_reply": "2023-09-20T14:02:06.059006Z"
    },
    "id": "a06G_BihNRFj",
    "outputId": "3664f80d-7535-49de-80c9-7e3d7bd4eaaf",
    "pycharm": {
     "is_executing": false
    }
   },
   "outputs": [
    {
     "data": {
      "text/plain": [
       "AvgTicketPrice         1199.729053\n",
       "Cancelled                     True\n",
       "DistanceKilometers    19881.482315\n",
       "DistanceMiles         12353.780369\n",
       "FlightDelay                   True\n",
       "FlightDelayMin                 360\n",
       "FlightTimeHour           31.715034\n",
       "FlightTimeMin          1902.902032\n",
       "dayOfWeek                        6\n",
       "dtype: object"
      ]
     },
     "execution_count": 45,
     "metadata": {},
     "output_type": "execute_result"
    }
   ],
   "source": [
    "pd_flights.max(numeric_only=True)"
   ]
  },
  {
   "cell_type": "markdown",
   "metadata": {
    "id": "a6F0YCOCNRFj"
   },
   "source": [
    "`eland.DataFrame.max,min,mean,sum` only aggregate numeric columns"
   ]
  },
  {
   "cell_type": "code",
   "execution_count": 46,
   "metadata": {
    "colab": {
     "base_uri": "https://localhost:8080/"
    },
    "execution": {
     "iopub.execute_input": "2023-09-20T14:02:06.062020Z",
     "iopub.status.busy": "2023-09-20T14:02:06.061868Z",
     "iopub.status.idle": "2023-09-20T14:02:06.081171Z",
     "shell.execute_reply": "2023-09-20T14:02:06.080696Z"
    },
    "id": "JG56E5IoNRFj",
    "outputId": "ea29eae1-435e-4a49-cb8f-a2c889e5fe26",
    "pycharm": {
     "is_executing": false
    }
   },
   "outputs": [
    {
     "data": {
      "text/plain": [
       "AvgTicketPrice         1199.729004\n",
       "Cancelled                 1.000000\n",
       "DistanceKilometers    19881.482422\n",
       "DistanceMiles         12353.780273\n",
       "FlightDelay               1.000000\n",
       "FlightDelayMin          360.000000\n",
       "FlightTimeHour           31.715034\n",
       "FlightTimeMin          1902.901978\n",
       "dayOfWeek                 6.000000\n",
       "dtype: float64"
      ]
     },
     "execution_count": 46,
     "metadata": {},
     "output_type": "execute_result"
    }
   ],
   "source": [
    "ed_flights.max(numeric_only=True)"
   ]
  },
  {
   "cell_type": "markdown",
   "metadata": {
    "id": "cigqPPNZNRFk"
   },
   "source": [
    "#### min"
   ]
  },
  {
   "cell_type": "code",
   "execution_count": 47,
   "metadata": {
    "colab": {
     "base_uri": "https://localhost:8080/"
    },
    "execution": {
     "iopub.execute_input": "2023-09-20T14:02:06.083416Z",
     "iopub.status.busy": "2023-09-20T14:02:06.083274Z",
     "iopub.status.idle": "2023-09-20T14:02:06.088986Z",
     "shell.execute_reply": "2023-09-20T14:02:06.088478Z"
    },
    "id": "jy4YPXvmNRFk",
    "outputId": "7a6b098d-c41e-418f-f164-09343021a3ba",
    "pycharm": {
     "is_executing": false
    }
   },
   "outputs": [
    {
     "data": {
      "text/plain": [
       "AvgTicketPrice        100.020528\n",
       "Cancelled                  False\n",
       "DistanceKilometers           0.0\n",
       "DistanceMiles                0.0\n",
       "FlightDelay                False\n",
       "FlightDelayMin                 0\n",
       "FlightTimeHour               0.0\n",
       "FlightTimeMin                0.0\n",
       "dayOfWeek                      0\n",
       "dtype: object"
      ]
     },
     "execution_count": 47,
     "metadata": {},
     "output_type": "execute_result"
    }
   ],
   "source": [
    "pd_flights.min(numeric_only=True)"
   ]
  },
  {
   "cell_type": "code",
   "execution_count": 48,
   "metadata": {
    "colab": {
     "base_uri": "https://localhost:8080/"
    },
    "execution": {
     "iopub.execute_input": "2023-09-20T14:02:06.091517Z",
     "iopub.status.busy": "2023-09-20T14:02:06.091189Z",
     "iopub.status.idle": "2023-09-20T14:02:06.107648Z",
     "shell.execute_reply": "2023-09-20T14:02:06.106656Z"
    },
    "id": "1n3xlYOuNRFk",
    "outputId": "c45953ef-4ddb-4d79-c517-b9b6e91cfba1",
    "pycharm": {
     "is_executing": false
    }
   },
   "outputs": [
    {
     "data": {
      "text/plain": [
       "AvgTicketPrice        100.020531\n",
       "Cancelled               0.000000\n",
       "DistanceKilometers      0.000000\n",
       "DistanceMiles           0.000000\n",
       "FlightDelay             0.000000\n",
       "FlightDelayMin          0.000000\n",
       "FlightTimeHour          0.000000\n",
       "FlightTimeMin           0.000000\n",
       "dayOfWeek               0.000000\n",
       "dtype: float64"
      ]
     },
     "execution_count": 48,
     "metadata": {},
     "output_type": "execute_result"
    }
   ],
   "source": [
    "ed_flights.min(numeric_only=True)"
   ]
  },
  {
   "cell_type": "markdown",
   "metadata": {
    "id": "PJuymQk-NRFl"
   },
   "source": [
    "#### mean"
   ]
  },
  {
   "cell_type": "code",
   "execution_count": 49,
   "metadata": {
    "colab": {
     "base_uri": "https://localhost:8080/"
    },
    "execution": {
     "iopub.execute_input": "2023-09-20T14:02:06.110533Z",
     "iopub.status.busy": "2023-09-20T14:02:06.110361Z",
     "iopub.status.idle": "2023-09-20T14:02:06.116665Z",
     "shell.execute_reply": "2023-09-20T14:02:06.116196Z"
    },
    "id": "Rcj9OfiaNRFl",
    "outputId": "5f71866c-bb52-41ef-e917-3706e4460a92",
    "pycharm": {
     "is_executing": false
    }
   },
   "outputs": [
    {
     "data": {
      "text/plain": [
       "AvgTicketPrice         628.253689\n",
       "Cancelled                0.128494\n",
       "DistanceKilometers    7092.142455\n",
       "DistanceMiles         4406.853013\n",
       "FlightDelay              0.251168\n",
       "FlightDelayMin          47.335171\n",
       "FlightTimeHour           8.518797\n",
       "FlightTimeMin          511.127842\n",
       "dayOfWeek                2.835975\n",
       "dtype: float64"
      ]
     },
     "execution_count": 49,
     "metadata": {},
     "output_type": "execute_result"
    }
   ],
   "source": [
    "pd_flights.mean(numeric_only=True)"
   ]
  },
  {
   "cell_type": "code",
   "execution_count": 50,
   "metadata": {
    "colab": {
     "base_uri": "https://localhost:8080/"
    },
    "execution": {
     "iopub.execute_input": "2023-09-20T14:02:06.121636Z",
     "iopub.status.busy": "2023-09-20T14:02:06.121307Z",
     "iopub.status.idle": "2023-09-20T14:02:06.160962Z",
     "shell.execute_reply": "2023-09-20T14:02:06.160290Z"
    },
    "id": "mNz42pJQNRFl",
    "outputId": "6562c924-d0b3-46e3-b492-726217fe0c08",
    "pycharm": {
     "is_executing": false
    }
   },
   "outputs": [
    {
     "data": {
      "text/plain": [
       "AvgTicketPrice         628.253689\n",
       "Cancelled                0.128494\n",
       "DistanceKilometers    7092.142457\n",
       "DistanceMiles         4406.853010\n",
       "FlightDelay              0.251168\n",
       "FlightDelayMin          47.335171\n",
       "FlightTimeHour           8.518797\n",
       "FlightTimeMin          511.127842\n",
       "dayOfWeek                2.835975\n",
       "dtype: float64"
      ]
     },
     "execution_count": 50,
     "metadata": {},
     "output_type": "execute_result"
    }
   ],
   "source": [
    "ed_flights.mean(numeric_only=True)"
   ]
  },
  {
   "cell_type": "markdown",
   "metadata": {
    "id": "deosSfnLNRFm"
   },
   "source": [
    "#### sum"
   ]
  },
  {
   "cell_type": "code",
   "execution_count": 51,
   "metadata": {
    "colab": {
     "base_uri": "https://localhost:8080/"
    },
    "execution": {
     "iopub.execute_input": "2023-09-20T14:02:06.163563Z",
     "iopub.status.busy": "2023-09-20T14:02:06.163243Z",
     "iopub.status.idle": "2023-09-20T14:02:06.170921Z",
     "shell.execute_reply": "2023-09-20T14:02:06.170300Z"
    },
    "id": "uKXh2waNNRFm",
    "outputId": "7816e3b3-5223-46a7-e814-0866ed68980e",
    "pycharm": {
     "is_executing": false
    }
   },
   "outputs": [
    {
     "data": {
      "text/plain": [
       "AvgTicketPrice        8.204365e+06\n",
       "Cancelled             1.678000e+03\n",
       "DistanceKilometers    9.261629e+07\n",
       "DistanceMiles         5.754909e+07\n",
       "FlightDelay           3.280000e+03\n",
       "FlightDelayMin        6.181500e+05\n",
       "FlightTimeHour        1.112470e+05\n",
       "FlightTimeMin         6.674818e+06\n",
       "dayOfWeek             3.703500e+04\n",
       "dtype: float64"
      ]
     },
     "execution_count": 51,
     "metadata": {},
     "output_type": "execute_result"
    }
   ],
   "source": [
    "pd_flights.sum(numeric_only=True)"
   ]
  },
  {
   "cell_type": "code",
   "execution_count": 52,
   "metadata": {
    "colab": {
     "base_uri": "https://localhost:8080/"
    },
    "execution": {
     "iopub.execute_input": "2023-09-20T14:02:06.173681Z",
     "iopub.status.busy": "2023-09-20T14:02:06.173491Z",
     "iopub.status.idle": "2023-09-20T14:02:06.203837Z",
     "shell.execute_reply": "2023-09-20T14:02:06.203200Z"
    },
    "id": "ecX1LL0KNRFn",
    "outputId": "018674e7-f21c-441e-9bc3-9403298a9b58",
    "pycharm": {
     "is_executing": false
    }
   },
   "outputs": [
    {
     "data": {
      "text/plain": [
       "AvgTicketPrice        8.204365e+06\n",
       "Cancelled             1.678000e+03\n",
       "DistanceKilometers    9.261629e+07\n",
       "DistanceMiles         5.754909e+07\n",
       "FlightDelay           3.280000e+03\n",
       "FlightDelayMin        6.181500e+05\n",
       "FlightTimeHour        1.112470e+05\n",
       "FlightTimeMin         6.674818e+06\n",
       "dayOfWeek             3.703500e+04\n",
       "dtype: float64"
      ]
     },
     "execution_count": 52,
     "metadata": {},
     "output_type": "execute_result"
    }
   ],
   "source": [
    "ed_flights.sum(numeric_only=True)"
   ]
  },
  {
   "cell_type": "markdown",
   "metadata": {
    "id": "BPd8ae8SNRFn"
   },
   "source": [
    "### DataFrame.nunique"
   ]
  },
  {
   "cell_type": "code",
   "execution_count": 53,
   "metadata": {
    "colab": {
     "base_uri": "https://localhost:8080/"
    },
    "execution": {
     "iopub.execute_input": "2023-09-20T14:02:06.206298Z",
     "iopub.status.busy": "2023-09-20T14:02:06.206155Z",
     "iopub.status.idle": "2023-09-20T14:02:06.216478Z",
     "shell.execute_reply": "2023-09-20T14:02:06.215911Z"
    },
    "id": "H0_EAT-jNRFn",
    "outputId": "0454d008-5c47-4619-abdc-794cc5aed84b",
    "pycharm": {
     "is_executing": false
    }
   },
   "outputs": [
    {
     "data": {
      "text/plain": [
       "Carrier      4\n",
       "Origin     156\n",
       "Dest       156\n",
       "dtype: int64"
      ]
     },
     "execution_count": 53,
     "metadata": {},
     "output_type": "execute_result"
    }
   ],
   "source": [
    "pd_flights[['Carrier', 'Origin', 'Dest']].nunique()"
   ]
  },
  {
   "cell_type": "code",
   "execution_count": 54,
   "metadata": {
    "colab": {
     "base_uri": "https://localhost:8080/"
    },
    "execution": {
     "iopub.execute_input": "2023-09-20T14:02:06.218995Z",
     "iopub.status.busy": "2023-09-20T14:02:06.218802Z",
     "iopub.status.idle": "2023-09-20T14:02:06.246898Z",
     "shell.execute_reply": "2023-09-20T14:02:06.246363Z"
    },
    "id": "J7Y3r7BRNRFn",
    "outputId": "d276d996-c0df-431b-adf3-635a3054becf",
    "pycharm": {
     "is_executing": false
    }
   },
   "outputs": [
    {
     "data": {
      "text/plain": [
       "Carrier      4\n",
       "Origin     156\n",
       "Dest       156\n",
       "dtype: int64"
      ]
     },
     "execution_count": 54,
     "metadata": {},
     "output_type": "execute_result"
    }
   ],
   "source": [
    "ed_flights[['Carrier', 'Origin', 'Dest']].nunique()"
   ]
  },
  {
   "cell_type": "markdown",
   "metadata": {
    "id": "OpLeL6gpNRFo"
   },
   "source": [
    "### DataFrame.drop"
   ]
  },
  {
   "cell_type": "code",
   "execution_count": 55,
   "metadata": {
    "colab": {
     "base_uri": "https://localhost:8080/",
     "height": 424
    },
    "execution": {
     "iopub.execute_input": "2023-09-20T14:02:06.249245Z",
     "iopub.status.busy": "2023-09-20T14:02:06.249106Z",
     "iopub.status.idle": "2023-09-20T14:02:06.276185Z",
     "shell.execute_reply": "2023-09-20T14:02:06.275634Z"
    },
    "id": "xkGjF6p8NRFo",
    "outputId": "79c21349-0fce-46fa-9348-5a71a288a5b7",
    "pycharm": {
     "is_executing": false
    }
   },
   "outputs": [
    {
     "data": {
      "text/html": [
       "<div>\n",
       "<style scoped>\n",
       "    .dataframe tbody tr th:only-of-type {\n",
       "        vertical-align: middle;\n",
       "    }\n",
       "\n",
       "    .dataframe tbody tr th {\n",
       "        vertical-align: top;\n",
       "    }\n",
       "\n",
       "    .dataframe thead th {\n",
       "        text-align: right;\n",
       "    }\n",
       "</style>\n",
       "<table border=\"1\" class=\"dataframe\">\n",
       "  <thead>\n",
       "    <tr style=\"text-align: right;\">\n",
       "      <th></th>\n",
       "      <th>Carrier</th>\n",
       "      <th>DestRegion</th>\n",
       "      <th>...</th>\n",
       "      <th>dayOfWeek</th>\n",
       "      <th>timestamp</th>\n",
       "    </tr>\n",
       "  </thead>\n",
       "  <tbody>\n",
       "    <tr>\n",
       "      <th>0</th>\n",
       "      <td>Kibana Airlines</td>\n",
       "      <td>SE-BD</td>\n",
       "      <td>...</td>\n",
       "      <td>0</td>\n",
       "      <td>2018-01-01 00:00:00</td>\n",
       "    </tr>\n",
       "    <tr>\n",
       "      <th>1</th>\n",
       "      <td>Logstash Airways</td>\n",
       "      <td>IT-34</td>\n",
       "      <td>...</td>\n",
       "      <td>0</td>\n",
       "      <td>2018-01-01 18:27:00</td>\n",
       "    </tr>\n",
       "    <tr>\n",
       "      <th>2</th>\n",
       "      <td>Logstash Airways</td>\n",
       "      <td>IT-34</td>\n",
       "      <td>...</td>\n",
       "      <td>0</td>\n",
       "      <td>2018-01-01 17:11:14</td>\n",
       "    </tr>\n",
       "    <tr>\n",
       "      <th>3</th>\n",
       "      <td>Kibana Airlines</td>\n",
       "      <td>IT-34</td>\n",
       "      <td>...</td>\n",
       "      <td>0</td>\n",
       "      <td>2018-01-01 10:33:28</td>\n",
       "    </tr>\n",
       "    <tr>\n",
       "      <th>4</th>\n",
       "      <td>Kibana Airlines</td>\n",
       "      <td>SE-BD</td>\n",
       "      <td>...</td>\n",
       "      <td>0</td>\n",
       "      <td>2018-01-01 05:13:00</td>\n",
       "    </tr>\n",
       "    <tr>\n",
       "      <th>...</th>\n",
       "      <td>...</td>\n",
       "      <td>...</td>\n",
       "      <td>...</td>\n",
       "      <td>...</td>\n",
       "      <td>...</td>\n",
       "    </tr>\n",
       "    <tr>\n",
       "      <th>13054</th>\n",
       "      <td>Logstash Airways</td>\n",
       "      <td>SE-BD</td>\n",
       "      <td>...</td>\n",
       "      <td>6</td>\n",
       "      <td>2018-02-11 20:42:25</td>\n",
       "    </tr>\n",
       "    <tr>\n",
       "      <th>13055</th>\n",
       "      <td>Logstash Airways</td>\n",
       "      <td>CH-ZH</td>\n",
       "      <td>...</td>\n",
       "      <td>6</td>\n",
       "      <td>2018-02-11 01:41:57</td>\n",
       "    </tr>\n",
       "    <tr>\n",
       "      <th>13056</th>\n",
       "      <td>Logstash Airways</td>\n",
       "      <td>RU-AMU</td>\n",
       "      <td>...</td>\n",
       "      <td>6</td>\n",
       "      <td>2018-02-11 04:09:27</td>\n",
       "    </tr>\n",
       "    <tr>\n",
       "      <th>13057</th>\n",
       "      <td>JetBeats</td>\n",
       "      <td>SE-BD</td>\n",
       "      <td>...</td>\n",
       "      <td>6</td>\n",
       "      <td>2018-02-11 08:28:21</td>\n",
       "    </tr>\n",
       "    <tr>\n",
       "      <th>13058</th>\n",
       "      <td>JetBeats</td>\n",
       "      <td>US-DC</td>\n",
       "      <td>...</td>\n",
       "      <td>6</td>\n",
       "      <td>2018-02-11 14:54:34</td>\n",
       "    </tr>\n",
       "  </tbody>\n",
       "</table>\n",
       "<p>13059 rows × 20 columns</p>\n",
       "</div>"
      ],
      "text/plain": [
       "                Carrier DestRegion  ... dayOfWeek           timestamp\n",
       "0       Kibana Airlines      SE-BD  ...         0 2018-01-01 00:00:00\n",
       "1      Logstash Airways      IT-34  ...         0 2018-01-01 18:27:00\n",
       "2      Logstash Airways      IT-34  ...         0 2018-01-01 17:11:14\n",
       "3       Kibana Airlines      IT-34  ...         0 2018-01-01 10:33:28\n",
       "4       Kibana Airlines      SE-BD  ...         0 2018-01-01 05:13:00\n",
       "...                 ...        ...  ...       ...                 ...\n",
       "13054  Logstash Airways      SE-BD  ...         6 2018-02-11 20:42:25\n",
       "13055  Logstash Airways      CH-ZH  ...         6 2018-02-11 01:41:57\n",
       "13056  Logstash Airways     RU-AMU  ...         6 2018-02-11 04:09:27\n",
       "13057          JetBeats      SE-BD  ...         6 2018-02-11 08:28:21\n",
       "13058          JetBeats      US-DC  ...         6 2018-02-11 14:54:34\n",
       "\n",
       "[13059 rows x 20 columns]"
      ]
     },
     "execution_count": 55,
     "metadata": {},
     "output_type": "execute_result"
    }
   ],
   "source": [
    "pd_flights.drop(columns=['AvgTicketPrice',\n",
    "                         'Cancelled',\n",
    "                         'DestLocation',\n",
    "                         'Dest',\n",
    "                         'DestAirportID',\n",
    "                         'DestCityName',\n",
    "                         'DestCountry'])"
   ]
  },
  {
   "cell_type": "code",
   "execution_count": 56,
   "metadata": {
    "colab": {
     "base_uri": "https://localhost:8080/",
     "height": 424
    },
    "execution": {
     "iopub.execute_input": "2023-09-20T14:02:06.278535Z",
     "iopub.status.busy": "2023-09-20T14:02:06.278379Z",
     "iopub.status.idle": "2023-09-20T14:02:07.015831Z",
     "shell.execute_reply": "2023-09-20T14:02:07.015162Z"
    },
    "id": "dXLW2KyXNRFo",
    "outputId": "3c01ff75-cd2d-4270-a0ba-3561162d72dd",
    "pycharm": {
     "is_executing": false
    }
   },
   "outputs": [
    {
     "data": {
      "text/html": [
       "<div>\n",
       "<style scoped>\n",
       "    .dataframe tbody tr th:only-of-type {\n",
       "        vertical-align: middle;\n",
       "    }\n",
       "\n",
       "    .dataframe tbody tr th {\n",
       "        vertical-align: top;\n",
       "    }\n",
       "\n",
       "    .dataframe thead th {\n",
       "        text-align: right;\n",
       "    }\n",
       "</style>\n",
       "<table border=\"1\" class=\"dataframe\">\n",
       "  <thead>\n",
       "    <tr style=\"text-align: right;\">\n",
       "      <th></th>\n",
       "      <th>Carrier</th>\n",
       "      <th>DestRegion</th>\n",
       "      <th>...</th>\n",
       "      <th>dayOfWeek</th>\n",
       "      <th>timestamp</th>\n",
       "    </tr>\n",
       "  </thead>\n",
       "  <tbody>\n",
       "    <tr>\n",
       "      <th>0</th>\n",
       "      <td>Kibana Airlines</td>\n",
       "      <td>SE-BD</td>\n",
       "      <td>...</td>\n",
       "      <td>0</td>\n",
       "      <td>2018-01-01 00:00:00</td>\n",
       "    </tr>\n",
       "    <tr>\n",
       "      <th>1</th>\n",
       "      <td>Logstash Airways</td>\n",
       "      <td>IT-34</td>\n",
       "      <td>...</td>\n",
       "      <td>0</td>\n",
       "      <td>2018-01-01 18:27:00</td>\n",
       "    </tr>\n",
       "    <tr>\n",
       "      <th>2</th>\n",
       "      <td>Logstash Airways</td>\n",
       "      <td>IT-34</td>\n",
       "      <td>...</td>\n",
       "      <td>0</td>\n",
       "      <td>2018-01-01 17:11:14</td>\n",
       "    </tr>\n",
       "    <tr>\n",
       "      <th>3</th>\n",
       "      <td>Kibana Airlines</td>\n",
       "      <td>IT-34</td>\n",
       "      <td>...</td>\n",
       "      <td>0</td>\n",
       "      <td>2018-01-01 10:33:28</td>\n",
       "    </tr>\n",
       "    <tr>\n",
       "      <th>4</th>\n",
       "      <td>Kibana Airlines</td>\n",
       "      <td>SE-BD</td>\n",
       "      <td>...</td>\n",
       "      <td>0</td>\n",
       "      <td>2018-01-01 05:13:00</td>\n",
       "    </tr>\n",
       "    <tr>\n",
       "      <th>...</th>\n",
       "      <td>...</td>\n",
       "      <td>...</td>\n",
       "      <td>...</td>\n",
       "      <td>...</td>\n",
       "      <td>...</td>\n",
       "    </tr>\n",
       "    <tr>\n",
       "      <th>13054</th>\n",
       "      <td>Logstash Airways</td>\n",
       "      <td>SE-BD</td>\n",
       "      <td>...</td>\n",
       "      <td>6</td>\n",
       "      <td>2018-02-11 20:42:25</td>\n",
       "    </tr>\n",
       "    <tr>\n",
       "      <th>13055</th>\n",
       "      <td>Logstash Airways</td>\n",
       "      <td>CH-ZH</td>\n",
       "      <td>...</td>\n",
       "      <td>6</td>\n",
       "      <td>2018-02-11 01:41:57</td>\n",
       "    </tr>\n",
       "    <tr>\n",
       "      <th>13056</th>\n",
       "      <td>Logstash Airways</td>\n",
       "      <td>RU-AMU</td>\n",
       "      <td>...</td>\n",
       "      <td>6</td>\n",
       "      <td>2018-02-11 04:09:27</td>\n",
       "    </tr>\n",
       "    <tr>\n",
       "      <th>13057</th>\n",
       "      <td>JetBeats</td>\n",
       "      <td>SE-BD</td>\n",
       "      <td>...</td>\n",
       "      <td>6</td>\n",
       "      <td>2018-02-11 08:28:21</td>\n",
       "    </tr>\n",
       "    <tr>\n",
       "      <th>13058</th>\n",
       "      <td>JetBeats</td>\n",
       "      <td>US-DC</td>\n",
       "      <td>...</td>\n",
       "      <td>6</td>\n",
       "      <td>2018-02-11 14:54:34</td>\n",
       "    </tr>\n",
       "  </tbody>\n",
       "</table>\n",
       "</div>\n",
       "<p>13059 rows × 20 columns</p>"
      ],
      "text/plain": [
       "                Carrier DestRegion  ... dayOfWeek           timestamp\n",
       "0       Kibana Airlines      SE-BD  ...         0 2018-01-01 00:00:00\n",
       "1      Logstash Airways      IT-34  ...         0 2018-01-01 18:27:00\n",
       "2      Logstash Airways      IT-34  ...         0 2018-01-01 17:11:14\n",
       "3       Kibana Airlines      IT-34  ...         0 2018-01-01 10:33:28\n",
       "4       Kibana Airlines      SE-BD  ...         0 2018-01-01 05:13:00\n",
       "...                 ...        ...  ...       ...                 ...\n",
       "13054  Logstash Airways      SE-BD  ...         6 2018-02-11 20:42:25\n",
       "13055  Logstash Airways      CH-ZH  ...         6 2018-02-11 01:41:57\n",
       "13056  Logstash Airways     RU-AMU  ...         6 2018-02-11 04:09:27\n",
       "13057          JetBeats      SE-BD  ...         6 2018-02-11 08:28:21\n",
       "13058          JetBeats      US-DC  ...         6 2018-02-11 14:54:34\n",
       "\n",
       "[13059 rows x 20 columns]"
      ]
     },
     "execution_count": 56,
     "metadata": {},
     "output_type": "execute_result"
    }
   ],
   "source": [
    "ed_flights.drop(columns=['AvgTicketPrice',\n",
    "                         'Cancelled',\n",
    "                         'DestLocation',\n",
    "                         'Dest',\n",
    "                         'DestAirportID',\n",
    "                         'DestCityName',\n",
    "                         'DestCountry'])"
   ]
  },
  {
   "cell_type": "markdown",
   "metadata": {
    "id": "g79LTpPBNRFp"
   },
   "source": [
    "### Plotting"
   ]
  },
  {
   "cell_type": "code",
   "execution_count": 57,
   "metadata": {
    "colab": {
     "base_uri": "https://localhost:8080/",
     "height": 853
    },
    "execution": {
     "iopub.execute_input": "2023-09-20T14:02:07.019059Z",
     "iopub.status.busy": "2023-09-20T14:02:07.018885Z",
     "iopub.status.idle": "2023-09-20T14:02:07.851593Z",
     "shell.execute_reply": "2023-09-20T14:02:07.851086Z"
    },
    "id": "0NVvSP02NRFp",
    "outputId": "f9448a9c-dfd5-4a9a-b44a-3cd878d182d4",
    "pycharm": {
     "is_executing": false
    }
   },
   "outputs": [
    {
     "data": {
      "image/png": "[encoded data removed]",
      "text/plain": [
       "<Figure size 1000x1000 with 9 Axes>"
      ]
     },
     "metadata": {},
     "output_type": "display_data"
    }
   ],
   "source": [
    "pd_flights.select_dtypes(include=np.number).hist(figsize=[10,10])\n",
    "plt.show()"
   ]
  },
  {
   "cell_type": "code",
   "execution_count": 58,
   "metadata": {
    "colab": {
     "base_uri": "https://localhost:8080/",
     "height": 853
    },
    "execution": {
     "iopub.execute_input": "2023-09-20T14:02:07.854642Z",
     "iopub.status.busy": "2023-09-20T14:02:07.854304Z",
     "iopub.status.idle": "2023-09-20T14:02:08.800706Z",
     "shell.execute_reply": "2023-09-20T14:02:08.800146Z"
    },
    "id": "VylFZ0feNRFp",
    "outputId": "c00faf49-2d41-4dac-dcfe-54d136dbe40e",
    "pycharm": {
     "is_executing": false
    }
   },
   "outputs": [
    {
     "data": {
      "image/png": "[encoded data removed]",
      "text/plain": [
       "<Figure size 1000x1000 with 9 Axes>"
      ]
     },
     "metadata": {},
     "output_type": "display_data"
    }
   ],
   "source": [
    "ed_flights.select_dtypes(include=np.number).hist(figsize=[10,10])\n",
    "plt.show()"
   ]
  },
  {
   "cell_type": "markdown",
   "metadata": {
    "id": "dCy_h-vONRFq"
   },
   "source": [
    "### Elasticsearch utilities"
   ]
  },
  {
   "cell_type": "code",
   "execution_count": 59,
   "metadata": {
    "execution": {
     "iopub.execute_input": "2023-09-20T14:02:08.803080Z",
     "iopub.status.busy": "2023-09-20T14:02:08.802875Z",
     "iopub.status.idle": "2023-09-20T14:02:08.812787Z",
     "shell.execute_reply": "2023-09-20T14:02:08.812291Z"
    },
    "id": "IYKn-Uz2NRFr",
    "pycharm": {
     "is_executing": false
    }
   },
   "outputs": [],
   "source": [
    "ed_flights2 = ed_flights[(ed_flights.OriginAirportID == 'AMS') & (ed_flights.FlightDelayMin > 60)]\n",
    "ed_flights2 = ed_flights2[['timestamp', 'OriginAirportID', 'DestAirportID', 'FlightDelayMin']]\n",
    "ed_flights2 = ed_flights2.tail()"
   ]
  },
  {
   "cell_type": "code",
   "execution_count": 60,
   "metadata": {
    "colab": {
     "base_uri": "https://localhost:8080/"
    },
    "execution": {
     "iopub.execute_input": "2023-09-20T14:02:08.815167Z",
     "iopub.status.busy": "2023-09-20T14:02:08.814975Z",
     "iopub.status.idle": "2023-09-20T14:02:08.820513Z",
     "shell.execute_reply": "2023-09-20T14:02:08.820065Z"
    },
    "id": "hks1CjV0NRFr",
    "outputId": "f7c37cb8-44e5-4335-e860-4cf48a848a78",
    "pycharm": {
     "is_executing": false
    }
   },
   "outputs": [
    {
     "name": "stdout",
     "output_type": "stream",
     "text": [
      "es_index_pattern: flights\n",
      "Index:\n",
      " es_index_field: _id\n",
      " is_source_field: False\n",
      "Mappings:\n",
      " capabilities:\n",
      "                   es_field_name  is_source es_dtype                  es_date_format        pd_dtype  is_searchable  is_aggregatable  is_scripted aggregatable_es_field_name\n",
      "timestamp              timestamp       True     date  strict_date_hour_minute_second  datetime64[ns]           True             True        False                  timestamp\n",
      "OriginAirportID  OriginAirportID       True  keyword                            None          object           True             True        False            OriginAirportID\n",
      "DestAirportID      DestAirportID       True  keyword                            None          object           True             True        False              DestAirportID\n",
      "FlightDelayMin    FlightDelayMin       True  integer                            None           int64           True             True        False             FlightDelayMin\n",
      "Operations:\n",
      " tasks: [('boolean_filter': ('boolean_filter': {'bool': {'must': [{'term': {'OriginAirportID': 'AMS'}}, {'range': {'FlightDelayMin': {'gt': 60}}}]}})), ('tail': ('sort_field': '_doc', 'count': 5))]\n",
      " size: 5\n",
      " sort_params: {'_doc': 'desc'}\n",
      " _source: ['timestamp', 'OriginAirportID', 'DestAirportID', 'FlightDelayMin']\n",
      " body: {'query': {'bool': {'must': [{'term': {'OriginAirportID': 'AMS'}}, {'range': {'FlightDelayMin': {'gt': 60}}}]}}}\n",
      " post_processing: [('sort_index')]\n",
      "\n"
     ]
    }
   ],
   "source": [
    "print(ed_flights2.es_info())"
   ]
  }
 ],
 "metadata": {
  "colab": {
   "provenance": []
  },
  "kernelspec": {
   "display_name": "Python 3",
   "language": "python",
   "name": "python3"
  },
  "language_info": {
   "codemirror_mode": {
    "name": "ipython",
    "version": 3
   },
   "file_extension": ".py",
   "mimetype": "text/x-python",
   "name": "python",
   "nbconvert_exporter": "python",
   "pygments_lexer": "ipython3",
   "version": "3.10.13"
  },
  "pycharm": {
   "stem_cell": {
    "cell_type": "raw",
    "metadata": {
     "collapsed": false
    },
    "source": []
   }
  }
 },
 "nbformat": 4,
 "nbformat_minor": 0
}
